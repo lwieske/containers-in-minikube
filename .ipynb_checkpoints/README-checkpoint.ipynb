{
 "cells": [
  {
   "cell_type": "markdown",
   "id": "faf29bc3",
   "metadata": {},
   "source": [
    "# Some Demonstrations with Minikube and Containers"
   ]
  },
  {
   "cell_type": "markdown",
   "id": "64d5a773",
   "metadata": {},
   "source": [
    "## Cleaning Up"
   ]
  },
  {
   "cell_type": "markdown",
   "id": "d6ee70ab",
   "metadata": {},
   "source": [
    "First, the traces of former executions of  *minikube* are eliminated, the cluster itself (stop, delete) and further initialization steps in the cache directory to establish a clean base."
   ]
  },
  {
   "cell_type": "code",
   "execution_count": 1,
   "id": "ff9a1315",
   "metadata": {},
   "outputs": [
    {
     "name": "stdout",
     "output_type": "stream",
     "text": [
      "✋  Stopping node \"minikube\"  ...\n",
      "🛑  minikube\" wird über SSH ausgeschaltet...\n",
      "🛑  1 nodes stopped.\n",
      "🔥  minikube\" in docker wird gelöscht...\n",
      "🔥  Deleting container \"minikube\" ...\n",
      "🔥  /Users/lothar/.minikube/machines/minikube wird entfernt...\n",
      "💀  Removed all traces of the \"minikube\" cluster.\n"
     ]
    }
   ],
   "source": [
    "!minikube stop ; minikube delete ; rm -rf ~/.minikube/cache"
   ]
  },
  {
   "cell_type": "markdown",
   "id": "797d281b",
   "metadata": {},
   "source": [
    "Second, formerly built podman images will be deleted as well."
   ]
  },
  {
   "cell_type": "code",
   "execution_count": 2,
   "id": "0cc57c1f",
   "metadata": {},
   "outputs": [
    {
     "name": "stdout",
     "output_type": "stream",
     "text": [
      "Error: image name or ID must be specified\r\n"
     ]
    }
   ],
   "source": [
    "!podman rmi $(podman images -qa) -f"
   ]
  },
  {
   "cell_type": "markdown",
   "id": "64511357",
   "metadata": {},
   "source": [
    "'Error: image name or ID must be specified' indicates that the cache has bees empty before."
   ]
  },
  {
   "cell_type": "code",
   "execution_count": 3,
   "id": "e1e23371",
   "metadata": {},
   "outputs": [],
   "source": [
    "!rm -rf alpine"
   ]
  },
  {
   "cell_type": "code",
   "execution_count": 4,
   "id": "0081865b",
   "metadata": {},
   "outputs": [],
   "source": [
    "!rm -rf helloworld"
   ]
  },
  {
   "cell_type": "markdown",
   "id": "774fe821",
   "metadata": {},
   "source": [
    "## Start The First Cluster"
   ]
  },
  {
   "cell_type": "code",
   "execution_count": 5,
   "id": "0219f950",
   "metadata": {},
   "outputs": [
    {
     "name": "stdout",
     "output_type": "stream",
     "text": [
      "😄  minikube v1.23.0 auf Darwin 11.5.2\n",
      "✨  Automatically selected the docker driver. Other choices: hyperkit, virtualbox, ssh, podman (experimental)\n",
      "👍  Starting control plane node minikube in cluster minikube\n",
      "🚜  Pulling base image ...\n",
      "💾  Downloading Kubernetes v1.22.1 preload ...\n",
      "    > preloaded-images-k8s-v12-v1...: 515.04 MiB / 515.04 MiB  100.00% 6.19 MiB\n",
      "🔥  Creating docker container (CPUs=2, Memory=1987MB) ...\u001b[K\u001b[K\u001b[K\u001b[K\u001b[K\u001b[K\u001b[K\u001b[K\u001b[K\u001b[K\u001b[K\u001b[K\u001b[K\u001b[K\u001b[K\u001b[K\u001b[K\u001b[K\u001b[K\u001b[K\u001b[K\u001b[K\u001b[K\u001b[K\u001b[K\u001b[K\u001b[K\u001b[K\u001b[K\u001b[K\u001b[K\u001b[K\u001b[K\u001b[K\u001b[K\u001b[K\u001b[K\u001b[K\u001b[K\u001b[K\u001b[K\u001b[K\u001b[K\u001b[K\u001b[K\u001b[K\u001b[K\u001b[K\u001b[K\u001b[K\u001b[K\u001b[K\u001b[K\u001b[K\u001b[K\u001b[K\u001b[K\u001b[K\u001b[K\u001b[K\u001b[K\u001b[K\u001b[K\u001b[K\u001b[K\u001b[K\u001b[K\u001b[K\u001b[K\u001b[K\u001b[K\u001b[K\u001b[K\u001b[K\u001b[K\u001b[K\u001b[K\u001b[K\u001b[K\u001b[K\u001b[K\u001b[K\u001b[K\u001b[K\u001b[K\u001b[K\u001b[K\u001b[K\u001b[K\u001b[K\u001b[K\u001b[K\u001b[K\u001b[K\u001b[K\u001b[K\u001b[K\u001b[K\u001b[K\u001b[K\u001b[K\u001b[K\u001b[K\u001b[K\u001b[K\u001b[K\u001b[K\u001b[K\u001b[K\u001b[K\u001b[K\u001b[K\u001b[K\u001b[K\u001b[K\u001b[K\u001b[K\u001b[K\u001b[K\u001b[K\u001b[K\u001b[K\u001b[K\u001b[K\u001b[K\u001b[K\u001b[K\u001b[K\u001b[K\u001b[K\u001b[K\u001b[K\u001b[K\u001b[K\u001b[K\u001b[K\u001b[K\u001b[K\u001b[K\u001b[K\u001b[K\u001b[K\u001b[K\u001b[K\u001b[K\u001b[K\u001b[K\u001b[K\u001b[K\u001b[K\u001b[K\u001b[K\u001b[K\u001b[K\u001b[K\u001b[K\u001b[K\u001b[K\u001b[K\u001b[K\u001b[K\u001b[K\u001b[K\u001b[K\u001b[K\u001b[K\u001b[K\u001b[K\u001b[K\u001b[K\u001b[K\u001b[K\u001b[K\u001b[K\u001b[K\u001b[K\u001b[K\u001b[K\u001b[K\u001b[K\u001b[K\u001b[K\u001b[K\u001b[K\u001b[K\u001b[K\u001b[K\u001b[K\u001b[K\u001b[K\u001b[K\u001b[K\u001b[K\u001b[K\u001b[K\u001b[K\u001b[K\u001b[K\u001b[K\u001b[K\u001b[K\u001b[K\u001b[K\u001b[K\u001b[K\u001b[K\u001b[K\u001b[K\u001b[K\u001b[K\u001b[K\u001b[K\u001b[K\u001b[K\u001b[K\u001b[K\u001b[K\u001b[K\u001b[K\u001b[K\u001b[K\u001b[K\u001b[K\u001b[K\u001b[K\u001b[K\u001b[K\u001b[K\u001b[K\u001b[K\u001b[K\u001b[K\u001b[K\u001b[K\u001b[K\u001b[K\u001b[K\u001b[K\u001b[K\u001b[K\u001b[K\u001b[K\u001b[K\u001b[K\u001b[K\u001b[K\u001b[K\u001b[K\u001b[K\u001b[K\u001b[K\u001b[K\u001b[K\u001b[K\u001b[K\u001b[K\u001b[K\u001b[K\u001b[K\u001b[K\u001b[K\u001b[K\u001b[K\u001b[K\u001b[K\u001b[K\u001b[K\u001b[K\u001b[K\u001b[K\u001b[K\u001b[K\u001b[K\u001b[K\u001b[K\u001b[K\u001b[K\u001b[K\u001b[K\u001b[K\u001b[K\u001b[K\u001b[K\u001b[K\u001b[K\u001b[K\u001b[K\u001b[K\u001b[K\u001b[K\u001b[K\u001b[K\u001b[K\u001b[K\u001b[K\u001b[K\u001b[K\u001b[K\u001b[K\u001b[K\u001b[K\u001b[K\u001b[K\u001b[K\u001b[K\u001b[K\u001b[K\u001b[K\u001b[K\u001b[K\u001b[K\u001b[K\u001b[K\u001b[K\n",
      "🐳  Vorbereiten von Kubernetes v1.22.1 auf Docker 20.10.8...\u001b[K\u001b[K\u001b[K\u001b[K\u001b[K\u001b[K\u001b[K\u001b[K\u001b[K\u001b[K\u001b[K\u001b[K\u001b[K\u001b[K\u001b[K\u001b[K\u001b[K\u001b[K\u001b[K\u001b[K\u001b[K\u001b[K\u001b[K\u001b[K\u001b[K\u001b[K\u001b[K\u001b[K\u001b[K\u001b[K\u001b[K\u001b[K\u001b[K\u001b[K\u001b[K\u001b[K\u001b[K\u001b[K\u001b[K\u001b[K\u001b[K\u001b[K\u001b[K\u001b[K\u001b[K\u001b[K\u001b[K\u001b[K\u001b[K\u001b[K\u001b[K\u001b[K\u001b[K\u001b[K\n",
      "    ▪ Generating certificates and keys ...\u001b[K\u001b[K\u001b[K\u001b[K\u001b[K\u001b[K\u001b[K\u001b[K\u001b[K\u001b[K\u001b[K\u001b[K\u001b[K\u001b[K\u001b[K\u001b[K\u001b[K\u001b[K\u001b[K\u001b[K\u001b[K\u001b[K\u001b[K\u001b[K\u001b[K\u001b[K\u001b[K\u001b[K\u001b[K\u001b[K\u001b[K\u001b[K\u001b[K\u001b[K\u001b[K\u001b[K\u001b[K\u001b[K\u001b[K\u001b[K\u001b[K\u001b[K\u001b[K\u001b[K\u001b[K\u001b[K\u001b[K\u001b[K\u001b[K\u001b[K\u001b[K\u001b[K\u001b[K\u001b[K\u001b[K\u001b[K\u001b[K\u001b[K\u001b[K\u001b[K\u001b[K\u001b[K\u001b[K\u001b[K\u001b[K\u001b[K\u001b[K\u001b[K\u001b[K\u001b[K\u001b[K\u001b[K\n",
      "    ▪ Booting up control plane ...\u001b[K\u001b[K\u001b[K\u001b[K\u001b[K\u001b[K\u001b[K\u001b[K\u001b[K\u001b[K\u001b[K\u001b[K\u001b[K\u001b[K\u001b[K\u001b[K\u001b[K\u001b[K\u001b[K\u001b[K\u001b[K\u001b[K\u001b[K\u001b[K\u001b[K\u001b[K\u001b[K\u001b[K\u001b[K\u001b[K\u001b[K\u001b[K\u001b[K\u001b[K\u001b[K\u001b[K\u001b[K\u001b[K\u001b[K\u001b[K\u001b[K\u001b[K\u001b[K\u001b[K\u001b[K\u001b[K\u001b[K\u001b[K\u001b[K\u001b[K\u001b[K\u001b[K\u001b[K\u001b[K\u001b[K\u001b[K\u001b[K\u001b[K\u001b[K\u001b[K\u001b[K\u001b[K\u001b[K\u001b[K\u001b[K\u001b[K\u001b[K\u001b[K\u001b[K\u001b[K\u001b[K\u001b[K\u001b[K\u001b[K\u001b[K\u001b[K\u001b[K\u001b[K\u001b[K\u001b[K\u001b[K\u001b[K\u001b[K\u001b[K\u001b[K\u001b[K\u001b[K\u001b[K\u001b[K\u001b[K\u001b[K\u001b[K\u001b[K\u001b[K\u001b[K\u001b[K\u001b[K\u001b[K\u001b[K\u001b[K\u001b[K\u001b[K\u001b[K\u001b[K\u001b[K\u001b[K\u001b[K\u001b[K\u001b[K\u001b[K\u001b[K\u001b[K\u001b[K\u001b[K\u001b[K\u001b[K\u001b[K\u001b[K\u001b[K\u001b[K\u001b[K\u001b[K\u001b[K\u001b[K\u001b[K\u001b[K\u001b[K\u001b[K\u001b[K\u001b[K\u001b[K\u001b[K\u001b[K\u001b[K\u001b[K\u001b[K\u001b[K\u001b[K\u001b[K\u001b[K\u001b[K\u001b[K\u001b[K\u001b[K\u001b[K\u001b[K\u001b[K\u001b[K\u001b[K\u001b[K\u001b[K\u001b[K\u001b[K\u001b[K\u001b[K\u001b[K\u001b[K\u001b[K\u001b[K\u001b[K\u001b[K\u001b[K\u001b[K\u001b[K\u001b[K\u001b[K\u001b[K\u001b[K\u001b[K\u001b[K\u001b[K\u001b[K\u001b[K\u001b[K\u001b[K\u001b[K\u001b[K\u001b[K\u001b[K\u001b[K\u001b[K\u001b[K\u001b[K\u001b[K\u001b[K\u001b[K\u001b[K\u001b[K\u001b[K\u001b[K\u001b[K\u001b[K\u001b[K\u001b[K\u001b[K\u001b[K\u001b[K\u001b[K\u001b[K\u001b[K\u001b[K\u001b[K\u001b[K\u001b[K\u001b[K\u001b[K\u001b[K\u001b[K\u001b[K\u001b[K\u001b[K\u001b[K\u001b[K\u001b[K\u001b[K\u001b[K\u001b[K\u001b[K\n",
      "    ▪ Configuring RBAC rules ...\u001b[K\u001b[K\u001b[K\u001b[K\u001b[K\u001b[K\u001b[K\u001b[K\u001b[K\u001b[K\u001b[K\u001b[K\u001b[K\u001b[K\u001b[K\u001b[K\u001b[K\u001b[K\u001b[K\u001b[K\u001b[K\u001b[K\u001b[K\u001b[K\u001b[K\u001b[K\u001b[K\u001b[K\u001b[K\u001b[K\u001b[K\u001b[K\u001b[K\u001b[K\n",
      "🔎  Verifying Kubernetes components...\n",
      "    ▪ Using image gcr.io/k8s-minikube/storage-provisioner:v5\n",
      "🌟  Enabled addons: storage-provisioner, default-storageclass\n",
      "🏄  Done! kubectl is now configured to use \"minikube\" cluster and \"default\" namespace by default\n",
      "CPU times: user 2.15 s, sys: 726 ms, total: 2.88 s\n",
      "Wall time: 2min 3s\n"
     ]
    }
   ],
   "source": [
    "%%time\n",
    "\n",
    "!KUBERNETES_VERSION=1.22.1 minikube start --kubernetes-version=${KUBERNETES_VERSION}"
   ]
  },
  {
   "cell_type": "markdown",
   "id": "3d7fc81a",
   "metadata": {},
   "source": [
    "## Checking Readiness"
   ]
  },
  {
   "cell_type": "code",
   "execution_count": 6,
   "id": "f8ae36b4",
   "metadata": {},
   "outputs": [
    {
     "name": "stdout",
     "output_type": "stream",
     "text": [
      "NAME       STATUS     ROLES                  AGE   VERSION\r\n",
      "minikube   NotReady   control-plane,master   8s    v1.22.1\r\n"
     ]
    }
   ],
   "source": [
    "!kubectl get nodes"
   ]
  },
  {
   "cell_type": "code",
   "execution_count": 7,
   "id": "fcaaa231",
   "metadata": {},
   "outputs": [
    {
     "name": "stdout",
     "output_type": "stream",
     "text": [
      "NAME       STATUS   ROLES                  AGE   VERSION\r\n",
      "minikube   Ready    control-plane,master   18s   v1.22.1\r\n"
     ]
    }
   ],
   "source": [
    "!sleep 10 ; kubectl get nodes"
   ]
  },
  {
   "cell_type": "markdown",
   "id": "e3b4f01c",
   "metadata": {},
   "source": [
    "## Start Cluster With Preloaded Cache"
   ]
  },
  {
   "cell_type": "code",
   "execution_count": 8,
   "id": "412f61d4",
   "metadata": {},
   "outputs": [
    {
     "name": "stdout",
     "output_type": "stream",
     "text": [
      "✋  Stopping node \"minikube\"  ...\n",
      "🛑  minikube\" wird über SSH ausgeschaltet...\n",
      "🛑  1 nodes stopped.\n",
      "🔥  minikube\" in docker wird gelöscht...\n",
      "🔥  Deleting container \"minikube\" ...\n",
      "🔥  /Users/lothar/.minikube/machines/minikube wird entfernt...\n",
      "💀  Removed all traces of the \"minikube\" cluster.\n"
     ]
    }
   ],
   "source": [
    "!minikube stop ; minikube delete"
   ]
  },
  {
   "cell_type": "code",
   "execution_count": 9,
   "id": "c5a26c0a",
   "metadata": {},
   "outputs": [
    {
     "name": "stdout",
     "output_type": "stream",
     "text": [
      "😄  minikube v1.23.0 auf Darwin 11.5.2\n",
      "✨  Automatically selected the docker driver. Other choices: hyperkit, virtualbox, ssh, podman (experimental)\n",
      "👍  Starting control plane node minikube in cluster minikube\n",
      "🚜  Pulling base image ...\n",
      "🔥  Creating docker container (CPUs=2, Memory=1987MB) ...\u001b[K\u001b[K\u001b[K\u001b[K\u001b[K\u001b[K\u001b[K\u001b[K\u001b[K\u001b[K\u001b[K\u001b[K\u001b[K\u001b[K\u001b[K\u001b[K\u001b[K\u001b[K\u001b[K\u001b[K\u001b[K\u001b[K\u001b[K\u001b[K\u001b[K\u001b[K\u001b[K\u001b[K\u001b[K\u001b[K\u001b[K\u001b[K\u001b[K\u001b[K\u001b[K\u001b[K\u001b[K\u001b[K\u001b[K\u001b[K\u001b[K\u001b[K\u001b[K\u001b[K\u001b[K\u001b[K\u001b[K\u001b[K\u001b[K\u001b[K\u001b[K\u001b[K\u001b[K\u001b[K\u001b[K\u001b[K\u001b[K\u001b[K\u001b[K\u001b[K\u001b[K\u001b[K\u001b[K\u001b[K\u001b[K\u001b[K\u001b[K\u001b[K\u001b[K\u001b[K\u001b[K\u001b[K\u001b[K\u001b[K\u001b[K\u001b[K\u001b[K\u001b[K\u001b[K\u001b[K\u001b[K\u001b[K\u001b[K\u001b[K\u001b[K\u001b[K\u001b[K\u001b[K\u001b[K\u001b[K\u001b[K\u001b[K\u001b[K\u001b[K\u001b[K\u001b[K\u001b[K\u001b[K\u001b[K\u001b[K\u001b[K\u001b[K\u001b[K\u001b[K\u001b[K\u001b[K\u001b[K\u001b[K\u001b[K\u001b[K\u001b[K\u001b[K\u001b[K\u001b[K\u001b[K\u001b[K\u001b[K\u001b[K\u001b[K\u001b[K\u001b[K\u001b[K\u001b[K\u001b[K\u001b[K\u001b[K\u001b[K\u001b[K\u001b[K\u001b[K\u001b[K\u001b[K\u001b[K\u001b[K\u001b[K\u001b[K\u001b[K\u001b[K\u001b[K\u001b[K\u001b[K\u001b[K\u001b[K\u001b[K\u001b[K\u001b[K\u001b[K\u001b[K\u001b[K\u001b[K\u001b[K\u001b[K\u001b[K\u001b[K\u001b[K\u001b[K\u001b[K\u001b[K\u001b[K\u001b[K\u001b[K\u001b[K\u001b[K\u001b[K\u001b[K\u001b[K\u001b[K\u001b[K\u001b[K\u001b[K\u001b[K\u001b[K\u001b[K\u001b[K\u001b[K\u001b[K\u001b[K\u001b[K\u001b[K\u001b[K\u001b[K\u001b[K\u001b[K\u001b[K\u001b[K\u001b[K\u001b[K\u001b[K\u001b[K\u001b[K\u001b[K\u001b[K\u001b[K\u001b[K\u001b[K\u001b[K\u001b[K\u001b[K\u001b[K\u001b[K\u001b[K\u001b[K\u001b[K\u001b[K\u001b[K\u001b[K\u001b[K\u001b[K\u001b[K\u001b[K\u001b[K\u001b[K\u001b[K\u001b[K\u001b[K\u001b[K\u001b[K\u001b[K\u001b[K\u001b[K\u001b[K\u001b[K\u001b[K\u001b[K\u001b[K\u001b[K\u001b[K\u001b[K\u001b[K\u001b[K\u001b[K\u001b[K\u001b[K\u001b[K\u001b[K\u001b[K\u001b[K\u001b[K\u001b[K\u001b[K\u001b[K\u001b[K\u001b[K\u001b[K\u001b[K\u001b[K\u001b[K\u001b[K\u001b[K\u001b[K\u001b[K\u001b[K\u001b[K\u001b[K\u001b[K\u001b[K\u001b[K\u001b[K\u001b[K\u001b[K\u001b[K\u001b[K\u001b[K\u001b[K\u001b[K\u001b[K\u001b[K\u001b[K\u001b[K\u001b[K\u001b[K\u001b[K\u001b[K\u001b[K\u001b[K\u001b[K\u001b[K\u001b[K\u001b[K\u001b[K\u001b[K\u001b[K\u001b[K\u001b[K\u001b[K\u001b[K\u001b[K\u001b[K\u001b[K\u001b[K\u001b[K\u001b[K\u001b[K\u001b[K\u001b[K\u001b[K\u001b[K\u001b[K\u001b[K\u001b[K\u001b[K\u001b[K\u001b[K\u001b[K\u001b[K\u001b[K\u001b[K\u001b[K\u001b[K\u001b[K\u001b[K\u001b[K\u001b[K\u001b[K\u001b[K\u001b[K\u001b[K\u001b[K\n",
      "🐳  Vorbereiten von Kubernetes v1.22.1 auf Docker 20.10.8...\u001b[K\u001b[K\u001b[K\u001b[K\u001b[K\u001b[K\u001b[K\u001b[K\u001b[K\u001b[K\u001b[K\u001b[K\u001b[K\u001b[K\u001b[K\u001b[K\u001b[K\u001b[K\u001b[K\u001b[K\u001b[K\u001b[K\u001b[K\u001b[K\u001b[K\u001b[K\u001b[K\u001b[K\u001b[K\u001b[K\u001b[K\u001b[K\u001b[K\u001b[K\u001b[K\u001b[K\u001b[K\u001b[K\u001b[K\u001b[K\u001b[K\u001b[K\u001b[K\u001b[K\u001b[K\u001b[K\u001b[K\u001b[K\u001b[K\u001b[K\n",
      "    ▪ Generating certificates and keys ...\u001b[K\u001b[K\u001b[K\u001b[K\u001b[K\u001b[K\u001b[K\u001b[K\u001b[K\u001b[K\u001b[K\u001b[K\u001b[K\u001b[K\u001b[K\u001b[K\u001b[K\u001b[K\u001b[K\u001b[K\u001b[K\u001b[K\u001b[K\u001b[K\u001b[K\u001b[K\u001b[K\u001b[K\u001b[K\u001b[K\u001b[K\u001b[K\u001b[K\u001b[K\u001b[K\u001b[K\u001b[K\u001b[K\u001b[K\u001b[K\u001b[K\u001b[K\u001b[K\u001b[K\u001b[K\u001b[K\u001b[K\u001b[K\u001b[K\u001b[K\u001b[K\u001b[K\u001b[K\u001b[K\u001b[K\u001b[K\n",
      "    ▪ Booting up control plane ...\u001b[K\u001b[K\u001b[K\u001b[K\u001b[K\u001b[K\u001b[K\u001b[K\u001b[K\u001b[K\u001b[K\u001b[K\u001b[K\u001b[K\u001b[K\u001b[K\u001b[K\u001b[K\u001b[K\u001b[K\u001b[K\u001b[K\u001b[K\u001b[K\u001b[K\u001b[K\u001b[K\u001b[K\u001b[K\u001b[K\u001b[K\u001b[K\u001b[K\u001b[K\u001b[K\u001b[K\u001b[K\u001b[K\u001b[K\u001b[K\u001b[K\u001b[K\u001b[K\u001b[K\u001b[K\u001b[K\u001b[K\u001b[K\u001b[K\u001b[K\u001b[K\u001b[K\u001b[K\u001b[K\u001b[K\u001b[K\u001b[K\u001b[K\u001b[K\u001b[K\u001b[K\u001b[K\u001b[K\u001b[K\u001b[K\u001b[K\u001b[K\u001b[K\u001b[K\u001b[K\u001b[K\u001b[K\u001b[K\u001b[K\u001b[K\u001b[K\u001b[K\u001b[K\u001b[K\u001b[K\u001b[K\u001b[K\u001b[K\u001b[K\u001b[K\u001b[K\u001b[K\u001b[K\u001b[K\u001b[K\u001b[K\u001b[K\u001b[K\u001b[K\u001b[K\u001b[K\u001b[K\u001b[K\u001b[K\u001b[K\u001b[K\u001b[K\u001b[K\u001b[K\u001b[K\u001b[K\u001b[K\u001b[K\u001b[K\u001b[K\u001b[K\u001b[K\u001b[K\u001b[K\u001b[K\u001b[K\u001b[K\u001b[K\u001b[K\u001b[K\u001b[K\u001b[K\u001b[K\u001b[K\u001b[K\u001b[K\u001b[K\u001b[K\u001b[K\u001b[K\u001b[K\u001b[K\u001b[K\u001b[K\u001b[K\u001b[K\u001b[K\u001b[K\u001b[K\u001b[K\u001b[K\u001b[K\u001b[K\u001b[K\u001b[K\u001b[K\u001b[K\u001b[K\u001b[K\u001b[K\u001b[K\u001b[K\u001b[K\u001b[K\u001b[K\u001b[K\u001b[K\u001b[K\u001b[K\u001b[K\u001b[K\u001b[K\u001b[K\u001b[K\u001b[K\u001b[K\u001b[K\u001b[K\u001b[K\u001b[K\u001b[K\u001b[K\u001b[K\u001b[K\u001b[K\u001b[K\u001b[K\u001b[K\u001b[K\u001b[K\u001b[K\u001b[K\u001b[K\u001b[K\u001b[K\u001b[K\u001b[K\u001b[K\u001b[K\u001b[K\u001b[K\u001b[K\u001b[K\u001b[K\u001b[K\u001b[K\u001b[K\u001b[K\u001b[K\u001b[K\u001b[K\u001b[K\u001b[K\u001b[K\u001b[K\u001b[K\u001b[K\u001b[K\u001b[K\u001b[K\u001b[K\u001b[K\u001b[K\u001b[K\u001b[K\u001b[K\u001b[K\u001b[K\n",
      "    ▪ Configuring RBAC rules ...\u001b[K\u001b[K\u001b[K\u001b[K\u001b[K\u001b[K\u001b[K\u001b[K\u001b[K\u001b[K\u001b[K\u001b[K\u001b[K\u001b[K\u001b[K\u001b[K\u001b[K\u001b[K\u001b[K\u001b[K\u001b[K\u001b[K\u001b[K\u001b[K\u001b[K\u001b[K\u001b[K\u001b[K\u001b[K\u001b[K\u001b[K\u001b[K\u001b[K\u001b[K\n",
      "🔎  Verifying Kubernetes components...\n",
      "    ▪ Using image gcr.io/k8s-minikube/storage-provisioner:v5\n",
      "🌟  Enabled addons: storage-provisioner, default-storageclass\n",
      "🏄  Done! kubectl is now configured to use \"minikube\" cluster and \"default\" namespace by default\n",
      "CPU times: user 606 ms, sys: 209 ms, total: 815 ms\n",
      "Wall time: 37.5 s\n"
     ]
    }
   ],
   "source": [
    "%%time\n",
    "\n",
    "!KUBERNETES_VERSION=1.22.1 minikube start --kubernetes-version=${KUBERNETES_VERSION}"
   ]
  },
  {
   "cell_type": "markdown",
   "id": "d71fc3ee",
   "metadata": {},
   "source": [
    "Having deleted the cluster the startuo time for a new cluster with prefilled caches reduces to well under a minute."
   ]
  },
  {
   "cell_type": "code",
   "execution_count": 10,
   "id": "f3a3e842",
   "metadata": {},
   "outputs": [],
   "source": [
    "!sleep 10"
   ]
  },
  {
   "cell_type": "markdown",
   "id": "5bc99ebc",
   "metadata": {},
   "source": [
    "## Creating First Namespace And Pod"
   ]
  },
  {
   "cell_type": "code",
   "execution_count": 11,
   "id": "0102c7cd",
   "metadata": {},
   "outputs": [
    {
     "name": "stdout",
     "output_type": "stream",
     "text": [
      "namespace/demo created\n",
      "pod/demo-pod created\n"
     ]
    }
   ],
   "source": [
    "%%bash\n",
    "\n",
    "cat <<EOF| kubectl apply -f -\n",
    "kind: Namespace\n",
    "apiVersion: v1\n",
    "metadata:\n",
    "  name: demo\n",
    "  labels:\n",
    "    name: demo\n",
    "---\n",
    "kind: Pod\n",
    "apiVersion: v1\n",
    "metadata:\n",
    "  name: demo-pod\n",
    "  namespace: demo\n",
    "spec:\n",
    "  containers:\n",
    "  - name: demo-ctr\n",
    "    image: nginx:stable-alpine\n",
    "    resources:\n",
    "      limits:\n",
    "        memory: \"200Mi\"\n",
    "        cpu: \"700m\"\n",
    "      requests:\n",
    "        memory: \"200Mi\"\n",
    "        cpu: \"700m\"\n",
    "EOF"
   ]
  },
  {
   "cell_type": "markdown",
   "id": "5b33ea16",
   "metadata": {},
   "source": [
    "A namespace demo with a pod demo-pod in it according to above yaml."
   ]
  },
  {
   "cell_type": "code",
   "execution_count": 12,
   "id": "66f28d39",
   "metadata": {},
   "outputs": [
    {
     "name": "stdout",
     "output_type": "stream",
     "text": [
      "namespace/demo unchanged\n",
      "pod/demo-pod unchanged\n"
     ]
    }
   ],
   "source": [
    "%%bash\n",
    "\n",
    "cat <<EOF| kubectl apply -f -\n",
    "kind: Namespace\n",
    "apiVersion: v1\n",
    "metadata:\n",
    "  name: demo\n",
    "  labels:\n",
    "    name: demo\n",
    "---\n",
    "kind: Pod\n",
    "apiVersion: v1\n",
    "metadata:\n",
    "  name: demo-pod\n",
    "  namespace: demo\n",
    "spec:\n",
    "  containers:\n",
    "  - name: demo-ctr\n",
    "    image: nginx:stable-alpine\n",
    "    resources:\n",
    "      limits:\n",
    "        memory: \"200Mi\"\n",
    "        cpu: \"700m\"\n",
    "      requests:\n",
    "        memory: \"200Mi\"\n",
    "        cpu: \"700m\"\n",
    "EOF"
   ]
  },
  {
   "cell_type": "markdown",
   "id": "ee5c67a5",
   "metadata": {},
   "source": [
    "As nemspace *demo* and the pod *demo-pod* in it have already been created by executing the exact same command before, *kubectl apply* remains idempotent."
   ]
  },
  {
   "cell_type": "code",
   "execution_count": 13,
   "id": "029ff499",
   "metadata": {},
   "outputs": [
    {
     "name": "stdout",
     "output_type": "stream",
     "text": [
      "NAME       READY   STATUS              RESTARTS   AGE\r\n",
      "demo-pod   0/1     ContainerCreating   0          0s\r\n"
     ]
    }
   ],
   "source": [
    "!kubectl get pods --namespace demo"
   ]
  },
  {
   "cell_type": "markdown",
   "id": "2f13c376",
   "metadata": {},
   "source": [
    "The newly created and started pod *demo-pod* is just one pod among others constituting the base kubernetes cluster. Those containers are isolated in the *kube-system* namespace."
   ]
  },
  {
   "cell_type": "code",
   "execution_count": 14,
   "id": "cc6ab082",
   "metadata": {},
   "outputs": [
    {
     "name": "stdout",
     "output_type": "stream",
     "text": [
      "NAME              STATUS   AGE\r\n",
      "default           Active   17s\r\n",
      "demo              Active   0s\r\n",
      "kube-node-lease   Active   19s\r\n",
      "kube-public       Active   19s\r\n",
      "kube-system       Active   19s\r\n"
     ]
    }
   ],
   "source": [
    "!kubectl get namespaces"
   ]
  },
  {
   "cell_type": "code",
   "execution_count": 15,
   "id": "6be7bf15",
   "metadata": {},
   "outputs": [
    {
     "name": "stdout",
     "output_type": "stream",
     "text": [
      "NAME                               READY   STATUS              RESTARTS   AGE\r\n",
      "coredns-78fcd69978-95j7r           0/1     ContainerCreating   0          2s\r\n",
      "etcd-minikube                      1/1     Running             0          14s\r\n",
      "kube-apiserver-minikube            1/1     Running             0          18s\r\n",
      "kube-controller-manager-minikube   1/1     Running             0          14s\r\n",
      "kube-proxy-r647x                   0/1     ContainerCreating   0          3s\r\n",
      "kube-scheduler-minikube            1/1     Running             0          17s\r\n",
      "storage-provisioner                0/1     ContainerCreating   0          13s\r\n"
     ]
    }
   ],
   "source": [
    "!kubectl get pods --namespace kube-system"
   ]
  },
  {
   "cell_type": "code",
   "execution_count": 16,
   "id": "6caa05f0",
   "metadata": {},
   "outputs": [
    {
     "name": "stdout",
     "output_type": "stream",
     "text": [
      "systemd-cgls --no-pager ; exit\r\n",
      "\u001b]0;docker@minikube: ~\u0007docker@minikube:~$ systemd-cgls --no-pager ; exit\r\n",
      "Control group /docker/27e9556225fade81aaa4abd86a09c2358c157b8adc904ce24781cbb9de476aba:\r\n",
      "-.slice\r\n",
      "├─init.scope \r\n",
      "│ └─\u001b[0;38;5;245m1 /sbin/init\u001b[0m\r\n",
      "└─system.slice \r\n",
      "  ├─containerd.service \r\n",
      "  │ ├─\u001b[0;38;5;245m 199 /usr/bin/containerd\u001b[0m\r\n",
      "  │ ├─\u001b[0;38;5;245m1611 /usr/bin/containerd-shim-runc-v2 -namespace moby -id cbaa1c569604503…\u001b[0m\r\n",
      "  │ ├─\u001b[0;38;5;245m1612 /usr/bin/containerd-shim-runc-v2 -namespace moby -id 3e7dd8e76958141…\u001b[0m\r\n",
      "  │ ├─\u001b[0;38;5;245m1613 /usr/bin/containerd-shim-runc-v2 -namespace moby -id 6a7a5ab41237b1c…\u001b[0m\r\n",
      "  │ ├─\u001b[0;38;5;245m1672 /pause\u001b[0m\r\n",
      "  │ ├─\u001b[0;38;5;245m1675 /pause\u001b[0m\r\n",
      "  │ ├─\u001b[0;38;5;245m1680 /pause\u001b[0m\r\n",
      "  │ ├─\u001b[0;38;5;245m1727 /usr/bin/containerd-shim-runc-v2 -namespace moby -id 125035f2f0b680c…\u001b[0m\r\n",
      "  │ ├─\u001b[0;38;5;245m1763 /pause\u001b[0m\r\n",
      "  │ ├─\u001b[0;38;5;245m1797 /usr/bin/containerd-shim-runc-v2 -namespace moby -id dc1f8959bd46a5c…\u001b[0m\r\n",
      "  │ ├─\u001b[0;38;5;245m1817 /usr/bin/containerd-shim-runc-v2 -namespace moby -id 4493ec1983c5590…\u001b[0m\r\n",
      "  │ ├─\u001b[0;38;5;245m1841 /usr/bin/containerd-shim-runc-v2 -namespace moby -id 9ced09671f9658b…\u001b[0m\r\n",
      "  │ ├─\u001b[0;38;5;245m1892 /usr/bin/containerd-shim-runc-v2 -namespace moby -id f1eeb8ae476614d…\u001b[0m\r\n",
      "  │ ├─\u001b[0;38;5;245m1893 kube-apiserver --advertise-address=192.168.49.2 --allow-privileged=t…\u001b[0m\r\n",
      "  │ ├─\u001b[0;38;5;245m1910 etcd --advertise-client-urls=https://192.168.49.2:2379 --cert-file=/…\u001b[0m\r\n",
      "  │ ├─\u001b[0;38;5;245m1926 kube-controller-manager --allocate-node-cidrs=true --authentication-…\u001b[0m\r\n",
      "  │ ├─\u001b[0;38;5;245m1970 kube-scheduler --authentication-kubeconfig=/etc/kubernetes/scheduler…\u001b[0m\r\n",
      "  │ ├─\u001b[0;38;5;245m2774 /usr/bin/containerd-shim-runc-v2 -namespace moby -id 92440bafb41f433…\u001b[0m\r\n",
      "  │ ├─\u001b[0;38;5;245m2794 /pause\u001b[0m\r\n",
      "  │ ├─\u001b[0;38;5;245m2834 /usr/bin/containerd-shim-runc-v2 -namespace moby -id 9388dafa27ea83e…\u001b[0m\r\n",
      "  │ ├─\u001b[0;38;5;245m2853 /storage-provisioner\u001b[0m\r\n",
      "  │ ├─\u001b[0;38;5;245m2881 /usr/bin/containerd-shim-runc-v2 -namespace moby -id 6702dcffea404bb…\u001b[0m\r\n",
      "  │ ├─\u001b[0;38;5;245m2902 /pause\u001b[0m\r\n",
      "  │ ├─\u001b[0;38;5;245m2924 /usr/bin/containerd-shim-runc-v2 -namespace moby -id 11a0264a7a9368d…\u001b[0m\r\n",
      "  │ ├─\u001b[0;38;5;245m2955 /usr/bin/containerd-shim-runc-v2 -namespace moby -id b9c800f8f3ce6bf…\u001b[0m\r\n",
      "  │ ├─\u001b[0;38;5;245m2967 /pause\u001b[0m\r\n",
      "  │ ├─\u001b[0;38;5;245m2983 /usr/local/bin/kube-proxy --config=/var/lib/kube-proxy/config.conf -…\u001b[0m\r\n",
      "  │ ├─\u001b[0;38;5;245m3036 /usr/bin/containerd-shim-runc-v2 -namespace moby -id 603292901ae2ce7…\u001b[0m\r\n",
      "  │ ├─\u001b[0;38;5;245m3060 /pause\u001b[0m\r\n",
      "  │ ├─\u001b[0;38;5;245m3110 /usr/bin/containerd-shim-runc-v2 -namespace moby -id 7b3f593fffc6a3c…\u001b[0m\r\n",
      "  │ ├─\u001b[0;38;5;245m3143 /coredns -conf /etc/coredns/Corefile\u001b[0m\r\n",
      "  │ └─\u001b[0;38;5;245m3239 ip6tables -w 5 -W 100000 -I FORWARD -t filter -m comment --comment k…\u001b[0m\r\n",
      "  ├─docker.service \r\n",
      "  │ └─\u001b[0;38;5;245m471 /usr/bin/dockerd -H tcp://0.0.0.0:2376 -H unix:///var/run/docker.sock…\u001b[0m\r\n",
      "  ├─kubelet.service \r\n",
      "  │ └─\u001b[0;38;5;245m2355 /var/lib/minikube/binaries/v1.22.1/kubelet --bootstrap-kubeconfig=/e…\u001b[0m\r\n",
      "  ├─systemd-journald.service \r\n",
      "  │ └─\u001b[0;38;5;245m176 /lib/systemd/systemd-journald\u001b[0m\r\n",
      "  ├─ssh.service \r\n",
      "  │ ├─\u001b[0;38;5;245m 208 sshd: /usr/sbin/sshd -D [listener] 0 of 10-100 startups\u001b[0m\r\n",
      "  │ ├─\u001b[0;38;5;245m3215 sshd: docker [priv]\u001b[0m\r\n",
      "  │ ├─\u001b[0;38;5;245m3223 sshd: docker@pts/1\u001b[0m\r\n",
      "  │ ├─\u001b[0;38;5;245m3229 -bash\u001b[0m\r\n",
      "  │ └─\u001b[0;38;5;245m3237 systemd-cgls --no-pager\u001b[0m\r\n",
      "  └─dbus.service \r\n",
      "    └─\u001b[0;38;5;245m196 /usr/bin/dbus-daemon --system --address=systemd: --nofork --nopidfile…\u001b[0m\r\n",
      "logout\r\n",
      "\u001b[3J\u001b[H\u001b[2J"
     ]
    }
   ],
   "source": [
    "%%bash\n",
    "\n",
    "echo \"systemd-cgls --no-pager ; exit\" | minikube ssh"
   ]
  },
  {
   "cell_type": "code",
   "execution_count": 17,
   "id": "23f64c4f",
   "metadata": {},
   "outputs": [
    {
     "name": "stdout",
     "output_type": "stream",
     "text": [
      "Getting image source signatures\n",
      "Copying blob a0d0a0d46f8b [===>------------------------------] 318.4KiB / 2.7MiB\n",
      "\u001b[1A\u001b[JCopying blob a0d0a0d46f8b [========>-------------------------] 730.4KiB / 2.7MiB\n",
      "\u001b[1A\u001b[JCopying blob a0d0a0d46f8b [================>-------------------] 1.3MiB / 2.7MiB\n",
      "\u001b[1A\u001b[JCopying blob a0d0a0d46f8b [===================>----------------] 1.5MiB / 2.7MiB\n",
      "\u001b[1A\u001b[JCopying blob a0d0a0d46f8b [=======================>------------] 1.8MiB / 2.7MiB\n",
      "\u001b[1A\u001b[JCopying blob a0d0a0d46f8b [=============================>------] 2.2MiB / 2.7MiB\n",
      "\u001b[1A\u001b[JCopying blob a0d0a0d46f8b [================================>---] 2.5MiB / 2.7MiB\n",
      "\u001b[1A\u001b[JCopying blob a0d0a0d46f8b [================================>---] 2.5MiB / 2.7MiB\n",
      "\u001b[1A\u001b[JCopying blob a0d0a0d46f8b [====================================] 2.6MiB / 2.7MiB\n",
      "\u001b[1A\u001b[JCopying blob a0d0a0d46f8b [====================================] 2.7MiB / 2.7MiB\n",
      "\u001b[1A\u001b[JCopying blob a0d0a0d46f8b done  \n",
      "\u001b[1A\u001b[JCopying blob a0d0a0d46f8b done  \n",
      "Copying config 696d33ca15 [====================================] 585.0b / 585.0b\n",
      "\u001b[1A\u001b[JCopying config 696d33ca15 done  \n",
      "Writing manifest to image destination\n",
      "Storing signatures\n"
     ]
    }
   ],
   "source": [
    "!skopeo --override-os linux copy docker://alpine:3.14.2 oci:alpine:3.14.2"
   ]
  },
  {
   "cell_type": "code",
   "execution_count": 18,
   "id": "c72b9847",
   "metadata": {},
   "outputs": [
    {
     "name": "stdout",
     "output_type": "stream",
     "text": [
      "\u001b[01;34malpine\u001b[00m\r\n",
      "├── \u001b[01;34mblobs\u001b[00m\r\n",
      "│   └── \u001b[01;34msha256\u001b[00m\r\n",
      "│       ├── 03014f0323753134bf6399ffbe26dcd75e89c6a7429adfab392d64706649f07b\r\n",
      "│       ├── 696d33ca1510966c426bdcc0daf05f75990d68c4eb820f615edccf7b971935e7\r\n",
      "│       └── a0d0a0d46f8b52473982a3c466318f479767577551a53ffc9074c9fa7035982e\r\n",
      "├── index.json\r\n",
      "└── oci-layout\r\n",
      "\r\n",
      "2 directories, 5 files\r\n"
     ]
    }
   ],
   "source": [
    "!tree alpine"
   ]
  },
  {
   "cell_type": "code",
   "execution_count": 19,
   "id": "57a2f9e0",
   "metadata": {},
   "outputs": [
    {
     "name": "stdout",
     "output_type": "stream",
     "text": [
      "alpine/blobs/sha256/03014f0323753134bf6399ffbe26dcd75e89c6a7429adfab392d64706649f07b: JSON data\r\n",
      "alpine/blobs/sha256/696d33ca1510966c426bdcc0daf05f75990d68c4eb820f615edccf7b971935e7: JSON data\r\n",
      "alpine/blobs/sha256/a0d0a0d46f8b52473982a3c466318f479767577551a53ffc9074c9fa7035982e: gzip compressed data, original size modulo 2^32 5865472\r\n"
     ]
    }
   ],
   "source": [
    "!file alpine/blobs/sha256/*"
   ]
  },
  {
   "cell_type": "code",
   "execution_count": 20,
   "id": "8d912ae1",
   "metadata": {},
   "outputs": [
    {
     "name": "stdout",
     "output_type": "stream",
     "text": [
      "\u001b[1;39m{\r\n",
      "  \u001b[0m\u001b[34;1m\"schemaVersion\"\u001b[0m\u001b[1;39m: \u001b[0m\u001b[0;39m2\u001b[0m\u001b[1;39m,\r\n",
      "  \u001b[0m\u001b[34;1m\"config\"\u001b[0m\u001b[1;39m: \u001b[0m\u001b[1;39m{\r\n",
      "    \u001b[0m\u001b[34;1m\"mediaType\"\u001b[0m\u001b[1;39m: \u001b[0m\u001b[0;32m\"application/vnd.oci.image.config.v1+json\"\u001b[0m\u001b[1;39m,\r\n",
      "    \u001b[0m\u001b[34;1m\"digest\"\u001b[0m\u001b[1;39m: \u001b[0m\u001b[0;32m\"sha256:696d33ca1510966c426bdcc0daf05f75990d68c4eb820f615edccf7b971935e7\"\u001b[0m\u001b[1;39m,\r\n",
      "    \u001b[0m\u001b[34;1m\"size\"\u001b[0m\u001b[1;39m: \u001b[0m\u001b[0;39m585\u001b[0m\u001b[1;39m\r\n",
      "  \u001b[1;39m}\u001b[0m\u001b[1;39m,\r\n",
      "  \u001b[0m\u001b[34;1m\"layers\"\u001b[0m\u001b[1;39m: \u001b[0m\u001b[1;39m[\r\n",
      "    \u001b[1;39m{\r\n",
      "      \u001b[0m\u001b[34;1m\"mediaType\"\u001b[0m\u001b[1;39m: \u001b[0m\u001b[0;32m\"application/vnd.oci.image.layer.v1.tar+gzip\"\u001b[0m\u001b[1;39m,\r\n",
      "      \u001b[0m\u001b[34;1m\"digest\"\u001b[0m\u001b[1;39m: \u001b[0m\u001b[0;32m\"sha256:a0d0a0d46f8b52473982a3c466318f479767577551a53ffc9074c9fa7035982e\"\u001b[0m\u001b[1;39m,\r\n",
      "      \u001b[0m\u001b[34;1m\"size\"\u001b[0m\u001b[1;39m: \u001b[0m\u001b[0;39m2814446\u001b[0m\u001b[1;39m\r\n",
      "    \u001b[1;39m}\u001b[0m\u001b[1;39m\r\n",
      "  \u001b[1;39m]\u001b[0m\u001b[1;39m\r\n",
      "\u001b[1;39m}\u001b[0m\r\n"
     ]
    }
   ],
   "source": [
    "!cat alpine/blobs/sha256/03014f0323753134bf6399ffbe26dcd75e89c6a7429adfab392d64706649f07b | jq"
   ]
  },
  {
   "cell_type": "code",
   "execution_count": 21,
   "id": "d143f994",
   "metadata": {},
   "outputs": [
    {
     "name": "stdout",
     "output_type": "stream",
     "text": [
      "\u001b[1;39m{\r\n",
      "  \u001b[0m\u001b[34;1m\"created\"\u001b[0m\u001b[1;39m: \u001b[0m\u001b[0;32m\"2021-08-27T17:19:45.758611523Z\"\u001b[0m\u001b[1;39m,\r\n",
      "  \u001b[0m\u001b[34;1m\"architecture\"\u001b[0m\u001b[1;39m: \u001b[0m\u001b[0;32m\"amd64\"\u001b[0m\u001b[1;39m,\r\n",
      "  \u001b[0m\u001b[34;1m\"os\"\u001b[0m\u001b[1;39m: \u001b[0m\u001b[0;32m\"linux\"\u001b[0m\u001b[1;39m,\r\n",
      "  \u001b[0m\u001b[34;1m\"config\"\u001b[0m\u001b[1;39m: \u001b[0m\u001b[1;39m{\r\n",
      "    \u001b[0m\u001b[34;1m\"Env\"\u001b[0m\u001b[1;39m: \u001b[0m\u001b[1;39m[\r\n",
      "      \u001b[0;32m\"PATH=/usr/local/sbin:/usr/local/bin:/usr/sbin:/usr/bin:/sbin:/bin\"\u001b[0m\u001b[1;39m\r\n",
      "    \u001b[1;39m]\u001b[0m\u001b[1;39m,\r\n",
      "    \u001b[0m\u001b[34;1m\"Cmd\"\u001b[0m\u001b[1;39m: \u001b[0m\u001b[1;39m[\r\n",
      "      \u001b[0;32m\"/bin/sh\"\u001b[0m\u001b[1;39m\r\n",
      "    \u001b[1;39m]\u001b[0m\u001b[1;39m\r\n",
      "  \u001b[1;39m}\u001b[0m\u001b[1;39m,\r\n",
      "  \u001b[0m\u001b[34;1m\"rootfs\"\u001b[0m\u001b[1;39m: \u001b[0m\u001b[1;39m{\r\n",
      "    \u001b[0m\u001b[34;1m\"type\"\u001b[0m\u001b[1;39m: \u001b[0m\u001b[0;32m\"layers\"\u001b[0m\u001b[1;39m,\r\n",
      "    \u001b[0m\u001b[34;1m\"diff_ids\"\u001b[0m\u001b[1;39m: \u001b[0m\u001b[1;39m[\r\n",
      "      \u001b[0;32m\"sha256:e2eb06d8af8218cfec8210147357a68b7e13f7c485b991c288c2d01dc228bb68\"\u001b[0m\u001b[1;39m\r\n",
      "    \u001b[1;39m]\u001b[0m\u001b[1;39m\r\n",
      "  \u001b[1;39m}\u001b[0m\u001b[1;39m,\r\n",
      "  \u001b[0m\u001b[34;1m\"history\"\u001b[0m\u001b[1;39m: \u001b[0m\u001b[1;39m[\r\n",
      "    \u001b[1;39m{\r\n",
      "      \u001b[0m\u001b[34;1m\"created\"\u001b[0m\u001b[1;39m: \u001b[0m\u001b[0;32m\"2021-08-27T17:19:45.553092363Z\"\u001b[0m\u001b[1;39m,\r\n",
      "      \u001b[0m\u001b[34;1m\"created_by\"\u001b[0m\u001b[1;39m: \u001b[0m\u001b[0;32m\"/bin/sh -c #(nop) ADD file:aad4290d27580cc1a094ffaf98c3ca2fc5d699fe695dfb8e6e9fac20f1129450 in / \"\u001b[0m\u001b[1;39m\r\n",
      "    \u001b[1;39m}\u001b[0m\u001b[1;39m,\r\n",
      "    \u001b[1;39m{\r\n",
      "      \u001b[0m\u001b[34;1m\"created\"\u001b[0m\u001b[1;39m: \u001b[0m\u001b[0;32m\"2021-08-27T17:19:45.758611523Z\"\u001b[0m\u001b[1;39m,\r\n",
      "      \u001b[0m\u001b[34;1m\"created_by\"\u001b[0m\u001b[1;39m: \u001b[0m\u001b[0;32m\"/bin/sh -c #(nop)  CMD [\\\"/bin/sh\\\"]\"\u001b[0m\u001b[1;39m,\r\n",
      "      \u001b[0m\u001b[34;1m\"empty_layer\"\u001b[0m\u001b[1;39m: \u001b[0m\u001b[0;39mtrue\u001b[0m\u001b[1;39m\r\n",
      "    \u001b[1;39m}\u001b[0m\u001b[1;39m\r\n",
      "  \u001b[1;39m]\u001b[0m\u001b[1;39m\r\n",
      "\u001b[1;39m}\u001b[0m\r\n"
     ]
    }
   ],
   "source": [
    "!cat alpine/blobs/sha256/696d33ca1510966c426bdcc0daf05f75990d68c4eb820f615edccf7b971935e7 | jq"
   ]
  },
  {
   "cell_type": "code",
   "execution_count": 22,
   "id": "f2ed3d08",
   "metadata": {},
   "outputs": [
    {
     "name": "stdout",
     "output_type": "stream",
     "text": [
      "\u001b[1minfo: \u001b[mremoving rustup home\n",
      "\u001b[1minfo: \u001b[mremoving cargo home\n",
      "\u001b[1minfo: \u001b[mremoving rustup binaries\n",
      "\u001b[1minfo: \u001b[mrustup is uninstalled\n"
     ]
    }
   ],
   "source": [
    "!rustup self uninstall -y"
   ]
  },
  {
   "cell_type": "code",
   "execution_count": 23,
   "id": "a7cfebe7",
   "metadata": {},
   "outputs": [
    {
     "name": "stdout",
     "output_type": "stream",
     "text": [
      "\u001b[1minfo:\u001b[0m downloading installer\n",
      "\u001b[1minfo: \u001b[mprofile set to 'default'\n",
      "\u001b[1minfo: \u001b[mdefault host triple is x86_64-apple-darwin\n",
      "\u001b[1minfo: \u001b[msyncing channel updates for 'stable-x86_64-apple-darwin'\n",
      "\u001b[1minfo: \u001b[mlatest update on 2021-09-09, rust version 1.55.0 (c8dfcfe04 2021-09-06)\n",
      "\u001b[1minfo: \u001b[mdownloading component 'cargo'\n",
      "\u001b[1minfo: \u001b[mdownloading component 'clippy'\n",
      "\u001b[1minfo: \u001b[mdownloading component 'rust-docs'\n",
      " 17.1 MiB /  17.1 MiB (100 %)   6.1 MiB/s in  2s ETA:  0s\n",
      "\u001b[1minfo: \u001b[mdownloading component 'rust-std'\n",
      " 21.0 MiB /  21.0 MiB (100 %)   6.4 MiB/s in  3s ETA:  0s\n",
      "\u001b[1minfo: \u001b[mdownloading component 'rustc'\n",
      " 75.9 MiB /  75.9 MiB (100 %)   6.0 MiB/s in 12s ETA:  0s\n",
      "\u001b[1minfo: \u001b[mdownloading component 'rustfmt'\n",
      "\u001b[1minfo: \u001b[minstalling component 'cargo'\n",
      "\u001b[1minfo: \u001b[minstalling component 'clippy'\n",
      "\u001b[1minfo: \u001b[minstalling component 'rust-docs'\n",
      " 17.1 MiB /  17.1 MiB (100 %)   5.7 MiB/s in  2s ETA:  0s\n",
      "\u001b[1minfo: \u001b[minstalling component 'rust-std'\n",
      " 21.0 MiB /  21.0 MiB (100 %)  13.8 MiB/s in  1s ETA:  0s\n",
      "\u001b[1minfo: \u001b[minstalling component 'rustc'\n",
      " 75.9 MiB /  75.9 MiB (100 %)  15.5 MiB/s in  5s ETA:  0s\n",
      "\u001b[1minfo: \u001b[minstalling component 'rustfmt'\n",
      "\u001b[1minfo: \u001b[mdefault toolchain set to 'stable-x86_64-apple-darwin'\n",
      "\n",
      "  \u001b[1m\u001b[32mstable-x86_64-apple-darwin installed\u001b[m - rustc 1.55.0 (c8dfcfe04 2021-09-06)\n",
      "\n",
      "\u001b[1m\n",
      "Rust is installed now. Great!\n",
      "\u001b[m\n",
      "To get started you may need to restart your current shell.\n",
      "This would reload your \u001b[1mPATH\u001b[m environment variable to include\n",
      "Cargo's bin directory ($HOME/.cargo/bin).\n",
      "\n",
      "To configure your current shell, run:\n",
      "source $HOME/.cargo/env\n"
     ]
    }
   ],
   "source": [
    "!curl --proto '=https' --tlsv1.2 -sSf https://sh.rustup.rs | sh -s -- -y"
   ]
  },
  {
   "cell_type": "code",
   "execution_count": 24,
   "id": "d61544d3",
   "metadata": {},
   "outputs": [
    {
     "name": "stdout",
     "output_type": "stream",
     "text": [
      "\u001b[1minfo: \u001b[musing existing install for 'stable-x86_64-apple-darwin'\r\n",
      "\u001b[1minfo: \u001b[mdefault toolchain set to 'stable-x86_64-apple-darwin'\r\n",
      "\r\n",
      "  \u001b[1mstable-x86_64-apple-darwin unchanged\u001b[m - rustc 1.55.0 (c8dfcfe04 2021-09-06)\r\n",
      "\r\n"
     ]
    }
   ],
   "source": [
    "!rustup default stable"
   ]
  },
  {
   "cell_type": "code",
   "execution_count": 25,
   "id": "4ba41bc4",
   "metadata": {},
   "outputs": [
    {
     "name": "stdout",
     "output_type": "stream",
     "text": [
      "\u001b[1minfo: \u001b[msyncing channel updates for 'stable-x86_64-apple-darwin'\n",
      "\u001b[1minfo: \u001b[mchecking for self-updates\n",
      "\n",
      "  \u001b[1mstable-x86_64-apple-darwin unchanged\u001b[m - rustc 1.55.0 (c8dfcfe04 2021-09-06)\n",
      "\n",
      "\u001b[1minfo: \u001b[mcleaning up downloads & tmp directories\n"
     ]
    }
   ],
   "source": [
    "!rustup update"
   ]
  },
  {
   "cell_type": "code",
   "execution_count": 26,
   "id": "75c1702b",
   "metadata": {},
   "outputs": [
    {
     "name": "stdout",
     "output_type": "stream",
     "text": [
      "\u001b[0m\u001b[0m\u001b[1m\u001b[32m     Created\u001b[0m binary (application) `helloworld` package\r\n"
     ]
    }
   ],
   "source": [
    "!cargo new helloworld"
   ]
  },
  {
   "cell_type": "code",
   "execution_count": 27,
   "id": "befc9523",
   "metadata": {},
   "outputs": [],
   "source": [
    "%%bash\n",
    "\n",
    "cd helloworld\n",
    "\n",
    "cat >Dockerfile <<EOF\n",
    "FROM docker.io/library/rust:1.55.0\n",
    "\n",
    "WORKDIR /usr/src/helloworld\n",
    "\n",
    "COPY . .\n",
    "\n",
    "RUN cargo build --release\n",
    "\n",
    "RUN cargo install --path .\n",
    "\n",
    "CMD [\"/usr/local/cargo/bin/helloworld\"]\n",
    "EOF"
   ]
  },
  {
   "cell_type": "code",
   "execution_count": 28,
   "id": "fe20b229",
   "metadata": {},
   "outputs": [],
   "source": [
    "%%bash\n",
    "\n",
    "cd helloworld\n",
    "\n",
    "cat >Dockerfile.slim <<EOF\n",
    "FROM docker.io/library/rust:1.55.0-alpine3.14\n",
    "\n",
    "WORKDIR /usr/src/helloworld\n",
    "\n",
    "COPY . .\n",
    "\n",
    "RUN cargo build --release\n",
    "\n",
    "RUN cargo install --path .\n",
    "\n",
    "CMD [\"/usr/local/cargo/bin/helloworld\"]\n",
    "EOF"
   ]
  },
  {
   "cell_type": "code",
   "execution_count": 29,
   "id": "710de0bf",
   "metadata": {},
   "outputs": [],
   "source": [
    "%%bash\n",
    "\n",
    "cd helloworld\n",
    "\n",
    "cat >Dockerfile.slim-staged <<EOF\n",
    "FROM docker.io/library/rust:1.55.0-alpine3.14\n",
    "\n",
    "WORKDIR /usr/src/helloworld\n",
    "\n",
    "COPY . .\n",
    "\n",
    "RUN cargo build --release\n",
    "\n",
    "RUN cargo install --path .\n",
    "\n",
    "CMD [\"/usr/local/cargo/bin/helloworld\"]\n",
    "EOF"
   ]
  },
  {
   "cell_type": "code",
   "execution_count": 30,
   "id": "a4ccb241",
   "metadata": {},
   "outputs": [
    {
     "name": "stdout",
     "output_type": "stream",
     "text": [
      "host:\r\n",
      "  arch: amd64\r\n",
      "  buildahVersion: 1.22.3\r\n",
      "  cgroupControllers: []\r\n",
      "  cgroupManager: systemd\r\n",
      "  cgroupVersion: v2\r\n",
      "  conmon:\r\n",
      "    package: conmon-2.0.29-2.fc34.x86_64\r\n",
      "    path: /usr/bin/conmon\r\n",
      "    version: 'conmon version 2.0.29, commit: '\r\n",
      "  cpus: 1\r\n",
      "  distribution:\r\n",
      "    distribution: fedora\r\n",
      "    version: \"34\"\r\n",
      "  eventLogger: journald\r\n",
      "  hostname: localhost\r\n",
      "  idMappings:\r\n",
      "    gidmap:\r\n",
      "    - container_id: 0\r\n",
      "      host_id: 1000\r\n",
      "      size: 1\r\n",
      "    - container_id: 1\r\n",
      "      host_id: 100000\r\n",
      "      size: 65536\r\n",
      "    uidmap:\r\n",
      "    - container_id: 0\r\n",
      "      host_id: 1000\r\n",
      "      size: 1\r\n",
      "    - container_id: 1\r\n",
      "      host_id: 100000\r\n",
      "      size: 65536\r\n",
      "  kernel: 5.13.13-200.fc34.x86_64\r\n",
      "  linkmode: dynamic\r\n",
      "  memFree: 1709662208\r\n",
      "  memTotal: 2061852672\r\n",
      "  ociRuntime:\r\n",
      "    name: crun\r\n",
      "    package: crun-1.0-1.fc34.x86_64\r\n",
      "    path: /usr/bin/crun\r\n",
      "    version: |-\r\n",
      "      crun version 1.0\r\n",
      "      commit: 139dc6971e2f1d931af520188763e984d6cdfbf8\r\n",
      "      spec: 1.0.0\r\n",
      "      +SYSTEMD +SELINUX +APPARMOR +CAP +SECCOMP +EBPF +CRIU +YAJL\r\n",
      "  os: linux\r\n",
      "  remoteSocket:\r\n",
      "    exists: true\r\n",
      "    path: /run/user/1000/podman/podman.sock\r\n",
      "  security:\r\n",
      "    apparmorEnabled: false\r\n",
      "    capabilities: CAP_CHOWN,CAP_DAC_OVERRIDE,CAP_FOWNER,CAP_FSETID,CAP_KILL,CAP_NET_BIND_SERVICE,CAP_SETFCAP,CAP_SETGID,CAP_SETPCAP,CAP_SETUID,CAP_SYS_CHROOT\r\n",
      "    rootless: true\r\n",
      "    seccompEnabled: true\r\n",
      "    seccompProfilePath: /usr/share/containers/seccomp.json\r\n",
      "    selinuxEnabled: true\r\n",
      "  serviceIsRemote: true\r\n",
      "  slirp4netns:\r\n",
      "    executable: /usr/bin/slirp4netns\r\n",
      "    package: slirp4netns-1.1.12-2.fc34.x86_64\r\n",
      "    version: |-\r\n",
      "      slirp4netns version 1.1.12\r\n",
      "      commit: 7a104a101aa3278a2152351a082a6df71f57c9a3\r\n",
      "      libslirp: 4.4.0\r\n",
      "      SLIRP_CONFIG_VERSION_MAX: 3\r\n",
      "      libseccomp: 2.5.0\r\n",
      "  swapFree: 0\r\n",
      "  swapTotal: 0\r\n",
      "  uptime: 21h 54m 50.84s (Approximately 0.88 days)\r\n",
      "registries:\r\n",
      "  search:\r\n",
      "  - registry.fedoraproject.org\r\n",
      "  - registry.access.redhat.com\r\n",
      "  - docker.io\r\n",
      "  - quay.io\r\n",
      "store:\r\n",
      "  configFile: /var/home/core/.config/containers/storage.conf\r\n",
      "  containerStore:\r\n",
      "    number: 0\r\n",
      "    paused: 0\r\n",
      "    running: 0\r\n",
      "    stopped: 0\r\n",
      "  graphDriverName: overlay\r\n",
      "  graphOptions: {}\r\n",
      "  graphRoot: /var/home/core/.local/share/containers/storage\r\n",
      "  graphStatus:\r\n",
      "    Backing Filesystem: xfs\r\n",
      "    Native Overlay Diff: \"true\"\r\n",
      "    Supports d_type: \"true\"\r\n",
      "    Using metacopy: \"false\"\r\n",
      "  imageStore:\r\n",
      "    number: 0\r\n",
      "  runRoot: /run/user/1000/containers\r\n",
      "  volumePath: /var/home/core/.local/share/containers/storage/volumes\r\n",
      "version:\r\n",
      "  APIVersion: 3.3.1\r\n",
      "  Built: 1630356396\r\n",
      "  BuiltTime: Mon Aug 30 20:46:36 2021\r\n",
      "  GitCommit: \"\"\r\n",
      "  GoVersion: go1.16.6\r\n",
      "  OsArch: linux/amd64\r\n",
      "  Version: 3.3.1\r\n",
      "\r\n"
     ]
    }
   ],
   "source": [
    "!podman info"
   ]
  },
  {
   "cell_type": "code",
   "execution_count": 31,
   "id": "706a302c",
   "metadata": {},
   "outputs": [
    {
     "name": "stdout",
     "output_type": "stream",
     "text": [
      "STEP 1/6: FROM docker.io/library/rust:1.55.0\n",
      "Trying to pull docker.io/library/rust:1.55.0...\n",
      "Getting image source signatures\n",
      "Copying blob sha256:74ca45178655a5c9b4a372bb131e0e6a563074c81321f9178fd06bc9847f6559\n",
      "Copying blob sha256:955615a668ce169f8a1443fc6b6e6215f43fe0babfb4790712a2d3171f34d366\n",
      "Copying blob sha256:2756ef5f69a5190f4308619e0f446d95f5515eef4a814dbad0bcebbbbc7b25a8\n",
      "Copying blob sha256:911ea9f2bd51e53a455297e0631e18a72a86d7e2c8e1807176e80f991bde5d64\n",
      "Copying blob sha256:27b0a22ee906271a6ce9ddd1754fdd7d3b59078e0b57b6cc054c7ed7ac301587\n",
      "Copying blob sha256:8584d51a9262f9a3a436dea09ba40fa50f85802018f9bd299eee1bf538481077\n",
      "Copying blob sha256:27b0a22ee906271a6ce9ddd1754fdd7d3b59078e0b57b6cc054c7ed7ac301587\n",
      "Copying blob sha256:8584d51a9262f9a3a436dea09ba40fa50f85802018f9bd299eee1bf538481077\n",
      "Copying blob sha256:911ea9f2bd51e53a455297e0631e18a72a86d7e2c8e1807176e80f991bde5d64\n",
      "Copying blob sha256:955615a668ce169f8a1443fc6b6e6215f43fe0babfb4790712a2d3171f34d366\n",
      "Copying blob sha256:74ca45178655a5c9b4a372bb131e0e6a563074c81321f9178fd06bc9847f6559\n",
      "Copying blob sha256:2756ef5f69a5190f4308619e0f446d95f5515eef4a814dbad0bcebbbbc7b25a8\n",
      "Copying config sha256:378164a392dd65d97fda64be77d39c767f3e6579f7347d311467b40a3e246a10\n",
      "Writing manifest to image destination\n",
      "Storing signatures\n",
      "STEP 2/6: WORKDIR /usr/src/helloworld\n",
      "--> 3ce9c7e20e3\n",
      "STEP 3/6: COPY . .\n",
      "--> decad7af277\n",
      "STEP 4/6: RUN cargo build --release\n",
      "   Compiling helloworld v0.1.0 (/usr/src/helloworld)\n",
      "    Finished release [optimized] target(s) in 0.81s\n",
      "--> a7c5d292027\n",
      "STEP 5/6: RUN cargo install --path .\n",
      "  Installing helloworld v0.1.0 (/usr/src/helloworld)\n",
      "   Compiling helloworld v0.1.0 (/usr/src/helloworld)\n",
      "    Finished release [optimized] target(s) in 0.34s\n",
      "  Installing /usr/local/cargo/bin/helloworld\n",
      "   Installed package `helloworld v0.1.0 (/usr/src/helloworld)` (executable `helloworld`)\n",
      "--> 46d71fed44c\n",
      "STEP 6/6: CMD [\"/usr/local/cargo/bin/helloworld\"]\n",
      "COMMIT helloworld:v0.1.0\n",
      "--> 99e8ba4d292\n",
      "Successfully tagged localhost/helloworld:v0.1.0\n",
      "99e8ba4d29283f3c768470b2627ffde7ae50812a15b8de87a6842d4c65cc2685\n"
     ]
    }
   ],
   "source": [
    "!cd helloworld ; podman build --tag helloworld:v0.1.0 --file Dockerfile ."
   ]
  },
  {
   "cell_type": "code",
   "execution_count": 32,
   "id": "41b399a2",
   "metadata": {},
   "outputs": [
    {
     "name": "stdout",
     "output_type": "stream",
     "text": [
      "REPOSITORY              TAG         IMAGE ID      CREATED       SIZE\r\n",
      "localhost/helloworld    v0.1.0      99e8ba4d2928  25 hours ago  1.28 GB\r\n",
      "docker.io/library/rust  1.55.0      378164a392dd  3 days ago    1.27 GB\r\n"
     ]
    }
   ],
   "source": [
    "!podman images"
   ]
  },
  {
   "cell_type": "code",
   "execution_count": 33,
   "id": "47d7500f",
   "metadata": {},
   "outputs": [
    {
     "name": "stdout",
     "output_type": "stream",
     "text": [
      "Hello, world!\r\n"
     ]
    }
   ],
   "source": [
    "!podman run --name helloworld --rm helloworld:v0.1.0"
   ]
  },
  {
   "cell_type": "code",
   "execution_count": 34,
   "id": "2fce1dfc",
   "metadata": {},
   "outputs": [
    {
     "name": "stdout",
     "output_type": "stream",
     "text": [
      "STEP 1/6: FROM docker.io/library/rust:1.55.0-alpine3.14\n",
      "Trying to pull docker.io/library/rust:1.55.0-alpine3.14...\n",
      "Getting image source signatures\n",
      "Copying blob sha256:922454686f1ed186a1f1ecf76b947b3b16125d09227ba5d5736ce77c72941ce0\n",
      "Copying blob sha256:a0d0a0d46f8b52473982a3c466318f479767577551a53ffc9074c9fa7035982e\n",
      "Copying blob sha256:d4ea2bb3df1724da0bb9bbf8d43f7a5b7192610627c590c2fd4b8e0770230cbf\n",
      "Copying blob sha256:a0d0a0d46f8b52473982a3c466318f479767577551a53ffc9074c9fa7035982e\n",
      "Copying blob sha256:d4ea2bb3df1724da0bb9bbf8d43f7a5b7192610627c590c2fd4b8e0770230cbf\n",
      "Copying blob sha256:922454686f1ed186a1f1ecf76b947b3b16125d09227ba5d5736ce77c72941ce0\n",
      "Copying config sha256:ac41586fb44e3aa14cee23647a0d7257d86f4a549634453ab95497bd24eff193\n",
      "Writing manifest to image destination\n",
      "Storing signatures\n",
      "STEP 2/6: WORKDIR /usr/src/helloworld\n",
      "--> bcdc9711337\n",
      "STEP 3/6: COPY . .\n",
      "--> cc0eb630c13\n",
      "STEP 4/6: RUN cargo build --release\n",
      "   Compiling helloworld v0.1.0 (/usr/src/helloworld)\n",
      "    Finished release [optimized] target(s) in 1.02s\n",
      "--> bef5ddbb7b4\n",
      "STEP 5/6: RUN cargo install --path .\n",
      "  Installing helloworld v0.1.0 (/usr/src/helloworld)\n",
      "   Compiling helloworld v0.1.0 (/usr/src/helloworld)\n",
      "    Finished release [optimized] target(s) in 0.50s\n",
      "  Installing /usr/local/cargo/bin/helloworld\n",
      "   Installed package `helloworld v0.1.0 (/usr/src/helloworld)` (executable `helloworld`)\n",
      "--> c2ac15af0b6\n",
      "STEP 6/6: CMD [\"/usr/local/cargo/bin/helloworld\"]\n",
      "COMMIT helloworld:v0.2.0\n",
      "--> d4646741d2e\n",
      "Successfully tagged localhost/helloworld:v0.2.0\n",
      "d4646741d2efe4c809d2114be35ca9e1993cbec40c7d3e00729563cb09f501db\n"
     ]
    }
   ],
   "source": [
    "!cd helloworld ; podman build --tag helloworld:v0.2.0 --file Dockerfile.slim ."
   ]
  },
  {
   "cell_type": "code",
   "execution_count": 35,
   "id": "2e10693b",
   "metadata": {},
   "outputs": [
    {
     "name": "stdout",
     "output_type": "stream",
     "text": [
      "STEP 1/6: FROM docker.io/library/rust:1.55.0-alpine3.14\n",
      "STEP 2/6: WORKDIR /usr/src/helloworld\n",
      "--> Using cache bcdc971133729fccfc2aea8075dbae6004e2c6756c87d8b5eb11f5ecce8e73f8\n",
      "--> bcdc9711337\n",
      "STEP 3/6: COPY . .\n",
      "--> Using cache cc0eb630c132ffeb122c19d2e5525c77bd3f814f6591e740af68142db5b4d119\n",
      "--> cc0eb630c13\n",
      "STEP 4/6: RUN cargo build --release\n",
      "--> Using cache bef5ddbb7b4c6feff5388ac452d12008633a9207e17d0931cd1719ee48c07acb\n",
      "--> bef5ddbb7b4\n",
      "STEP 5/6: RUN cargo install --path .\n",
      "--> Using cache c2ac15af0b6e35c349d06610617ab1af497e098d983637f6b2c91c2cce8b891c\n",
      "--> c2ac15af0b6\n",
      "STEP 6/6: CMD [\"/usr/local/cargo/bin/helloworld\"]\n",
      "--> Using cache d4646741d2efe4c809d2114be35ca9e1993cbec40c7d3e00729563cb09f501db\n",
      "COMMIT helloworld:v0.3.0\n",
      "--> d4646741d2e\n",
      "Successfully tagged localhost/helloworld:v0.3.0\n",
      "Successfully tagged localhost/helloworld:v0.2.0\n",
      "d4646741d2efe4c809d2114be35ca9e1993cbec40c7d3e00729563cb09f501db\n"
     ]
    }
   ],
   "source": [
    "!cd helloworld ; podman build --tag helloworld:v0.3.0 --file Dockerfile.slim-staged ."
   ]
  },
  {
   "cell_type": "code",
   "execution_count": 38,
   "id": "f3c1c12c",
   "metadata": {},
   "outputs": [
    {
     "name": "stdout",
     "output_type": "stream",
     "text": [
      "REPOSITORY              TAG                IMAGE ID      CREATED       SIZE\r\n",
      "localhost/helloworld    v0.3.0             d4646741d2ef  25 hours ago  880 MB\r\n",
      "localhost/helloworld    v0.2.0             d4646741d2ef  25 hours ago  880 MB\r\n",
      "localhost/helloworld    v0.1.0             99e8ba4d2928  25 hours ago  1.28 GB\r\n",
      "docker.io/library/rust  1.55.0-alpine3.14  ac41586fb44e  3 days ago    868 MB\r\n",
      "docker.io/library/rust  1.55.0             378164a392dd  3 days ago    1.27 GB\r\n"
     ]
    }
   ],
   "source": [
    "!podman images"
   ]
  },
  {
   "cell_type": "code",
   "execution_count": 37,
   "id": "266eb764",
   "metadata": {},
   "outputs": [
    {
     "name": "stdout",
     "output_type": "stream",
     "text": [
      "Hello, world!\r\n"
     ]
    }
   ],
   "source": [
    "!podman run --name helloworld --rm helloworld:v0.3.0"
   ]
  }
 ],
 "metadata": {
  "interpreter": {
   "hash": "aee8b7b246df8f9039afb4144a1f6fd8d2ca17a180786b69acc140d282b71a49"
  },
  "kernelspec": {
   "display_name": "Python 3 (ipykernel)",
   "language": "python",
   "name": "python3"
  },
  "language_info": {
   "codemirror_mode": {
    "name": "ipython",
    "version": 3
   },
   "file_extension": ".py",
   "mimetype": "text/x-python",
   "name": "python",
   "nbconvert_exporter": "python",
   "pygments_lexer": "ipython3",
   "version": "3.9.7"
  }
 },
 "nbformat": 4,
 "nbformat_minor": 5
}

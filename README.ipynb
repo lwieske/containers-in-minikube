{
 "cells": [
  {
   "cell_type": "markdown",
   "source": [
    "# Some Demonstrations with Minikube and Containers"
   ],
   "metadata": {}
  },
  {
   "cell_type": "markdown",
   "source": [
    "## Cleaning Up"
   ],
   "metadata": {}
  },
  {
   "cell_type": "markdown",
   "source": [
    "First, the traces of former executions of  *minikube* are eliminated, the cluster itself (stop, delete) and further initialization steps in the cache directory to establish a clean base."
   ],
   "metadata": {}
  },
  {
   "cell_type": "code",
   "execution_count": 1,
   "source": [
    "!minikube stop ; minikube delete ; rm -rf ~/.minikube/cache"
   ],
   "outputs": [
    {
     "output_type": "stream",
     "name": "stdout",
     "text": [
      "✋  Stopping node \"minikube\"  ...\n",
      "🛑  Powering off \"minikube\" via SSH ...\n",
      "🛑  1 nodes stopped.\n",
      "🔥  Deleting \"minikube\" in docker ...\n",
      "🔥  Deleting container \"minikube\" ...\n",
      "🔥  Removing /Users/lothar/.minikube/machines/minikube ...\n",
      "💀  Removed all traces of the \"minikube\" cluster.\n"
     ]
    }
   ],
   "metadata": {}
  },
  {
   "cell_type": "markdown",
   "source": [
    "Second, formerly built podman images will be deleted as well."
   ],
   "metadata": {}
  },
  {
   "cell_type": "code",
   "execution_count": 2,
   "source": [
    "!podman rmi $(podman images -qa)! --force"
   ],
   "outputs": [
    {
     "output_type": "stream",
     "name": "stdout",
     "text": [
      "Untagged: localhost/helloworld:v0.3.0\n",
      "Untagged: localhost/helloworld:v0.2.0\n",
      "Untagged: localhost/helloworld:v0.1.0\n",
      "Untagged: docker.io/messense/rust-musl-cross:x86_64-musl\n",
      "Untagged: docker.io/library/rust:1.55.0-alpine3.14\n",
      "Untagged: docker.io/library/rust:1.55.0\n",
      "Deleted: 09cc868a05f2336d638744f931b002c2bbc6e58089967cb0a5229f113e7dea2a\n",
      "Deleted: 5fe1f5eb5a457d96a258092da6d5dafb480e054da443bbca4aa9c55ee919faac\n",
      "Deleted: 4eff59f79ae6c88c754d2e93cabb83813d2206aeb0bd45c63e525757affdef0e\n",
      "Deleted: aa78994a7a1e2fdb5ae4635ef2a413db350796a42c8897f4868af715122d6386\n",
      "Deleted: 322bce99c3fdeb4cb8c20692865e62be7ace741d72151448d7f12aed4e7face7\n",
      "Deleted: c0ff6c87f7dd4dd760ea8c9a488b7c8a289aefad7ab57d1e1bc5f85f0c269761\n",
      "Deleted: 75df71096f49894d34f5d45138ed59fbc8b3107976e604f4dfb00fe2667c7c7b\n",
      "Deleted: bbe0a33bde60a3bab2f970ba5c7c09256055eb78fbfec58be4c6df5cb5fd38b3\n",
      "Deleted: d7c2293f0aef6be9689187bcaf2852d1d5a1d28c473eff47f8eb78153520017b\n",
      "Deleted: 1e8b5c8405823ab415fd2478f85c2f6a28d444ec4b4730302913ef9a89c349d3\n",
      "Deleted: a1292910ce7889492f99c41707d1dd632fa954ce9883ae5fe052a9339dd7cf09\n",
      "Deleted: b83cb00df2be822242f0fb3cd8ca17b5079f58428f098765c45ce3e54a5f2ba0\n",
      "Deleted: c74c1642e662eb89cee0a04a795c71a0bd9a1420c8244590864eb2a08e01d198\n",
      "Deleted: 255de8926a6b7aa25fad0d9eaa70da81d09c4d510f146efae29e6df5769d8c63\n",
      "Deleted: 12c334706607063ceca4085244713926367083235773a27378eacdfebcadc511\n",
      "Deleted: 29ef025759bfa47d6c13d50ace2a6aae990fca552b3a48afd3c00750f0ba2cfe\n",
      "Deleted: 9af81564304a0ed6111ec4e372ea30a82c6159672957f300da20bab8192b5bff\n",
      "Deleted: b4f264478670e49544333173e4d81cf9c46e18722d9055a245899dda5cc3954f\n",
      "Deleted: ac41586fb44e3aa14cee23647a0d7257d86f4a549634453ab95497bd24eff193\n",
      "Deleted: 378164a392dd65d97fda64be77d39c767f3e6579f7347d311467b40a3e246a10\n",
      "Error: invalid reference format\n"
     ]
    }
   ],
   "metadata": {}
  },
  {
   "cell_type": "markdown",
   "source": [
    "'Error: image name or ID must be specified' indicates that the cache has bees empty before."
   ],
   "metadata": {}
  },
  {
   "cell_type": "code",
   "execution_count": 3,
   "source": [
    "!rm -rf alpine"
   ],
   "outputs": [],
   "metadata": {}
  },
  {
   "cell_type": "code",
   "execution_count": 4,
   "source": [
    "!rm -rf helloworld"
   ],
   "outputs": [],
   "metadata": {}
  },
  {
   "cell_type": "markdown",
   "source": [
    "## Start The First Cluster"
   ],
   "metadata": {}
  },
  {
   "cell_type": "code",
   "execution_count": 5,
   "source": [
    "%%time\n",
    "\n",
    "!KUBERNETES_VERSION=1.22.1 minikube start --kubernetes-version=${KUBERNETES_VERSION}"
   ],
   "outputs": [
    {
     "output_type": "stream",
     "name": "stdout",
     "text": [
      "😄  minikube v1.23.0 on Darwin 11.5.2\n",
      "✨  Automatically selected the docker driver. Other choices: hyperkit, virtualbox, ssh, podman (experimental)\n",
      "👍  Starting control plane node minikube in cluster minikube\n",
      "🚜  Pulling base image ...\n",
      "💾  Downloading Kubernetes v1.22.1 preload ...\n",
      "    > preloaded-images-k8s-v12-v1...: 515.04 MiB / 515.04 MiB  100.00% 5.57 MiB\n",
      "🔥  Creating docker container (CPUs=2, Memory=1987MB) ...\u001b[K\u001b[K\u001b[K\u001b[K\u001b[K\u001b[K\u001b[K\u001b[K\u001b[K\u001b[K\u001b[K\u001b[K\u001b[K\u001b[K\u001b[K\u001b[K\u001b[K\u001b[K\u001b[K\u001b[K\u001b[K\u001b[K\u001b[K\u001b[K\u001b[K\u001b[K\u001b[K\u001b[K\u001b[K\u001b[K\u001b[K\u001b[K\u001b[K\u001b[K\u001b[K\u001b[K\u001b[K\u001b[K\u001b[K\u001b[K\u001b[K\u001b[K\u001b[K\u001b[K\u001b[K\u001b[K\u001b[K\u001b[K\u001b[K\u001b[K\u001b[K\u001b[K\u001b[K\u001b[K\u001b[K\u001b[K\u001b[K\u001b[K\u001b[K\u001b[K\u001b[K\u001b[K\u001b[K\u001b[K\u001b[K\u001b[K\u001b[K\u001b[K\u001b[K\u001b[K\u001b[K\u001b[K\u001b[K\u001b[K\u001b[K\u001b[K\u001b[K\u001b[K\u001b[K\u001b[K\u001b[K\u001b[K\u001b[K\u001b[K\u001b[K\u001b[K\u001b[K\u001b[K\u001b[K\u001b[K\u001b[K\u001b[K\u001b[K\u001b[K\u001b[K\u001b[K\u001b[K\u001b[K\u001b[K\u001b[K\u001b[K\u001b[K\u001b[K\u001b[K\u001b[K\u001b[K\u001b[K\u001b[K\u001b[K\u001b[K\u001b[K\u001b[K\u001b[K\u001b[K\u001b[K\u001b[K\u001b[K\u001b[K\u001b[K\u001b[K\u001b[K\u001b[K\u001b[K\u001b[K\u001b[K\u001b[K\u001b[K\u001b[K\u001b[K\u001b[K\u001b[K\u001b[K\u001b[K\u001b[K\u001b[K\u001b[K\u001b[K\u001b[K\u001b[K\u001b[K\u001b[K\u001b[K\u001b[K\u001b[K\u001b[K\u001b[K\u001b[K\u001b[K\u001b[K\u001b[K\u001b[K\u001b[K\u001b[K\u001b[K\u001b[K\u001b[K\u001b[K\u001b[K\u001b[K\u001b[K\u001b[K\u001b[K\u001b[K\u001b[K\u001b[K\u001b[K\u001b[K\u001b[K\u001b[K\u001b[K\u001b[K\u001b[K\u001b[K\u001b[K\u001b[K\u001b[K\u001b[K\u001b[K\u001b[K\u001b[K\u001b[K\u001b[K\u001b[K\u001b[K\u001b[K\u001b[K\u001b[K\u001b[K\u001b[K\u001b[K\u001b[K\u001b[K\u001b[K\u001b[K\u001b[K\u001b[K\u001b[K\u001b[K\u001b[K\u001b[K\u001b[K\u001b[K\u001b[K\u001b[K\u001b[K\u001b[K\u001b[K\u001b[K\u001b[K\u001b[K\u001b[K\u001b[K\u001b[K\u001b[K\u001b[K\u001b[K\u001b[K\u001b[K\u001b[K\u001b[K\u001b[K\u001b[K\u001b[K\u001b[K\u001b[K\u001b[K\u001b[K\u001b[K\u001b[K\u001b[K\u001b[K\u001b[K\u001b[K\u001b[K\u001b[K\u001b[K\u001b[K\u001b[K\u001b[K\u001b[K\u001b[K\u001b[K\u001b[K\u001b[K\u001b[K\u001b[K\u001b[K\u001b[K\u001b[K\u001b[K\u001b[K\u001b[K\u001b[K\u001b[K\u001b[K\u001b[K\u001b[K\u001b[K\u001b[K\u001b[K\u001b[K\u001b[K\u001b[K\u001b[K\u001b[K\u001b[K\u001b[K\u001b[K\u001b[K\u001b[K\u001b[K\u001b[K\u001b[K\u001b[K\u001b[K\u001b[K\u001b[K\u001b[K\u001b[K\u001b[K\u001b[K\u001b[K\u001b[K\u001b[K\u001b[K\u001b[K\u001b[K\u001b[K\u001b[K\u001b[K\u001b[K\u001b[K\u001b[K\u001b[K\u001b[K\u001b[K\u001b[K\u001b[K\u001b[K\u001b[K\u001b[K\u001b[K\u001b[K\u001b[K\u001b[K\u001b[K\u001b[K\u001b[K\u001b[K\u001b[K\u001b[K\u001b[K\u001b[K\u001b[K\u001b[K\u001b[K\u001b[K\u001b[K\u001b[K\u001b[K\u001b[K\u001b[K\u001b[K\u001b[K\u001b[K\u001b[K\u001b[K\u001b[K\u001b[K\u001b[K\u001b[K\u001b[K\u001b[K\u001b[K\u001b[K\u001b[K\u001b[K\u001b[K\u001b[K\u001b[K\u001b[K\u001b[K\u001b[K\u001b[K\u001b[K\u001b[K\u001b[K\u001b[K\u001b[K\u001b[K\u001b[K\u001b[K\u001b[K\u001b[K\u001b[K\u001b[K\u001b[K\u001b[K\u001b[K\u001b[K\u001b[K\u001b[K\n",
      "🐳  Preparing Kubernetes v1.22.1 on Docker 20.10.8 ...\u001b[K\u001b[K\u001b[K\u001b[K\u001b[K\u001b[K\u001b[K\u001b[K\u001b[K\u001b[K\u001b[K\u001b[K\u001b[K\u001b[K\u001b[K\u001b[K\u001b[K\u001b[K\u001b[K\u001b[K\u001b[K\u001b[K\u001b[K\u001b[K\u001b[K\u001b[K\u001b[K\u001b[K\u001b[K\u001b[K\u001b[K\u001b[K\u001b[K\u001b[K\u001b[K\u001b[K\u001b[K\u001b[K\u001b[K\u001b[K\u001b[K\u001b[K\u001b[K\u001b[K\u001b[K\u001b[K\u001b[K\u001b[K\u001b[K\u001b[K\u001b[K\u001b[K\u001b[K\u001b[K\u001b[K\u001b[K\u001b[K\u001b[K\u001b[K\u001b[K\u001b[K\u001b[K\u001b[K\u001b[K\u001b[K\u001b[K\u001b[K\u001b[K\u001b[K\u001b[K\u001b[K\u001b[K\u001b[K\u001b[K\u001b[K\u001b[K\u001b[K\u001b[K\u001b[K\u001b[K\u001b[K\u001b[K\u001b[K\u001b[K\u001b[K\u001b[K\u001b[K\u001b[K\u001b[K\u001b[K\u001b[K\u001b[K\u001b[K\u001b[K\u001b[K\u001b[K\u001b[K\u001b[K\u001b[K\u001b[K\u001b[K\u001b[K\u001b[K\u001b[K\u001b[K\u001b[K\u001b[K\u001b[K\u001b[K\u001b[K\u001b[K\u001b[K\u001b[K\u001b[K\u001b[K\u001b[K\u001b[K\u001b[K\u001b[K\u001b[K\u001b[K\u001b[K\u001b[K\u001b[K\u001b[K\u001b[K\u001b[K\u001b[K\u001b[K\u001b[K\u001b[K\u001b[K\u001b[K\u001b[K\u001b[K\u001b[K\u001b[K\u001b[K\u001b[K\u001b[K\u001b[K\u001b[K\u001b[K\u001b[K\u001b[K\u001b[K\u001b[K\u001b[K\u001b[K\u001b[K\u001b[K\u001b[K\u001b[K\u001b[K\u001b[K\u001b[K\u001b[K\u001b[K\u001b[K\u001b[K\u001b[K\u001b[K\u001b[K\u001b[K\u001b[K\u001b[K\u001b[K\u001b[K\u001b[K\u001b[K\u001b[K\u001b[K\u001b[K\u001b[K\u001b[K\u001b[K\u001b[K\u001b[K\u001b[K\u001b[K\u001b[K\u001b[K\u001b[K\u001b[K\u001b[K\u001b[K\u001b[K\u001b[K\u001b[K\u001b[K\u001b[K\u001b[K\u001b[K\u001b[K\u001b[K\u001b[K\u001b[K\u001b[K\u001b[K\u001b[K\u001b[K\u001b[K\u001b[K\u001b[K\u001b[K\u001b[K\u001b[K\u001b[K\u001b[K\u001b[K\u001b[K\u001b[K\u001b[K\u001b[K\u001b[K\u001b[K\u001b[K\u001b[K\u001b[K\u001b[K\u001b[K\u001b[K\u001b[K\u001b[K\u001b[K\u001b[K\u001b[K\u001b[K\u001b[K\u001b[K\u001b[K\u001b[K\u001b[K\u001b[K\u001b[K\u001b[K\u001b[K\u001b[K\u001b[K\u001b[K\u001b[K\u001b[K\u001b[K\u001b[K\u001b[K\u001b[K\u001b[K\u001b[K\u001b[K\u001b[K\u001b[K\u001b[K\u001b[K\u001b[K\u001b[K\u001b[K\u001b[K\u001b[K\u001b[K\u001b[K\u001b[K\u001b[K\u001b[K\u001b[K\u001b[K\u001b[K\u001b[K\u001b[K\u001b[K\u001b[K\u001b[K\u001b[K\u001b[K\u001b[K\u001b[K\u001b[K\u001b[K\u001b[K\u001b[K\u001b[K\u001b[K\u001b[K\u001b[K\u001b[K\u001b[K\u001b[K\u001b[K\u001b[K\u001b[K\u001b[K\u001b[K\u001b[K\u001b[K\u001b[K\u001b[K\u001b[K\u001b[K\u001b[K\u001b[K\u001b[K\u001b[K\u001b[K\u001b[K\u001b[K\u001b[K\u001b[K\u001b[K\u001b[K\u001b[K\u001b[K\u001b[K\u001b[K\u001b[K\u001b[K\u001b[K\u001b[K\u001b[K\u001b[K\u001b[K\u001b[K\u001b[K\u001b[K\u001b[K\u001b[K\u001b[K\u001b[K\u001b[K\u001b[K\u001b[K\u001b[K\u001b[K\u001b[K\u001b[K\u001b[K\u001b[K\u001b[K\u001b[K\u001b[K\u001b[K\u001b[K\u001b[K\u001b[K\u001b[K\u001b[K\u001b[K\u001b[K\u001b[K\u001b[K\u001b[K\u001b[K\u001b[K\u001b[K\u001b[K\u001b[K\u001b[K\u001b[K\u001b[K\u001b[K\u001b[K\u001b[K\u001b[K\u001b[K\u001b[K\u001b[K\u001b[K\u001b[K\u001b[K\u001b[K\u001b[K\u001b[K\u001b[K\u001b[K\u001b[K\u001b[K\u001b[K\u001b[K\u001b[K\u001b[K\u001b[K\u001b[K\u001b[K\u001b[K\u001b[K\u001b[K\u001b[K\u001b[K\u001b[K\u001b[K\u001b[K\u001b[K\u001b[K\u001b[K\u001b[K\u001b[K\u001b[K\u001b[K\u001b[K\u001b[K\u001b[K\u001b[K\u001b[K\u001b[K\u001b[K\u001b[K\u001b[K\u001b[K\u001b[K\u001b[K\u001b[K\u001b[K\n",
      "    ▪ Generating certificates and keys ...\n",
      "    ▪ Booting up control plane ...\u001b[K\u001b[K\n",
      "    ▪ Configuring RBAC rules ...\u001b[K\u001b[K\u001b[K\u001b[K\u001b[K\u001b[K\u001b[K\u001b[K\u001b[K\u001b[K\u001b[K\u001b[K\u001b[K\u001b[K\u001b[K\u001b[K\u001b[K\u001b[K\u001b[K\u001b[K\u001b[K\u001b[K\u001b[K\u001b[K\u001b[K\u001b[K\u001b[K\u001b[K\u001b[K\u001b[K\u001b[K\u001b[K\u001b[K\u001b[K\u001b[K\u001b[K\n",
      "🔎  Verifying Kubernetes components...\n",
      "    ▪ Using image gcr.io/k8s-minikube/storage-provisioner:v5\n",
      "🌟  Enabled addons: storage-provisioner, default-storageclass\n",
      "🏄  Done! kubectl is now configured to use \"minikube\" cluster and \"default\" namespace by default\n",
      "CPU times: user 2.49 s, sys: 814 ms, total: 3.31 s\n",
      "Wall time: 2min 21s\n"
     ]
    }
   ],
   "metadata": {}
  },
  {
   "cell_type": "markdown",
   "source": [
    "## Checking Readiness"
   ],
   "metadata": {}
  },
  {
   "cell_type": "code",
   "execution_count": 6,
   "source": [
    "!kubectl get nodes"
   ],
   "outputs": [
    {
     "output_type": "stream",
     "name": "stdout",
     "text": [
      "NAME       STATUS     ROLES                  AGE   VERSION\n",
      "minikube   NotReady   control-plane,master   11s   v1.22.1\n"
     ]
    }
   ],
   "metadata": {}
  },
  {
   "cell_type": "code",
   "execution_count": 7,
   "source": [
    "!sleep 10 ; kubectl get nodes"
   ],
   "outputs": [
    {
     "output_type": "stream",
     "name": "stdout",
     "text": [
      "NAME       STATUS   ROLES                  AGE   VERSION\n",
      "minikube   Ready    control-plane,master   22s   v1.22.1\n"
     ]
    }
   ],
   "metadata": {}
  },
  {
   "cell_type": "markdown",
   "source": [
    "## Start Cluster With Preloaded Cache"
   ],
   "metadata": {}
  },
  {
   "cell_type": "code",
   "execution_count": 8,
   "source": [
    "!minikube stop ; minikube delete"
   ],
   "outputs": [
    {
     "output_type": "stream",
     "name": "stdout",
     "text": [
      "✋  Stopping node \"minikube\"  ...\n",
      "🛑  Powering off \"minikube\" via SSH ...\n",
      "🛑  1 nodes stopped.\n",
      "🔥  Deleting \"minikube\" in docker ...\n",
      "🔥  Deleting container \"minikube\" ...\n",
      "🔥  Removing /Users/lothar/.minikube/machines/minikube ...\n",
      "💀  Removed all traces of the \"minikube\" cluster.\n"
     ]
    }
   ],
   "metadata": {}
  },
  {
   "cell_type": "code",
   "execution_count": 9,
   "source": [
    "%%time\n",
    "\n",
    "!KUBERNETES_VERSION=1.22.1 minikube start --kubernetes-version=${KUBERNETES_VERSION}"
   ],
   "outputs": [
    {
     "output_type": "stream",
     "name": "stdout",
     "text": [
      "😄  minikube v1.23.0 on Darwin 11.5.2\n",
      "✨  Automatically selected the docker driver. Other choices: hyperkit, virtualbox, ssh, podman (experimental)\n",
      "👍  Starting control plane node minikube in cluster minikube\n",
      "🚜  Pulling base image ...\n",
      "🔥  Creating docker container (CPUs=2, Memory=1987MB) ...\u001b[K\u001b[K\u001b[K\u001b[K\u001b[K\u001b[K\u001b[K\u001b[K\u001b[K\u001b[K\u001b[K\u001b[K\u001b[K\u001b[K\u001b[K\u001b[K\u001b[K\u001b[K\u001b[K\u001b[K\u001b[K\u001b[K\u001b[K\u001b[K\u001b[K\u001b[K\u001b[K\u001b[K\u001b[K\u001b[K\u001b[K\u001b[K\u001b[K\u001b[K\u001b[K\u001b[K\u001b[K\u001b[K\u001b[K\u001b[K\u001b[K\u001b[K\u001b[K\u001b[K\u001b[K\u001b[K\u001b[K\u001b[K\u001b[K\u001b[K\u001b[K\u001b[K\u001b[K\u001b[K\u001b[K\u001b[K\u001b[K\u001b[K\u001b[K\u001b[K\u001b[K\u001b[K\u001b[K\u001b[K\u001b[K\u001b[K\u001b[K\u001b[K\u001b[K\u001b[K\u001b[K\u001b[K\u001b[K\u001b[K\u001b[K\u001b[K\u001b[K\u001b[K\u001b[K\u001b[K\u001b[K\u001b[K\u001b[K\u001b[K\u001b[K\u001b[K\u001b[K\u001b[K\u001b[K\u001b[K\u001b[K\u001b[K\u001b[K\u001b[K\u001b[K\u001b[K\u001b[K\u001b[K\u001b[K\u001b[K\u001b[K\u001b[K\u001b[K\u001b[K\u001b[K\u001b[K\u001b[K\u001b[K\u001b[K\u001b[K\u001b[K\u001b[K\u001b[K\u001b[K\u001b[K\u001b[K\u001b[K\u001b[K\u001b[K\u001b[K\u001b[K\u001b[K\u001b[K\u001b[K\u001b[K\u001b[K\u001b[K\u001b[K\u001b[K\u001b[K\u001b[K\u001b[K\u001b[K\u001b[K\u001b[K\u001b[K\u001b[K\u001b[K\u001b[K\u001b[K\u001b[K\u001b[K\u001b[K\u001b[K\u001b[K\u001b[K\u001b[K\u001b[K\u001b[K\u001b[K\u001b[K\u001b[K\u001b[K\u001b[K\u001b[K\u001b[K\u001b[K\u001b[K\u001b[K\u001b[K\u001b[K\u001b[K\u001b[K\u001b[K\u001b[K\u001b[K\u001b[K\u001b[K\u001b[K\u001b[K\u001b[K\u001b[K\u001b[K\u001b[K\u001b[K\u001b[K\u001b[K\u001b[K\u001b[K\u001b[K\u001b[K\u001b[K\u001b[K\u001b[K\u001b[K\u001b[K\u001b[K\u001b[K\u001b[K\u001b[K\u001b[K\u001b[K\u001b[K\u001b[K\u001b[K\u001b[K\u001b[K\u001b[K\u001b[K\u001b[K\u001b[K\u001b[K\u001b[K\u001b[K\u001b[K\u001b[K\u001b[K\u001b[K\u001b[K\u001b[K\u001b[K\u001b[K\u001b[K\u001b[K\u001b[K\u001b[K\u001b[K\u001b[K\u001b[K\u001b[K\u001b[K\u001b[K\u001b[K\u001b[K\u001b[K\u001b[K\u001b[K\u001b[K\u001b[K\u001b[K\u001b[K\u001b[K\u001b[K\u001b[K\u001b[K\u001b[K\u001b[K\u001b[K\u001b[K\u001b[K\u001b[K\u001b[K\u001b[K\u001b[K\u001b[K\u001b[K\u001b[K\u001b[K\u001b[K\u001b[K\u001b[K\u001b[K\u001b[K\u001b[K\u001b[K\u001b[K\u001b[K\u001b[K\u001b[K\u001b[K\u001b[K\u001b[K\u001b[K\u001b[K\u001b[K\u001b[K\u001b[K\u001b[K\u001b[K\u001b[K\u001b[K\u001b[K\u001b[K\u001b[K\u001b[K\u001b[K\u001b[K\u001b[K\u001b[K\u001b[K\u001b[K\u001b[K\u001b[K\u001b[K\u001b[K\u001b[K\u001b[K\u001b[K\u001b[K\u001b[K\u001b[K\u001b[K\u001b[K\u001b[K\u001b[K\u001b[K\u001b[K\u001b[K\u001b[K\u001b[K\u001b[K\u001b[K\u001b[K\u001b[K\u001b[K\u001b[K\u001b[K\u001b[K\u001b[K\u001b[K\u001b[K\u001b[K\u001b[K\u001b[K\u001b[K\u001b[K\u001b[K\u001b[K\u001b[K\u001b[K\n",
      "🐳  Preparing Kubernetes v1.22.1 on Docker 20.10.8 ...\u001b[K\u001b[K\u001b[K\u001b[K\u001b[K\u001b[K\u001b[K\u001b[K\u001b[K\u001b[K\u001b[K\u001b[K\u001b[K\u001b[K\u001b[K\u001b[K\u001b[K\u001b[K\u001b[K\u001b[K\u001b[K\u001b[K\u001b[K\u001b[K\u001b[K\u001b[K\u001b[K\u001b[K\u001b[K\u001b[K\u001b[K\u001b[K\u001b[K\u001b[K\u001b[K\u001b[K\u001b[K\u001b[K\u001b[K\u001b[K\u001b[K\u001b[K\u001b[K\u001b[K\u001b[K\u001b[K\u001b[K\u001b[K\u001b[K\u001b[K\u001b[K\u001b[K\u001b[K\u001b[K\u001b[K\u001b[K\u001b[K\u001b[K\u001b[K\u001b[K\n",
      "    ▪ Generating certificates and keys ...\u001b[K\u001b[K\u001b[K\u001b[K\u001b[K\u001b[K\u001b[K\u001b[K\u001b[K\u001b[K\u001b[K\u001b[K\u001b[K\u001b[K\u001b[K\u001b[K\u001b[K\u001b[K\u001b[K\u001b[K\u001b[K\u001b[K\u001b[K\u001b[K\u001b[K\u001b[K\u001b[K\u001b[K\u001b[K\u001b[K\u001b[K\u001b[K\u001b[K\u001b[K\u001b[K\u001b[K\u001b[K\u001b[K\u001b[K\u001b[K\u001b[K\u001b[K\u001b[K\u001b[K\u001b[K\u001b[K\u001b[K\u001b[K\u001b[K\u001b[K\u001b[K\u001b[K\u001b[K\u001b[K\u001b[K\u001b[K\u001b[K\u001b[K\u001b[K\u001b[K\u001b[K\u001b[K\u001b[K\u001b[K\n",
      "    ▪ Booting up control plane ...\u001b[K\u001b[K\u001b[K\u001b[K\u001b[K\u001b[K\u001b[K\u001b[K\u001b[K\u001b[K\u001b[K\u001b[K\u001b[K\u001b[K\u001b[K\u001b[K\u001b[K\u001b[K\u001b[K\u001b[K\u001b[K\u001b[K\u001b[K\u001b[K\u001b[K\u001b[K\u001b[K\u001b[K\u001b[K\u001b[K\u001b[K\u001b[K\u001b[K\u001b[K\u001b[K\u001b[K\u001b[K\u001b[K\u001b[K\u001b[K\u001b[K\u001b[K\u001b[K\u001b[K\u001b[K\u001b[K\u001b[K\u001b[K\u001b[K\u001b[K\u001b[K\u001b[K\u001b[K\u001b[K\u001b[K\u001b[K\u001b[K\u001b[K\u001b[K\u001b[K\u001b[K\u001b[K\u001b[K\u001b[K\u001b[K\u001b[K\u001b[K\u001b[K\u001b[K\u001b[K\u001b[K\u001b[K\u001b[K\u001b[K\u001b[K\u001b[K\u001b[K\u001b[K\u001b[K\u001b[K\u001b[K\u001b[K\u001b[K\u001b[K\u001b[K\u001b[K\u001b[K\u001b[K\u001b[K\u001b[K\u001b[K\u001b[K\u001b[K\u001b[K\u001b[K\u001b[K\u001b[K\u001b[K\u001b[K\u001b[K\u001b[K\u001b[K\u001b[K\u001b[K\u001b[K\u001b[K\u001b[K\u001b[K\u001b[K\u001b[K\u001b[K\u001b[K\u001b[K\u001b[K\u001b[K\u001b[K\u001b[K\u001b[K\u001b[K\u001b[K\u001b[K\u001b[K\u001b[K\u001b[K\u001b[K\u001b[K\u001b[K\u001b[K\u001b[K\u001b[K\u001b[K\u001b[K\u001b[K\u001b[K\u001b[K\u001b[K\u001b[K\u001b[K\u001b[K\u001b[K\u001b[K\u001b[K\u001b[K\u001b[K\u001b[K\u001b[K\u001b[K\u001b[K\u001b[K\u001b[K\u001b[K\u001b[K\u001b[K\u001b[K\u001b[K\u001b[K\u001b[K\u001b[K\u001b[K\u001b[K\u001b[K\u001b[K\u001b[K\u001b[K\u001b[K\u001b[K\u001b[K\u001b[K\u001b[K\u001b[K\u001b[K\u001b[K\u001b[K\u001b[K\u001b[K\u001b[K\u001b[K\u001b[K\u001b[K\u001b[K\u001b[K\u001b[K\u001b[K\u001b[K\u001b[K\u001b[K\u001b[K\u001b[K\u001b[K\u001b[K\u001b[K\u001b[K\u001b[K\u001b[K\u001b[K\u001b[K\u001b[K\u001b[K\u001b[K\u001b[K\u001b[K\u001b[K\u001b[K\u001b[K\u001b[K\u001b[K\u001b[K\u001b[K\u001b[K\u001b[K\u001b[K\u001b[K\u001b[K\u001b[K\u001b[K\u001b[K\u001b[K\u001b[K\u001b[K\u001b[K\u001b[K\u001b[K\u001b[K\u001b[K\u001b[K\u001b[K\u001b[K\u001b[K\n",
      "    ▪ Configuring RBAC rules ...\u001b[K\u001b[K\u001b[K\u001b[K\u001b[K\u001b[K\u001b[K\u001b[K\u001b[K\u001b[K\u001b[K\u001b[K\u001b[K\u001b[K\u001b[K\u001b[K\u001b[K\u001b[K\u001b[K\u001b[K\u001b[K\u001b[K\u001b[K\u001b[K\u001b[K\u001b[K\u001b[K\u001b[K\u001b[K\u001b[K\u001b[K\u001b[K\u001b[K\u001b[K\u001b[K\u001b[K\n",
      "🔎  Verifying Kubernetes components...\n",
      "    ▪ Using image gcr.io/k8s-minikube/storage-provisioner:v5\n",
      "🌟  Enabled addons: storage-provisioner, default-storageclass\n",
      "🏄  Done! kubectl is now configured to use \"minikube\" cluster and \"default\" namespace by default\n",
      "CPU times: user 663 ms, sys: 224 ms, total: 886 ms\n",
      "Wall time: 39.9 s\n"
     ]
    }
   ],
   "metadata": {}
  },
  {
   "cell_type": "markdown",
   "source": [
    "Having deleted the cluster the startuo time for a new cluster with prefilled caches reduces to well under a minute."
   ],
   "metadata": {}
  },
  {
   "cell_type": "code",
   "execution_count": 10,
   "source": [
    "!sleep 10"
   ],
   "outputs": [],
   "metadata": {}
  },
  {
   "cell_type": "markdown",
   "source": [
    "## Creating First Namespace And Pod"
   ],
   "metadata": {}
  },
  {
   "cell_type": "code",
   "execution_count": 11,
   "source": [
    "%%bash\n",
    "\n",
    "cat <<EOF| kubectl apply -f -\n",
    "kind: Namespace\n",
    "apiVersion: v1\n",
    "metadata:\n",
    "  name: demo\n",
    "  labels:\n",
    "    name: demo\n",
    "---\n",
    "kind: Pod\n",
    "apiVersion: v1\n",
    "metadata:\n",
    "  name: demo-pod\n",
    "  namespace: demo\n",
    "spec:\n",
    "  containers:\n",
    "  - name: demo-ctr\n",
    "    image: nginx:stable-alpine\n",
    "    resources:\n",
    "      limits:\n",
    "        memory: \"200Mi\"\n",
    "        cpu: \"700m\"\n",
    "      requests:\n",
    "        memory: \"200Mi\"\n",
    "        cpu: \"700m\"\n",
    "EOF"
   ],
   "outputs": [
    {
     "output_type": "stream",
     "name": "stdout",
     "text": [
      "namespace/demo created\n",
      "pod/demo-pod created\n"
     ]
    }
   ],
   "metadata": {}
  },
  {
   "cell_type": "markdown",
   "source": [
    "A namespace demo with a pod demo-pod in it according to above yaml."
   ],
   "metadata": {}
  },
  {
   "cell_type": "code",
   "execution_count": 12,
   "source": [
    "%%bash\n",
    "\n",
    "cat <<EOF| kubectl apply -f -\n",
    "kind: Namespace\n",
    "apiVersion: v1\n",
    "metadata:\n",
    "  name: demo\n",
    "  labels:\n",
    "    name: demo\n",
    "---\n",
    "kind: Pod\n",
    "apiVersion: v1\n",
    "metadata:\n",
    "  name: demo-pod\n",
    "  namespace: demo\n",
    "spec:\n",
    "  containers:\n",
    "  - name: demo-ctr\n",
    "    image: nginx:stable-alpine\n",
    "    resources:\n",
    "      limits:\n",
    "        memory: \"200Mi\"\n",
    "        cpu: \"700m\"\n",
    "      requests:\n",
    "        memory: \"200Mi\"\n",
    "        cpu: \"700m\"\n",
    "EOF"
   ],
   "outputs": [
    {
     "output_type": "stream",
     "name": "stdout",
     "text": [
      "namespace/demo unchanged\n",
      "pod/demo-pod unchanged\n"
     ]
    }
   ],
   "metadata": {}
  },
  {
   "cell_type": "markdown",
   "source": [
    "As nemspace *demo* and the pod *demo-pod* in it have already been created by executing the exact same command before, *kubectl apply* remains idempotent."
   ],
   "metadata": {}
  },
  {
   "cell_type": "code",
   "execution_count": 13,
   "source": [
    "!kubectl get pods --namespace demo"
   ],
   "outputs": [
    {
     "output_type": "stream",
     "name": "stdout",
     "text": [
      "NAME       READY   STATUS              RESTARTS   AGE\n",
      "demo-pod   0/1     ContainerCreating   0          0s\n"
     ]
    }
   ],
   "metadata": {}
  },
  {
   "cell_type": "markdown",
   "source": [
    "The newly created and started pod *demo-pod* is just one pod among others constituting the base kubernetes cluster. Those containers are isolated in the *kube-system* namespace."
   ],
   "metadata": {}
  },
  {
   "cell_type": "code",
   "execution_count": 14,
   "source": [
    "!kubectl get namespaces"
   ],
   "outputs": [
    {
     "output_type": "stream",
     "name": "stdout",
     "text": [
      "NAME              STATUS   AGE\n",
      "default           Active   16s\n",
      "demo              Active   1s\n",
      "kube-node-lease   Active   18s\n",
      "kube-public       Active   18s\n",
      "kube-system       Active   18s\n"
     ]
    }
   ],
   "metadata": {}
  },
  {
   "cell_type": "code",
   "execution_count": 15,
   "source": [
    "!kubectl get pods --namespace kube-system"
   ],
   "outputs": [
    {
     "output_type": "stream",
     "name": "stdout",
     "text": [
      "NAME                               READY   STATUS              RESTARTS   AGE\n",
      "coredns-78fcd69978-b4b9h           0/1     ContainerCreating   0          2s\n",
      "etcd-minikube                      1/1     Running             0          13s\n",
      "kube-apiserver-minikube            1/1     Running             0          13s\n",
      "kube-controller-manager-minikube   1/1     Running             0          13s\n",
      "kube-proxy-sc77r                   1/1     Running             0          2s\n",
      "kube-scheduler-minikube            1/1     Running             0          16s\n",
      "storage-provisioner                0/1     ContainerCreating   0          12s\n"
     ]
    }
   ],
   "metadata": {}
  },
  {
   "cell_type": "code",
   "execution_count": 16,
   "source": [
    "%%bash\n",
    "\n",
    "echo \"systemd-cgls --no-pager ; exit\" | minikube ssh"
   ],
   "outputs": [
    {
     "output_type": "stream",
     "name": "stdout",
     "text": [
      "systemd-cgls --no-pager ; exit\n",
      "\u001b]0;docker@minikube: ~\u0007docker@minikube:~$ systemd-cgls --no-pager ; exit\n",
      "Control group /docker/72f6c802458aae83498117481d8b770ce511183a63957a627341d63c2b08cf6d:\n",
      "-.slice\n",
      "├─init.scope \n",
      "│ └─\u001b[0;38;5;245m1 /sbin/init\u001b[0m\n",
      "└─system.slice \n",
      "  ├─containerd.service \n",
      "  │ ├─\u001b[0;38;5;245m 198 /usr/bin/containerd\u001b[0m\n",
      "  │ ├─\u001b[0;38;5;245m1605 /usr/bin/containerd-shim-runc-v2 -namespace moby -id 38e6043466da814…\u001b[0m\n",
      "  │ ├─\u001b[0;38;5;245m1606 /usr/bin/containerd-shim-runc-v2 -namespace moby -id de061d1f6733959…\u001b[0m\n",
      "  │ ├─\u001b[0;38;5;245m1607 /usr/bin/containerd-shim-runc-v2 -namespace moby -id 341c171872cfd56…\u001b[0m\n",
      "  │ ├─\u001b[0;38;5;245m1664 /pause\u001b[0m\n",
      "  │ ├─\u001b[0;38;5;245m1665 /pause\u001b[0m\n",
      "  │ ├─\u001b[0;38;5;245m1677 /pause\u001b[0m\n",
      "  │ ├─\u001b[0;38;5;245m1697 /usr/bin/containerd-shim-runc-v2 -namespace moby -id 88de5ec95b3370e…\u001b[0m\n",
      "  │ ├─\u001b[0;38;5;245m1742 /pause\u001b[0m\n",
      "  │ ├─\u001b[0;38;5;245m1789 /usr/bin/containerd-shim-runc-v2 -namespace moby -id bf3f5cf69be42db…\u001b[0m\n",
      "  │ ├─\u001b[0;38;5;245m1808 /usr/bin/containerd-shim-runc-v2 -namespace moby -id 67ee6fac6afd5e9…\u001b[0m\n",
      "  │ ├─\u001b[0;38;5;245m1829 /usr/bin/containerd-shim-runc-v2 -namespace moby -id 3a0016c96dcca87…\u001b[0m\n",
      "  │ ├─\u001b[0;38;5;245m1853 /usr/bin/containerd-shim-runc-v2 -namespace moby -id 2e1f2119e78b3bc…\u001b[0m\n",
      "  │ ├─\u001b[0;38;5;245m1905 kube-controller-manager --allocate-node-cidrs=true --authentication-…\u001b[0m\n",
      "  │ ├─\u001b[0;38;5;245m1913 kube-apiserver --advertise-address=192.168.49.2 --allow-privileged=t…\u001b[0m\n",
      "  │ ├─\u001b[0;38;5;245m1922 etcd --advertise-client-urls=https://192.168.49.2:2379 --cert-file=/…\u001b[0m\n",
      "  │ ├─\u001b[0;38;5;245m1939 kube-scheduler --authentication-kubeconfig=/etc/kubernetes/scheduler…\u001b[0m\n",
      "  │ ├─\u001b[0;38;5;245m2811 /usr/bin/containerd-shim-runc-v2 -namespace moby -id b6bbe693be3989e…\u001b[0m\n",
      "  │ ├─\u001b[0;38;5;245m2832 /pause\u001b[0m\n",
      "  │ ├─\u001b[0;38;5;245m2862 /usr/bin/containerd-shim-runc-v2 -namespace moby -id 99eb3e569527d37…\u001b[0m\n",
      "  │ ├─\u001b[0;38;5;245m2888 /usr/bin/containerd-shim-runc-v2 -namespace moby -id f357e8041d9330b…\u001b[0m\n",
      "  │ ├─\u001b[0;38;5;245m2910 /usr/local/bin/kube-proxy --config=/var/lib/kube-proxy/config.conf -…\u001b[0m\n",
      "  │ ├─\u001b[0;38;5;245m2917 /pause\u001b[0m\n",
      "  │ ├─\u001b[0;38;5;245m2963 /usr/bin/containerd-shim-runc-v2 -namespace moby -id d131329f083f18f…\u001b[0m\n",
      "  │ ├─\u001b[0;38;5;245m2991 /pause\u001b[0m\n",
      "  │ ├─\u001b[0;38;5;245m3030 /usr/bin/containerd-shim-runc-v2 -namespace moby -id dbdcad0318fe8fe…\u001b[0m\n",
      "  │ ├─\u001b[0;38;5;245m3054 /usr/bin/containerd-shim-runc-v2 -namespace moby -id d14823727a42373…\u001b[0m\n",
      "  │ ├─\u001b[0;38;5;245m3087 /usr/bin/containerd-shim-runc-v2 -namespace moby -id 44ad28acb6785f8…\u001b[0m\n",
      "  │ ├─\u001b[0;38;5;245m3104 /pause\u001b[0m\n",
      "  │ ├─\u001b[0;38;5;245m3122 /coredns -conf /etc/coredns/Corefile\u001b[0m\n",
      "  │ ├─\u001b[0;38;5;245m3135 /storage-provisioner\u001b[0m\n",
      "  │ └─\u001b[0;38;5;245m3238 iptables-restore -w 5 -W 100000 --noflush --counters\u001b[0m\n",
      "  ├─docker.service \n",
      "  │ └─\u001b[0;38;5;245m470 /usr/bin/dockerd -H tcp://0.0.0.0:2376 -H unix:///var/run/docker.sock…\u001b[0m\n",
      "  ├─kubelet.service \n",
      "  │ └─\u001b[0;38;5;245m2389 /var/lib/minikube/binaries/v1.22.1/kubelet --bootstrap-kubeconfig=/e…\u001b[0m\n",
      "  ├─systemd-journald.service \n",
      "  │ └─\u001b[0;38;5;245m176 /lib/systemd/systemd-journald\u001b[0m\n",
      "  ├─ssh.service \n",
      "  │ ├─\u001b[0;38;5;245m 205 sshd: /usr/sbin/sshd -D [listener] 0 of 10-100 startups\u001b[0m\n",
      "  │ ├─\u001b[0;38;5;245m3234 sshd: docker [priv]\u001b[0m\n",
      "  │ ├─\u001b[0;38;5;245m3237 sshd: docker@pts/1\u001b[0m\n",
      "  │ ├─\u001b[0;38;5;245m3239 -bash\u001b[0m\n",
      "  │ └─\u001b[0;38;5;245m3242 systemd-cgls --no-pager\u001b[0m\n",
      "  └─dbus.service \n",
      "    └─\u001b[0;38;5;245m195 /usr/bin/dbus-daemon --system --address=systemd: --nofork --nopidfile…\u001b[0m\n",
      "logout\n",
      "\u001b[3J\u001b[H\u001b[2J"
     ]
    }
   ],
   "metadata": {}
  },
  {
   "cell_type": "code",
   "execution_count": 17,
   "source": [
    "!skopeo --override-os linux copy docker://alpine:3.14.2 oci:alpine:3.14.2"
   ],
   "outputs": [
    {
     "output_type": "stream",
     "name": "stdout",
     "text": [
      "Getting image source signatures\n",
      "Copying blob a0d0a0d46f8b [====>-----------------------------] 403.2KiB / 2.7MiB\n",
      "\u001b[1A\u001b[JCopying blob a0d0a0d46f8b [======>---------------------------] 563.2KiB / 2.7MiB\n",
      "\u001b[1A\u001b[JCopying blob a0d0a0d46f8b [=============>----------------------] 1.1MiB / 2.7MiB\n",
      "\u001b[1A\u001b[JCopying blob a0d0a0d46f8b [================>-------------------] 1.3MiB / 2.7MiB\n",
      "\u001b[1A\u001b[JCopying blob a0d0a0d46f8b [=========================>----------] 1.9MiB / 2.7MiB\n",
      "\u001b[1A\u001b[JCopying blob a0d0a0d46f8b [===============================>----] 2.3MiB / 2.7MiB\n",
      "\u001b[1A\u001b[JCopying blob a0d0a0d46f8b [====================================] 2.7MiB / 2.7MiB\n",
      "\u001b[1A\u001b[JCopying blob a0d0a0d46f8b done  \n",
      "\u001b[1A\u001b[JCopying blob a0d0a0d46f8b done  \n",
      "\u001b[1A\u001b[JCopying blob a0d0a0d46f8b done  \n",
      "Copying config 696d33ca15 [====================================] 585.0b / 585.0b\n",
      "\u001b[1A\u001b[JCopying config 696d33ca15 done  \n",
      "\u001b[1A\u001b[JCopying config 696d33ca15 done  \n",
      "\u001b[1A\u001b[JCopying config 696d33ca15 done  \n",
      "Writing manifest to image destination\n",
      "Storing signatures\n"
     ]
    }
   ],
   "metadata": {}
  },
  {
   "cell_type": "code",
   "execution_count": 18,
   "source": [
    "!tree alpine"
   ],
   "outputs": [
    {
     "output_type": "stream",
     "name": "stdout",
     "text": [
      "\u001b[01;34malpine\u001b[00m\n",
      "├── \u001b[01;34mblobs\u001b[00m\n",
      "│   └── \u001b[01;34msha256\u001b[00m\n",
      "│       ├── 03014f0323753134bf6399ffbe26dcd75e89c6a7429adfab392d64706649f07b\n",
      "│       ├── 696d33ca1510966c426bdcc0daf05f75990d68c4eb820f615edccf7b971935e7\n",
      "│       └── a0d0a0d46f8b52473982a3c466318f479767577551a53ffc9074c9fa7035982e\n",
      "├── index.json\n",
      "└── oci-layout\n",
      "\n",
      "2 directories, 5 files\n"
     ]
    }
   ],
   "metadata": {}
  },
  {
   "cell_type": "code",
   "execution_count": 19,
   "source": [
    "!file alpine/blobs/sha256/*"
   ],
   "outputs": [
    {
     "output_type": "stream",
     "name": "stdout",
     "text": [
      "alpine/blobs/sha256/03014f0323753134bf6399ffbe26dcd75e89c6a7429adfab392d64706649f07b: JSON data\n",
      "alpine/blobs/sha256/696d33ca1510966c426bdcc0daf05f75990d68c4eb820f615edccf7b971935e7: JSON data\n",
      "alpine/blobs/sha256/a0d0a0d46f8b52473982a3c466318f479767577551a53ffc9074c9fa7035982e: gzip compressed data, original size modulo 2^32 5865472\n"
     ]
    }
   ],
   "metadata": {}
  },
  {
   "cell_type": "code",
   "execution_count": 20,
   "source": [
    "!cat alpine/blobs/sha256/03014f0323753134bf6399ffbe26dcd75e89c6a7429adfab392d64706649f07b | jq"
   ],
   "outputs": [
    {
     "output_type": "stream",
     "name": "stdout",
     "text": [
      "\u001b[1;39m{\n",
      "  \u001b[0m\u001b[34;1m\"schemaVersion\"\u001b[0m\u001b[1;39m: \u001b[0m\u001b[0;39m2\u001b[0m\u001b[1;39m,\n",
      "  \u001b[0m\u001b[34;1m\"config\"\u001b[0m\u001b[1;39m: \u001b[0m\u001b[1;39m{\n",
      "    \u001b[0m\u001b[34;1m\"mediaType\"\u001b[0m\u001b[1;39m: \u001b[0m\u001b[0;32m\"application/vnd.oci.image.config.v1+json\"\u001b[0m\u001b[1;39m,\n",
      "    \u001b[0m\u001b[34;1m\"digest\"\u001b[0m\u001b[1;39m: \u001b[0m\u001b[0;32m\"sha256:696d33ca1510966c426bdcc0daf05f75990d68c4eb820f615edccf7b971935e7\"\u001b[0m\u001b[1;39m,\n",
      "    \u001b[0m\u001b[34;1m\"size\"\u001b[0m\u001b[1;39m: \u001b[0m\u001b[0;39m585\u001b[0m\u001b[1;39m\n",
      "  \u001b[1;39m}\u001b[0m\u001b[1;39m,\n",
      "  \u001b[0m\u001b[34;1m\"layers\"\u001b[0m\u001b[1;39m: \u001b[0m\u001b[1;39m[\n",
      "    \u001b[1;39m{\n",
      "      \u001b[0m\u001b[34;1m\"mediaType\"\u001b[0m\u001b[1;39m: \u001b[0m\u001b[0;32m\"application/vnd.oci.image.layer.v1.tar+gzip\"\u001b[0m\u001b[1;39m,\n",
      "      \u001b[0m\u001b[34;1m\"digest\"\u001b[0m\u001b[1;39m: \u001b[0m\u001b[0;32m\"sha256:a0d0a0d46f8b52473982a3c466318f479767577551a53ffc9074c9fa7035982e\"\u001b[0m\u001b[1;39m,\n",
      "      \u001b[0m\u001b[34;1m\"size\"\u001b[0m\u001b[1;39m: \u001b[0m\u001b[0;39m2814446\u001b[0m\u001b[1;39m\n",
      "    \u001b[1;39m}\u001b[0m\u001b[1;39m\n",
      "  \u001b[1;39m]\u001b[0m\u001b[1;39m\n",
      "\u001b[1;39m}\u001b[0m\n"
     ]
    }
   ],
   "metadata": {}
  },
  {
   "cell_type": "code",
   "execution_count": 21,
   "source": [
    "!cat alpine/blobs/sha256/696d33ca1510966c426bdcc0daf05f75990d68c4eb820f615edccf7b971935e7 | jq"
   ],
   "outputs": [
    {
     "output_type": "stream",
     "name": "stdout",
     "text": [
      "\u001b[1;39m{\n",
      "  \u001b[0m\u001b[34;1m\"created\"\u001b[0m\u001b[1;39m: \u001b[0m\u001b[0;32m\"2021-08-27T17:19:45.758611523Z\"\u001b[0m\u001b[1;39m,\n",
      "  \u001b[0m\u001b[34;1m\"architecture\"\u001b[0m\u001b[1;39m: \u001b[0m\u001b[0;32m\"amd64\"\u001b[0m\u001b[1;39m,\n",
      "  \u001b[0m\u001b[34;1m\"os\"\u001b[0m\u001b[1;39m: \u001b[0m\u001b[0;32m\"linux\"\u001b[0m\u001b[1;39m,\n",
      "  \u001b[0m\u001b[34;1m\"config\"\u001b[0m\u001b[1;39m: \u001b[0m\u001b[1;39m{\n",
      "    \u001b[0m\u001b[34;1m\"Env\"\u001b[0m\u001b[1;39m: \u001b[0m\u001b[1;39m[\n",
      "      \u001b[0;32m\"PATH=/usr/local/sbin:/usr/local/bin:/usr/sbin:/usr/bin:/sbin:/bin\"\u001b[0m\u001b[1;39m\n",
      "    \u001b[1;39m]\u001b[0m\u001b[1;39m,\n",
      "    \u001b[0m\u001b[34;1m\"Cmd\"\u001b[0m\u001b[1;39m: \u001b[0m\u001b[1;39m[\n",
      "      \u001b[0;32m\"/bin/sh\"\u001b[0m\u001b[1;39m\n",
      "    \u001b[1;39m]\u001b[0m\u001b[1;39m\n",
      "  \u001b[1;39m}\u001b[0m\u001b[1;39m,\n",
      "  \u001b[0m\u001b[34;1m\"rootfs\"\u001b[0m\u001b[1;39m: \u001b[0m\u001b[1;39m{\n",
      "    \u001b[0m\u001b[34;1m\"type\"\u001b[0m\u001b[1;39m: \u001b[0m\u001b[0;32m\"layers\"\u001b[0m\u001b[1;39m,\n",
      "    \u001b[0m\u001b[34;1m\"diff_ids\"\u001b[0m\u001b[1;39m: \u001b[0m\u001b[1;39m[\n",
      "      \u001b[0;32m\"sha256:e2eb06d8af8218cfec8210147357a68b7e13f7c485b991c288c2d01dc228bb68\"\u001b[0m\u001b[1;39m\n",
      "    \u001b[1;39m]\u001b[0m\u001b[1;39m\n",
      "  \u001b[1;39m}\u001b[0m\u001b[1;39m,\n",
      "  \u001b[0m\u001b[34;1m\"history\"\u001b[0m\u001b[1;39m: \u001b[0m\u001b[1;39m[\n",
      "    \u001b[1;39m{\n",
      "      \u001b[0m\u001b[34;1m\"created\"\u001b[0m\u001b[1;39m: \u001b[0m\u001b[0;32m\"2021-08-27T17:19:45.553092363Z\"\u001b[0m\u001b[1;39m,\n",
      "      \u001b[0m\u001b[34;1m\"created_by\"\u001b[0m\u001b[1;39m: \u001b[0m\u001b[0;32m\"/bin/sh -c #(nop) ADD file:aad4290d27580cc1a094ffaf98c3ca2fc5d699fe695dfb8e6e9fac20f1129450 in / \"\u001b[0m\u001b[1;39m\n",
      "    \u001b[1;39m}\u001b[0m\u001b[1;39m,\n",
      "    \u001b[1;39m{\n",
      "      \u001b[0m\u001b[34;1m\"created\"\u001b[0m\u001b[1;39m: \u001b[0m\u001b[0;32m\"2021-08-27T17:19:45.758611523Z\"\u001b[0m\u001b[1;39m,\n",
      "      \u001b[0m\u001b[34;1m\"created_by\"\u001b[0m\u001b[1;39m: \u001b[0m\u001b[0;32m\"/bin/sh -c #(nop)  CMD [\\\"/bin/sh\\\"]\"\u001b[0m\u001b[1;39m,\n",
      "      \u001b[0m\u001b[34;1m\"empty_layer\"\u001b[0m\u001b[1;39m: \u001b[0m\u001b[0;39mtrue\u001b[0m\u001b[1;39m\n",
      "    \u001b[1;39m}\u001b[0m\u001b[1;39m\n",
      "  \u001b[1;39m]\u001b[0m\u001b[1;39m\n",
      "\u001b[1;39m}\u001b[0m\n"
     ]
    }
   ],
   "metadata": {}
  },
  {
   "cell_type": "code",
   "execution_count": 22,
   "source": [
    "!rustup self uninstall -y"
   ],
   "outputs": [
    {
     "output_type": "stream",
     "name": "stdout",
     "text": [
      "\u001b[1minfo: \u001b[mremoving rustup home\n",
      "\u001b[1minfo: \u001b[mremoving cargo home\n",
      "\u001b[1minfo: \u001b[mremoving rustup binaries\n",
      "\u001b[1minfo: \u001b[mrustup is uninstalled\n"
     ]
    }
   ],
   "metadata": {}
  },
  {
   "cell_type": "code",
   "execution_count": 23,
   "source": [
    "!curl --proto '=https' --tlsv1.2 -sSf https://sh.rustup.rs | sh -s -- -y"
   ],
   "outputs": [
    {
     "output_type": "stream",
     "name": "stdout",
     "text": [
      "\u001b[1minfo:\u001b[0m downloading installer\n",
      "\u001b[1minfo: \u001b[mprofile set to 'default'\n",
      "\u001b[1minfo: \u001b[mdefault host triple is x86_64-apple-darwin\n",
      "\u001b[1minfo: \u001b[msyncing channel updates for 'stable-x86_64-apple-darwin'\n",
      "\u001b[1minfo: \u001b[mlatest update on 2021-09-09, rust version 1.55.0 (c8dfcfe04 2021-09-06)\n",
      "\u001b[1minfo: \u001b[mdownloading component 'cargo'\n",
      "\u001b[1minfo: \u001b[mdownloading component 'clippy'\n",
      "\u001b[1minfo: \u001b[mdownloading component 'rust-docs'\n",
      " 17.1 MiB /  17.1 MiB (100 %)   6.0 MiB/s in  2s ETA:  0s\n",
      "\u001b[1minfo: \u001b[mdownloading component 'rust-std'\n",
      " 21.0 MiB /  21.0 MiB (100 %)   6.5 MiB/s in  3s ETA:  0s\n",
      "\u001b[1minfo: \u001b[mdownloading component 'rustc'\n",
      " 75.9 MiB /  75.9 MiB (100 %)   6.3 MiB/s in 11s ETA:  0s\n",
      "\u001b[1minfo: \u001b[mdownloading component 'rustfmt'\n",
      "\u001b[1minfo: \u001b[minstalling component 'cargo'\n",
      "\u001b[1minfo: \u001b[minstalling component 'clippy'\n",
      "\u001b[1minfo: \u001b[minstalling component 'rust-docs'\n",
      " 17.1 MiB /  17.1 MiB (100 %)   5.7 MiB/s in  2s ETA:  0s\n",
      "\u001b[1minfo: \u001b[minstalling component 'rust-std'\n",
      " 21.0 MiB /  21.0 MiB (100 %)  13.0 MiB/s in  1s ETA:  0s\n",
      "\u001b[1minfo: \u001b[minstalling component 'rustc'\n",
      " 75.9 MiB /  75.9 MiB (100 %)  10.7 MiB/s in  6s ETA:  0s\n",
      "\u001b[1minfo: \u001b[minstalling component 'rustfmt'\n",
      "\u001b[1minfo: \u001b[mdefault toolchain set to 'stable-x86_64-apple-darwin'\n",
      "\n",
      "  \u001b[1m\u001b[32mstable-x86_64-apple-darwin installed\u001b[m - rustc 1.55.0 (c8dfcfe04 2021-09-06)\n",
      "\n",
      "\u001b[1m\n",
      "Rust is installed now. Great!\n",
      "\u001b[m\n",
      "To get started you may need to restart your current shell.\n",
      "This would reload your \u001b[1mPATH\u001b[m environment variable to include\n",
      "Cargo's bin directory ($HOME/.cargo/bin).\n",
      "\n",
      "To configure your current shell, run:\n",
      "source $HOME/.cargo/env\n"
     ]
    }
   ],
   "metadata": {}
  },
  {
   "cell_type": "code",
   "execution_count": 24,
   "source": [
    "!rustup default stable"
   ],
   "outputs": [
    {
     "output_type": "stream",
     "name": "stdout",
     "text": [
      "\u001b[1minfo: \u001b[musing existing install for 'stable-x86_64-apple-darwin'\n",
      "\u001b[1minfo: \u001b[mdefault toolchain set to 'stable-x86_64-apple-darwin'\n",
      "\n",
      "  \u001b[1mstable-x86_64-apple-darwin unchanged\u001b[m - rustc 1.55.0 (c8dfcfe04 2021-09-06)\n",
      "\n"
     ]
    }
   ],
   "metadata": {}
  },
  {
   "cell_type": "code",
   "execution_count": 25,
   "source": [
    "!rustup update"
   ],
   "outputs": [
    {
     "output_type": "stream",
     "name": "stdout",
     "text": [
      "\u001b[1minfo: \u001b[msyncing channel updates for 'stable-x86_64-apple-darwin'\n",
      "\u001b[1minfo: \u001b[mchecking for self-updates\n",
      "\n",
      "  \u001b[1mstable-x86_64-apple-darwin unchanged\u001b[m - rustc 1.55.0 (c8dfcfe04 2021-09-06)\n",
      "\n",
      "\u001b[1minfo: \u001b[mcleaning up downloads & tmp directories\n"
     ]
    }
   ],
   "metadata": {}
  },
  {
   "cell_type": "code",
   "execution_count": 26,
   "source": [
    "!cargo new helloworld"
   ],
   "outputs": [
    {
     "output_type": "stream",
     "name": "stdout",
     "text": [
      "\u001b[0m\u001b[0m\u001b[1m\u001b[32m     Created\u001b[0m binary (application) `helloworld` package\n"
     ]
    }
   ],
   "metadata": {}
  },
  {
   "cell_type": "code",
   "execution_count": 27,
   "source": [
    "%%bash\n",
    "\n",
    "cd helloworld\n",
    "\n",
    "cat >Dockerfile <<EOF\n",
    "FROM docker.io/library/rust:1.55.0\n",
    "\n",
    "WORKDIR /usr/src/helloworld\n",
    "\n",
    "COPY . .\n",
    "\n",
    "RUN cargo build --release\n",
    "\n",
    "RUN cargo install --path .\n",
    "\n",
    "CMD [\"/usr/local/cargo/bin/helloworld\"]\n",
    "EOF"
   ],
   "outputs": [],
   "metadata": {}
  },
  {
   "cell_type": "code",
   "execution_count": 28,
   "source": [
    "%%bash\n",
    "\n",
    "cd helloworld\n",
    "\n",
    "cat >Dockerfile.slim <<EOF\n",
    "FROM docker.io/library/rust:1.55.0-alpine3.14\n",
    "\n",
    "WORKDIR /usr/src/helloworld\n",
    "\n",
    "COPY . .\n",
    "\n",
    "RUN cargo build --release\n",
    "\n",
    "RUN cargo install --path .\n",
    "\n",
    "CMD [\"/usr/local/cargo/bin/helloworld\"]\n",
    "EOF"
   ],
   "outputs": [],
   "metadata": {}
  },
  {
   "cell_type": "code",
   "execution_count": 29,
   "source": [
    "%%bash\n",
    "\n",
    "cd helloworld\n",
    "\n",
    "cat >Dockerfile.slim-staged <<EOF\n",
    "# ------------------------------------------------------------------------------\n",
    "# Cargo Build Stage\n",
    "# ------------------------------------------------------------------------------\n",
    "\n",
    "FROM docker.io/messense/rust-musl-cross:x86_64-musl as cargo-build\n",
    "\n",
    "# RUN apt-get update\n",
    "\n",
    "# RUN apt-get install musl-tools -y\n",
    "\n",
    "RUN rustup target add x86_64-unknown-linux-musl 1>/dev/null 2>&1\n",
    "\n",
    "WORKDIR /usr/src/helloworld\n",
    "\n",
    "COPY . .\n",
    "\n",
    "RUN cargo build --release --target=x86_64-unknown-linux-musl\n",
    "\n",
    "# ------------------------------------------------------------------------------\n",
    "# Final Stage\n",
    "# ------------------------------------------------------------------------------\n",
    "\n",
    "FROM docker.io/library/alpine:3.14.2\n",
    "\n",
    "RUN addgroup -g 1000 helloworld\n",
    "\n",
    "RUN adduser -D -s /bin/sh -u 1000 -G helloworld helloworld\n",
    "\n",
    "WORKDIR /home/helloworld/bin/\n",
    "\n",
    "COPY --from=cargo-build /usr/src/helloworld/target/x86_64-unknown-linux-musl/release/helloworld .\n",
    "\n",
    "RUN chown helloworld:helloworld helloworld\n",
    "\n",
    "USER helloworld\n",
    "\n",
    "CMD [\"./helloworld\"]\n",
    "EOF"
   ],
   "outputs": [],
   "metadata": {}
  },
  {
   "cell_type": "code",
   "execution_count": 30,
   "source": [
    "!podman info"
   ],
   "outputs": [
    {
     "output_type": "stream",
     "name": "stdout",
     "text": [
      "host:\n",
      "  arch: amd64\n",
      "  buildahVersion: 1.22.3\n",
      "  cgroupControllers: []\n",
      "  cgroupManager: systemd\n",
      "  cgroupVersion: v2\n",
      "  conmon:\n",
      "    package: conmon-2.0.29-2.fc34.x86_64\n",
      "    path: /usr/bin/conmon\n",
      "    version: 'conmon version 2.0.29, commit: '\n",
      "  cpus: 1\n",
      "  distribution:\n",
      "    distribution: fedora\n",
      "    version: \"34\"\n",
      "  eventLogger: journald\n",
      "  hostname: localhost\n",
      "  idMappings:\n",
      "    gidmap:\n",
      "    - container_id: 0\n",
      "      host_id: 1000\n",
      "      size: 1\n",
      "    - container_id: 1\n",
      "      host_id: 100000\n",
      "      size: 65536\n",
      "    uidmap:\n",
      "    - container_id: 0\n",
      "      host_id: 1000\n",
      "      size: 1\n",
      "    - container_id: 1\n",
      "      host_id: 100000\n",
      "      size: 65536\n",
      "  kernel: 5.13.13-200.fc34.x86_64\n",
      "  linkmode: dynamic\n",
      "  memFree: 1724989440\n",
      "  memTotal: 2061852672\n",
      "  ociRuntime:\n",
      "    name: crun\n",
      "    package: crun-1.0-1.fc34.x86_64\n",
      "    path: /usr/bin/crun\n",
      "    version: |-\n",
      "      crun version 1.0\n",
      "      commit: 139dc6971e2f1d931af520188763e984d6cdfbf8\n",
      "      spec: 1.0.0\n",
      "      +SYSTEMD +SELINUX +APPARMOR +CAP +SECCOMP +EBPF +CRIU +YAJL\n",
      "  os: linux\n",
      "  remoteSocket:\n",
      "    exists: true\n",
      "    path: /run/user/1000/podman/podman.sock\n",
      "  security:\n",
      "    apparmorEnabled: false\n",
      "    capabilities: CAP_CHOWN,CAP_DAC_OVERRIDE,CAP_FOWNER,CAP_FSETID,CAP_KILL,CAP_NET_BIND_SERVICE,CAP_SETFCAP,CAP_SETGID,CAP_SETPCAP,CAP_SETUID,CAP_SYS_CHROOT\n",
      "    rootless: true\n",
      "    seccompEnabled: true\n",
      "    seccompProfilePath: /usr/share/containers/seccomp.json\n",
      "    selinuxEnabled: true\n",
      "  serviceIsRemote: true\n",
      "  slirp4netns:\n",
      "    executable: /usr/bin/slirp4netns\n",
      "    package: slirp4netns-1.1.12-2.fc34.x86_64\n",
      "    version: |-\n",
      "      slirp4netns version 1.1.12\n",
      "      commit: 7a104a101aa3278a2152351a082a6df71f57c9a3\n",
      "      libslirp: 4.4.0\n",
      "      SLIRP_CONFIG_VERSION_MAX: 3\n",
      "      libseccomp: 2.5.0\n",
      "  swapFree: 0\n",
      "  swapTotal: 0\n",
      "  uptime: 27h 58m 56.58s (Approximately 1.12 days)\n",
      "registries:\n",
      "  search:\n",
      "  - registry.fedoraproject.org\n",
      "  - registry.access.redhat.com\n",
      "  - docker.io\n",
      "  - quay.io\n",
      "store:\n",
      "  configFile: /var/home/core/.config/containers/storage.conf\n",
      "  containerStore:\n",
      "    number: 0\n",
      "    paused: 0\n",
      "    running: 0\n",
      "    stopped: 0\n",
      "  graphDriverName: overlay\n",
      "  graphOptions: {}\n",
      "  graphRoot: /var/home/core/.local/share/containers/storage\n",
      "  graphStatus:\n",
      "    Backing Filesystem: xfs\n",
      "    Native Overlay Diff: \"true\"\n",
      "    Supports d_type: \"true\"\n",
      "    Using metacopy: \"false\"\n",
      "  imageStore:\n",
      "    number: 1\n",
      "  runRoot: /run/user/1000/containers\n",
      "  volumePath: /var/home/core/.local/share/containers/storage/volumes\n",
      "version:\n",
      "  APIVersion: 3.3.1\n",
      "  Built: 1630356396\n",
      "  BuiltTime: Mon Aug 30 20:46:36 2021\n",
      "  GitCommit: \"\"\n",
      "  GoVersion: go1.16.6\n",
      "  OsArch: linux/amd64\n",
      "  Version: 3.3.1\n",
      "\n"
     ]
    }
   ],
   "metadata": {}
  },
  {
   "cell_type": "code",
   "execution_count": 31,
   "source": [
    "!cd helloworld ; podman build --tag helloworld:v0.1.0 --file Dockerfile ."
   ],
   "outputs": [
    {
     "output_type": "stream",
     "name": "stdout",
     "text": [
      "STEP 1/6: FROM docker.io/library/rust:1.55.0\n",
      "Trying to pull docker.io/library/rust:1.55.0...\n",
      "Getting image source signatures\n",
      "Copying blob sha256:74ca45178655a5c9b4a372bb131e0e6a563074c81321f9178fd06bc9847f6559\n",
      "Copying blob sha256:955615a668ce169f8a1443fc6b6e6215f43fe0babfb4790712a2d3171f34d366\n",
      "Copying blob sha256:2756ef5f69a5190f4308619e0f446d95f5515eef4a814dbad0bcebbbbc7b25a8\n",
      "Copying blob sha256:911ea9f2bd51e53a455297e0631e18a72a86d7e2c8e1807176e80f991bde5d64\n",
      "Copying blob sha256:27b0a22ee906271a6ce9ddd1754fdd7d3b59078e0b57b6cc054c7ed7ac301587\n",
      "Copying blob sha256:8584d51a9262f9a3a436dea09ba40fa50f85802018f9bd299eee1bf538481077\n",
      "Copying blob sha256:27b0a22ee906271a6ce9ddd1754fdd7d3b59078e0b57b6cc054c7ed7ac301587\n",
      "Copying blob sha256:955615a668ce169f8a1443fc6b6e6215f43fe0babfb4790712a2d3171f34d366\n",
      "Copying blob sha256:8584d51a9262f9a3a436dea09ba40fa50f85802018f9bd299eee1bf538481077\n",
      "Copying blob sha256:74ca45178655a5c9b4a372bb131e0e6a563074c81321f9178fd06bc9847f6559\n",
      "Copying blob sha256:911ea9f2bd51e53a455297e0631e18a72a86d7e2c8e1807176e80f991bde5d64\n",
      "Copying blob sha256:2756ef5f69a5190f4308619e0f446d95f5515eef4a814dbad0bcebbbbc7b25a8\n",
      "Copying config sha256:378164a392dd65d97fda64be77d39c767f3e6579f7347d311467b40a3e246a10\n",
      "Writing manifest to image destination\n",
      "Storing signatures\n",
      "STEP 2/6: WORKDIR /usr/src/helloworld\n",
      "--> 817d66bf40b\n",
      "STEP 3/6: COPY . .\n",
      "--> 6f52da67fe8\n",
      "STEP 4/6: RUN cargo build --release\n",
      "   Compiling helloworld v0.1.0 (/usr/src/helloworld)\n",
      "    Finished release [optimized] target(s) in 0.92s\n",
      "--> 5cf8ab05203\n",
      "STEP 5/6: RUN cargo install --path .\n",
      "  Installing helloworld v0.1.0 (/usr/src/helloworld)\n",
      "   Compiling helloworld v0.1.0 (/usr/src/helloworld)\n",
      "    Finished release [optimized] target(s) in 0.42s\n",
      "  Installing /usr/local/cargo/bin/helloworld\n",
      "   Installed package `helloworld v0.1.0 (/usr/src/helloworld)` (executable `helloworld`)\n",
      "--> 842ef62ecd8\n",
      "STEP 6/6: CMD [\"/usr/local/cargo/bin/helloworld\"]\n",
      "COMMIT helloworld:v0.1.0\n",
      "--> 1a6b3258ec3\n",
      "Successfully tagged localhost/helloworld:v0.1.0\n",
      "1a6b3258ec3c02bbf7d6648e4f18369af78f4c2fd7d54e2b29c9ae742c7f03ce\n"
     ]
    }
   ],
   "metadata": {}
  },
  {
   "cell_type": "code",
   "execution_count": 32,
   "source": [
    "!podman images"
   ],
   "outputs": [
    {
     "output_type": "stream",
     "name": "stdout",
     "text": [
      "REPOSITORY                TAG         IMAGE ID      CREATED       SIZE\n",
      "localhost/helloworld      v0.1.0      1a6b3258ec3c  26 hours ago  1.28 GB\n",
      "docker.io/library/rust    1.55.0      378164a392dd  4 days ago    1.27 GB\n",
      "docker.io/library/alpine  3.14.2      14119a10abf4  2 weeks ago   5.87 MB\n"
     ]
    }
   ],
   "metadata": {}
  },
  {
   "cell_type": "code",
   "execution_count": 33,
   "source": [
    "!podman run --name helloworld --rm helloworld:v0.1.0"
   ],
   "outputs": [
    {
     "output_type": "stream",
     "name": "stdout",
     "text": [
      "Hello, world!\n"
     ]
    }
   ],
   "metadata": {}
  },
  {
   "cell_type": "code",
   "execution_count": 34,
   "source": [
    "!cd helloworld ; podman build --tag helloworld:v0.2.0 --file Dockerfile.slim ."
   ],
   "outputs": [
    {
     "output_type": "stream",
     "name": "stdout",
     "text": [
      "STEP 1/6: FROM docker.io/library/rust:1.55.0-alpine3.14\n",
      "Trying to pull docker.io/library/rust:1.55.0-alpine3.14...\n",
      "Getting image source signatures\n",
      "Copying blob sha256:922454686f1ed186a1f1ecf76b947b3b16125d09227ba5d5736ce77c72941ce0\n",
      "Copying blob sha256:a0d0a0d46f8b52473982a3c466318f479767577551a53ffc9074c9fa7035982e\n",
      "Copying blob sha256:d4ea2bb3df1724da0bb9bbf8d43f7a5b7192610627c590c2fd4b8e0770230cbf\n",
      "Copying blob sha256:922454686f1ed186a1f1ecf76b947b3b16125d09227ba5d5736ce77c72941ce0\n",
      "Copying blob sha256:d4ea2bb3df1724da0bb9bbf8d43f7a5b7192610627c590c2fd4b8e0770230cbf\n",
      "Copying config sha256:ac41586fb44e3aa14cee23647a0d7257d86f4a549634453ab95497bd24eff193\n",
      "Writing manifest to image destination\n",
      "Storing signatures\n",
      "STEP 2/6: WORKDIR /usr/src/helloworld\n",
      "--> 7d6c97951b4\n",
      "STEP 3/6: COPY . .\n",
      "--> 24bc0e51ddc\n",
      "STEP 4/6: RUN cargo build --release\n",
      "   Compiling helloworld v0.1.0 (/usr/src/helloworld)\n",
      "    Finished release [optimized] target(s) in 1.16s\n",
      "--> 2bf9c594385\n",
      "STEP 5/6: RUN cargo install --path .\n",
      "  Installing helloworld v0.1.0 (/usr/src/helloworld)\n",
      "   Compiling helloworld v0.1.0 (/usr/src/helloworld)\n",
      "    Finished release [optimized] target(s) in 0.49s\n",
      "  Installing /usr/local/cargo/bin/helloworld\n",
      "   Installed package `helloworld v0.1.0 (/usr/src/helloworld)` (executable `helloworld`)\n",
      "--> a69207527eb\n",
      "STEP 6/6: CMD [\"/usr/local/cargo/bin/helloworld\"]\n",
      "COMMIT helloworld:v0.2.0\n",
      "--> a9bac2830c3\n",
      "Successfully tagged localhost/helloworld:v0.2.0\n",
      "a9bac2830c3fb7d91bc8ac2512b5fba1026e2f17e0fffe24ec35c0ee2af9f11b\n"
     ]
    }
   ],
   "metadata": {}
  },
  {
   "cell_type": "code",
   "execution_count": 35,
   "source": [
    "!cd helloworld ; podman build --tag helloworld:v0.3.0 --file Dockerfile.slim-staged ."
   ],
   "outputs": [
    {
     "output_type": "stream",
     "name": "stdout",
     "text": [
      "[1/2] STEP 1/5: FROM docker.io/messense/rust-musl-cross:x86_64-musl AS cargo-build\n",
      "Trying to pull docker.io/messense/rust-musl-cross:x86_64-musl...\n",
      "Getting image source signatures\n",
      "Copying blob sha256:6df3fa71a3d870b1a7b049f38596e2a5ecd1f439c2f596ea21740bd6176763f6\n",
      "Copying blob sha256:35807b77a593c1147d13dc926a91dcc3015616ff7307cc30442c5a8e07546283\n",
      "Copying blob sha256:7c0b836343229a8e7779760bf37b3e8a01cb469106b5294c4e33caa169ed146f\n",
      "Copying blob sha256:f189444528f8e1bdef31e02d957842afa6399b8310a1ee8040ca41161fb303c8\n",
      "Copying blob sha256:248be333cbffe89cd6668203381d5f882398ffb0a0f6b36905507703251d1f66\n",
      "Copying blob sha256:3bcbd5f58845288bd66afa56ad7705428b5f16d4ee15486937e52bd5d3fb361b\n",
      "Copying blob sha256:6df3fa71a3d870b1a7b049f38596e2a5ecd1f439c2f596ea21740bd6176763f6\n",
      "Copying blob sha256:3bcbd5f58845288bd66afa56ad7705428b5f16d4ee15486937e52bd5d3fb361b\n",
      "Copying blob sha256:248be333cbffe89cd6668203381d5f882398ffb0a0f6b36905507703251d1f66\n",
      "Copying blob sha256:35807b77a593c1147d13dc926a91dcc3015616ff7307cc30442c5a8e07546283\n",
      "Copying blob sha256:70bd8197b28ad50cd11737c8443b8e1bccb0691e10669c59de41c119dd013fee\n",
      "Copying blob sha256:9e2f54f0eccb77a34b6b8051f7818d7fecab32f64304fa5b1ecce46cbb6347ba\n",
      "Copying blob sha256:70bd8197b28ad50cd11737c8443b8e1bccb0691e10669c59de41c119dd013fee\n",
      "Copying blob sha256:66fae9ff390c8c3f2106da00532cbc35ea8d57aff6ebc86d296eb1a280d42b6d\n",
      "Copying blob sha256:9e2f54f0eccb77a34b6b8051f7818d7fecab32f64304fa5b1ecce46cbb6347ba\n",
      "Copying blob sha256:0ead7c7d0012e6dc22c06e6cc24ee1ff583aa46c65f4f5e4f73974f865e1cb0b\n",
      "Copying blob sha256:7c0b836343229a8e7779760bf37b3e8a01cb469106b5294c4e33caa169ed146f\n",
      "Copying blob sha256:f189444528f8e1bdef31e02d957842afa6399b8310a1ee8040ca41161fb303c8\n",
      "Copying blob sha256:52fd5fd5847dd6ac77bfbcd09f01b8f9ed25b9662f66be21d090cdbed1a1aa8d\n",
      "Copying blob sha256:0ead7c7d0012e6dc22c06e6cc24ee1ff583aa46c65f4f5e4f73974f865e1cb0b\n",
      "Copying blob sha256:3ecfe5c788808fadde026e2d9213b45ca2b906688bf13366e012b663fa358dca\n",
      "Copying blob sha256:66fae9ff390c8c3f2106da00532cbc35ea8d57aff6ebc86d296eb1a280d42b6d\n",
      "Copying blob sha256:52fd5fd5847dd6ac77bfbcd09f01b8f9ed25b9662f66be21d090cdbed1a1aa8d\n",
      "Copying blob sha256:3ecfe5c788808fadde026e2d9213b45ca2b906688bf13366e012b663fa358dca\n",
      "Copying config sha256:b4f264478670e49544333173e4d81cf9c46e18722d9055a245899dda5cc3954f\n",
      "Writing manifest to image destination\n",
      "Storing signatures\n",
      "[1/2] STEP 2/5: RUN rustup target add x86_64-unknown-linux-musl 1>/dev/null 2>&1\n",
      "--> 2bf5cf3e295\n",
      "[1/2] STEP 3/5: WORKDIR /usr/src/helloworld\n",
      "--> b6a67b0fac2\n",
      "[1/2] STEP 4/5: COPY . .\n",
      "--> 8434f8ce534\n",
      "[1/2] STEP 5/5: RUN cargo build --release --target=x86_64-unknown-linux-musl\n",
      "   Compiling helloworld v0.1.0 (/usr/src/helloworld)\n",
      "    Finished release [optimized] target(s) in 1.26s\n",
      "--> a720311b165\n",
      "[2/2] STEP 1/8: FROM docker.io/library/alpine:3.14.2\n",
      "[2/2] STEP 2/8: RUN addgroup -g 1000 helloworld\n",
      "--> 5b39adbc177\n",
      "[2/2] STEP 3/8: RUN adduser -D -s /bin/sh -u 1000 -G helloworld helloworld\n",
      "--> 9fb7c1ac51a\n",
      "[2/2] STEP 4/8: WORKDIR /home/helloworld/bin/\n",
      "--> cb3dce29120\n",
      "[2/2] STEP 5/8: COPY --from=cargo-build /usr/src/helloworld/target/x86_64-unknown-linux-musl/release/helloworld .\n",
      "--> a39246c4f65\n",
      "[2/2] STEP 6/8: RUN chown helloworld:helloworld helloworld\n",
      "--> abd5916c22a\n",
      "[2/2] STEP 7/8: USER helloworld\n",
      "--> b9b65e8fb06\n",
      "[2/2] STEP 8/8: CMD [\"./helloworld\"]\n",
      "[2/2] COMMIT helloworld:v0.3.0\n",
      "--> 7476421a681\n",
      "Successfully tagged localhost/helloworld:v0.3.0\n",
      "7476421a68112d8472e18810cdaf97034844b3dded7fbbf6734a31034677a4d3\n"
     ]
    }
   ],
   "metadata": {}
  },
  {
   "cell_type": "code",
   "execution_count": 36,
   "source": [
    "!podman images"
   ],
   "outputs": [
    {
     "output_type": "stream",
     "name": "stdout",
     "text": [
      "REPOSITORY                          TAG                IMAGE ID      CREATED       SIZE\n",
      "localhost/helloworld                v0.3.0             7476421a6811  26 hours ago  13.7 MB\n",
      "<none>                              <none>             a720311b1653  26 hours ago  2.07 GB\n",
      "localhost/helloworld                v0.2.0             a9bac2830c3f  26 hours ago  880 MB\n",
      "localhost/helloworld                v0.1.0             1a6b3258ec3c  26 hours ago  1.28 GB\n",
      "docker.io/messense/rust-musl-cross  x86_64-musl        b4f264478670  2 days ago    2.06 GB\n",
      "docker.io/library/rust              1.55.0-alpine3.14  ac41586fb44e  4 days ago    868 MB\n",
      "docker.io/library/rust              1.55.0             378164a392dd  4 days ago    1.27 GB\n",
      "docker.io/library/alpine            3.14.2             14119a10abf4  2 weeks ago   5.87 MB\n"
     ]
    }
   ],
   "metadata": {}
  },
  {
   "cell_type": "code",
   "execution_count": 37,
   "source": [
    "!podman images | grep helloworld | sort"
   ],
   "outputs": [
    {
     "output_type": "stream",
     "name": "stdout",
     "text": [
      "localhost/helloworld                v0.1.0             1a6b3258ec3c  26 hours ago  1.28 GB\n",
      "localhost/helloworld                v0.2.0             a9bac2830c3f  26 hours ago  880 MB\n",
      "localhost/helloworld                v0.3.0             7476421a6811  26 hours ago  13.7 MB\n"
     ]
    }
   ],
   "metadata": {}
  },
  {
   "cell_type": "code",
   "execution_count": 38,
   "source": [
    "!podman run --name helloworld --rm helloworld:v0.3.0"
   ],
   "outputs": [
    {
     "output_type": "stream",
     "name": "stdout",
     "text": [
      "Hello, world!\n"
     ]
    }
   ],
   "metadata": {}
  }
 ],
 "metadata": {
  "interpreter": {
   "hash": "aee8b7b246df8f9039afb4144a1f6fd8d2ca17a180786b69acc140d282b71a49"
  },
  "kernelspec": {
   "name": "python3",
   "display_name": "Python 3.9.7 64-bit"
  },
  "language_info": {
   "codemirror_mode": {
    "name": "ipython",
    "version": 3
   },
   "file_extension": ".py",
   "mimetype": "text/x-python",
   "name": "python",
   "nbconvert_exporter": "python",
   "pygments_lexer": "ipython3",
   "version": "3.9.7"
  }
 },
 "nbformat": 4,
 "nbformat_minor": 5
}
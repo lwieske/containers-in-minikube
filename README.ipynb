{
 "cells": [
  {
   "cell_type": "markdown",
   "source": [
    "# Some Demonstrations with Minikube and Containers"
   ],
   "metadata": {}
  },
  {
   "cell_type": "markdown",
   "source": [
    "## Cleaning Up"
   ],
   "metadata": {}
  },
  {
   "cell_type": "markdown",
   "source": [
    "First, the traces of former executions of  *minikube* are eliminated, the cluster itself (stop, delete) and further initialization steps in the cache directory to establish a clean base."
   ],
   "metadata": {}
  },
  {
   "cell_type": "code",
   "execution_count": 1,
   "source": [
    "!minikube stop ; minikube delete ; rm -rf ~/.minikube/cache"
   ],
   "outputs": [
    {
     "output_type": "stream",
     "name": "stdout",
     "text": [
      "✋  Stopping node \"minikube\"  ...\n",
      "🛑  Powering off \"minikube\" via SSH ...\n",
      "🛑  1 nodes stopped.\n",
      "🔥  Deleting \"minikube\" in docker ...\n",
      "🔥  Deleting container \"minikube\" ...\n",
      "🔥  Removing /Users/lothar/.minikube/machines/minikube ...\n",
      "💀  Removed all traces of the \"minikube\" cluster.\n"
     ]
    }
   ],
   "metadata": {}
  },
  {
   "cell_type": "markdown",
   "source": [
    "Second, formerly built podman images will be deleted as well."
   ],
   "metadata": {}
  },
  {
   "cell_type": "code",
   "execution_count": 2,
   "source": [
    "!podman rmi $(podman images -qa) -f"
   ],
   "outputs": [
    {
     "output_type": "stream",
     "name": "stdout",
     "text": [
      "Untagged: localhost/helloworld:v0.3.0\n",
      "Untagged: localhost/helloworld:v0.2.0\n",
      "Untagged: localhost/helloworld:v0.1.0\n",
      "Untagged: docker.io/library/rust:1.55.0-alpine3.14\n",
      "Untagged: docker.io/library/rust:1.55.0\n",
      "Deleted: d4646741d2efe4c809d2114be35ca9e1993cbec40c7d3e00729563cb09f501db\n",
      "Deleted: c2ac15af0b6e35c349d06610617ab1af497e098d983637f6b2c91c2cce8b891c\n",
      "Deleted: bef5ddbb7b4c6feff5388ac452d12008633a9207e17d0931cd1719ee48c07acb\n",
      "Deleted: cc0eb630c132ffeb122c19d2e5525c77bd3f814f6591e740af68142db5b4d119\n",
      "Deleted: bcdc971133729fccfc2aea8075dbae6004e2c6756c87d8b5eb11f5ecce8e73f8\n",
      "Deleted: 99e8ba4d29283f3c768470b2627ffde7ae50812a15b8de87a6842d4c65cc2685\n",
      "Deleted: 46d71fed44c5c23fffcdc5af80fb621049e921e93e62792be3d18888a9726842\n",
      "Deleted: a7c5d292027434284ca094543be814171a32f68410a52d3249db6be6a4def944\n",
      "Deleted: decad7af277f79d62bf3371bcadb491cbcc00143cf8f744ce75523236dcb2f96\n",
      "Deleted: 3ce9c7e20e3d50788aaf2972188e582c101533f9a39c6d8792300d9f2b77c629\n",
      "Deleted: ac41586fb44e3aa14cee23647a0d7257d86f4a549634453ab95497bd24eff193\n",
      "Deleted: 378164a392dd65d97fda64be77d39c767f3e6579f7347d311467b40a3e246a10\n"
     ]
    }
   ],
   "metadata": {}
  },
  {
   "cell_type": "markdown",
   "source": [
    "'Error: image name or ID must be specified' indicates that the cache has bees empty before."
   ],
   "metadata": {}
  },
  {
   "cell_type": "code",
   "execution_count": 3,
   "source": [
    "!rm -rf alpine"
   ],
   "outputs": [],
   "metadata": {}
  },
  {
   "cell_type": "code",
   "execution_count": 4,
   "source": [
    "!rm -rf helloworld"
   ],
   "outputs": [],
   "metadata": {}
  },
  {
   "cell_type": "markdown",
   "source": [
    "## Start The First Cluster"
   ],
   "metadata": {}
  },
  {
   "cell_type": "code",
   "execution_count": 5,
   "source": [
    "%%time\n",
    "\n",
    "!KUBERNETES_VERSION=1.22.1 minikube start --kubernetes-version=${KUBERNETES_VERSION}"
   ],
   "outputs": [
    {
     "output_type": "stream",
     "name": "stdout",
     "text": [
      "😄  minikube v1.23.0 on Darwin 11.5.2\n",
      "✨  Automatically selected the docker driver. Other choices: hyperkit, virtualbox, ssh, podman (experimental)\n",
      "👍  Starting control plane node minikube in cluster minikube\n",
      "🚜  Pulling base image ...\n",
      "💾  Downloading Kubernetes v1.22.1 preload ...\n",
      "    > preloaded-images-k8s-v12-v1...: 515.04 MiB / 515.04 MiB  100.00% 5.91 MiB\n",
      "🔥  Creating docker container (CPUs=2, Memory=1987MB) ...\u001b[K\u001b[K\u001b[K\u001b[K\u001b[K\u001b[K\u001b[K\u001b[K\u001b[K\u001b[K\u001b[K\u001b[K\u001b[K\u001b[K\u001b[K\u001b[K\u001b[K\u001b[K\u001b[K\u001b[K\u001b[K\u001b[K\u001b[K\u001b[K\u001b[K\u001b[K\u001b[K\u001b[K\u001b[K\u001b[K\u001b[K\u001b[K\u001b[K\u001b[K\u001b[K\u001b[K\u001b[K\u001b[K\u001b[K\u001b[K\u001b[K\u001b[K\u001b[K\u001b[K\u001b[K\u001b[K\u001b[K\u001b[K\u001b[K\u001b[K\u001b[K\u001b[K\u001b[K\u001b[K\u001b[K\u001b[K\u001b[K\u001b[K\u001b[K\u001b[K\u001b[K\u001b[K\u001b[K\u001b[K\u001b[K\u001b[K\u001b[K\u001b[K\u001b[K\u001b[K\u001b[K\u001b[K\u001b[K\u001b[K\u001b[K\u001b[K\u001b[K\u001b[K\u001b[K\u001b[K\u001b[K\u001b[K\u001b[K\u001b[K\u001b[K\u001b[K\u001b[K\u001b[K\u001b[K\u001b[K\u001b[K\u001b[K\u001b[K\u001b[K\u001b[K\u001b[K\u001b[K\u001b[K\u001b[K\u001b[K\u001b[K\u001b[K\u001b[K\u001b[K\u001b[K\u001b[K\u001b[K\u001b[K\u001b[K\u001b[K\u001b[K\u001b[K\u001b[K\u001b[K\u001b[K\u001b[K\u001b[K\u001b[K\u001b[K\u001b[K\u001b[K\u001b[K\u001b[K\u001b[K\u001b[K\u001b[K\u001b[K\u001b[K\u001b[K\u001b[K\u001b[K\u001b[K\u001b[K\u001b[K\u001b[K\u001b[K\u001b[K\u001b[K\u001b[K\u001b[K\u001b[K\u001b[K\u001b[K\u001b[K\u001b[K\u001b[K\u001b[K\u001b[K\u001b[K\u001b[K\u001b[K\u001b[K\u001b[K\u001b[K\u001b[K\u001b[K\u001b[K\u001b[K\u001b[K\u001b[K\u001b[K\u001b[K\u001b[K\u001b[K\u001b[K\u001b[K\u001b[K\u001b[K\u001b[K\u001b[K\u001b[K\u001b[K\u001b[K\u001b[K\u001b[K\u001b[K\u001b[K\u001b[K\u001b[K\u001b[K\u001b[K\u001b[K\u001b[K\u001b[K\u001b[K\u001b[K\u001b[K\u001b[K\u001b[K\u001b[K\u001b[K\u001b[K\u001b[K\u001b[K\u001b[K\u001b[K\u001b[K\u001b[K\u001b[K\u001b[K\u001b[K\u001b[K\u001b[K\u001b[K\u001b[K\u001b[K\u001b[K\u001b[K\u001b[K\u001b[K\u001b[K\u001b[K\u001b[K\u001b[K\u001b[K\u001b[K\u001b[K\u001b[K\u001b[K\u001b[K\u001b[K\u001b[K\u001b[K\u001b[K\u001b[K\u001b[K\u001b[K\u001b[K\u001b[K\u001b[K\u001b[K\u001b[K\u001b[K\u001b[K\u001b[K\u001b[K\u001b[K\u001b[K\u001b[K\u001b[K\u001b[K\u001b[K\u001b[K\u001b[K\u001b[K\u001b[K\u001b[K\u001b[K\u001b[K\u001b[K\u001b[K\u001b[K\u001b[K\u001b[K\u001b[K\u001b[K\u001b[K\u001b[K\u001b[K\u001b[K\u001b[K\u001b[K\u001b[K\u001b[K\u001b[K\u001b[K\u001b[K\u001b[K\u001b[K\u001b[K\u001b[K\u001b[K\u001b[K\u001b[K\u001b[K\u001b[K\u001b[K\u001b[K\u001b[K\u001b[K\u001b[K\u001b[K\u001b[K\u001b[K\u001b[K\u001b[K\u001b[K\u001b[K\u001b[K\u001b[K\u001b[K\u001b[K\u001b[K\u001b[K\u001b[K\u001b[K\u001b[K\u001b[K\u001b[K\u001b[K\u001b[K\u001b[K\u001b[K\u001b[K\u001b[K\u001b[K\u001b[K\u001b[K\u001b[K\u001b[K\u001b[K\u001b[K\u001b[K\u001b[K\u001b[K\u001b[K\u001b[K\u001b[K\u001b[K\u001b[K\u001b[K\u001b[K\u001b[K\u001b[K\u001b[K\u001b[K\u001b[K\u001b[K\u001b[K\u001b[K\u001b[K\u001b[K\u001b[K\u001b[K\u001b[K\u001b[K\u001b[K\u001b[K\u001b[K\u001b[K\u001b[K\u001b[K\u001b[K\u001b[K\u001b[K\u001b[K\u001b[K\u001b[K\u001b[K\u001b[K\u001b[K\u001b[K\u001b[K\u001b[K\u001b[K\u001b[K\u001b[K\u001b[K\u001b[K\u001b[K\u001b[K\u001b[K\u001b[K\u001b[K\u001b[K\u001b[K\u001b[K\u001b[K\u001b[K\u001b[K\u001b[K\u001b[K\u001b[K\u001b[K\u001b[K\u001b[K\u001b[K\u001b[K\u001b[K\u001b[K\u001b[K\u001b[K\u001b[K\u001b[K\u001b[K\u001b[K\u001b[K\u001b[K\u001b[K\u001b[K\u001b[K\u001b[K\u001b[K\u001b[K\u001b[K\u001b[K\u001b[K\u001b[K\u001b[K\u001b[K\u001b[K\u001b[K\u001b[K\u001b[K\u001b[K\u001b[K\u001b[K\u001b[K\u001b[K\u001b[K\u001b[K\u001b[K\u001b[K\u001b[K\u001b[K\u001b[K\u001b[K\u001b[K\u001b[K\u001b[K\u001b[K\u001b[K\u001b[K\u001b[K\u001b[K\u001b[K\u001b[K\u001b[K\u001b[K\u001b[K\u001b[K\u001b[K\u001b[K\u001b[K\u001b[K\u001b[K\u001b[K\u001b[K\u001b[K\u001b[K\u001b[K\u001b[K\u001b[K\u001b[K\u001b[K\u001b[K\u001b[K\u001b[K\u001b[K\u001b[K\u001b[K\u001b[K\u001b[K\u001b[K\u001b[K\u001b[K\u001b[K\u001b[K\u001b[K\u001b[K\u001b[K\u001b[K\u001b[K\u001b[K\u001b[K\u001b[K\u001b[K\u001b[K\u001b[K\u001b[K\u001b[K\u001b[K\u001b[K\u001b[K\u001b[K\u001b[K\u001b[K\u001b[K\u001b[K\u001b[K\u001b[K\u001b[K\u001b[K\u001b[K\u001b[K\u001b[K\u001b[K\u001b[K\u001b[K\u001b[K\u001b[K\u001b[K\n",
      "🐳  Preparing Kubernetes v1.22.1 on Docker 20.10.8 ...\u001b[K\u001b[K\u001b[K\u001b[K\u001b[K\u001b[K\u001b[K\u001b[K\u001b[K\u001b[K\u001b[K\u001b[K\u001b[K\u001b[K\u001b[K\u001b[K\u001b[K\u001b[K\u001b[K\u001b[K\u001b[K\u001b[K\u001b[K\u001b[K\u001b[K\u001b[K\u001b[K\u001b[K\u001b[K\u001b[K\u001b[K\u001b[K\u001b[K\u001b[K\u001b[K\u001b[K\u001b[K\u001b[K\u001b[K\u001b[K\u001b[K\u001b[K\u001b[K\u001b[K\u001b[K\u001b[K\u001b[K\u001b[K\u001b[K\u001b[K\u001b[K\u001b[K\u001b[K\u001b[K\u001b[K\u001b[K\u001b[K\u001b[K\u001b[K\u001b[K\u001b[K\u001b[K\u001b[K\u001b[K\n",
      "    ▪ Generating certificates and keys ...\u001b[K\u001b[K\u001b[K\u001b[K\u001b[K\u001b[K\u001b[K\u001b[K\u001b[K\u001b[K\u001b[K\u001b[K\u001b[K\u001b[K\u001b[K\u001b[K\u001b[K\u001b[K\u001b[K\u001b[K\u001b[K\u001b[K\u001b[K\u001b[K\u001b[K\u001b[K\u001b[K\u001b[K\u001b[K\u001b[K\u001b[K\u001b[K\u001b[K\u001b[K\u001b[K\u001b[K\u001b[K\u001b[K\u001b[K\u001b[K\u001b[K\u001b[K\u001b[K\u001b[K\u001b[K\u001b[K\u001b[K\u001b[K\u001b[K\u001b[K\u001b[K\u001b[K\u001b[K\u001b[K\u001b[K\u001b[K\u001b[K\u001b[K\u001b[K\u001b[K\u001b[K\u001b[K\u001b[K\u001b[K\u001b[K\u001b[K\u001b[K\u001b[K\n",
      "    ▪ Booting up control plane ...\u001b[K\u001b[K\u001b[K\u001b[K\u001b[K\u001b[K\u001b[K\u001b[K\u001b[K\u001b[K\u001b[K\u001b[K\u001b[K\u001b[K\u001b[K\u001b[K\u001b[K\u001b[K\u001b[K\u001b[K\u001b[K\u001b[K\u001b[K\u001b[K\u001b[K\u001b[K\u001b[K\u001b[K\u001b[K\u001b[K\u001b[K\u001b[K\u001b[K\u001b[K\u001b[K\u001b[K\u001b[K\u001b[K\u001b[K\u001b[K\u001b[K\u001b[K\u001b[K\u001b[K\u001b[K\u001b[K\u001b[K\u001b[K\u001b[K\u001b[K\u001b[K\u001b[K\u001b[K\u001b[K\u001b[K\u001b[K\u001b[K\u001b[K\u001b[K\u001b[K\u001b[K\u001b[K\u001b[K\u001b[K\u001b[K\u001b[K\u001b[K\u001b[K\u001b[K\u001b[K\u001b[K\u001b[K\u001b[K\u001b[K\u001b[K\u001b[K\u001b[K\u001b[K\u001b[K\u001b[K\u001b[K\u001b[K\u001b[K\u001b[K\u001b[K\u001b[K\u001b[K\u001b[K\u001b[K\u001b[K\u001b[K\u001b[K\u001b[K\u001b[K\u001b[K\u001b[K\u001b[K\u001b[K\u001b[K\u001b[K\u001b[K\u001b[K\u001b[K\u001b[K\u001b[K\u001b[K\u001b[K\u001b[K\u001b[K\u001b[K\u001b[K\u001b[K\u001b[K\u001b[K\u001b[K\u001b[K\u001b[K\u001b[K\u001b[K\u001b[K\u001b[K\u001b[K\u001b[K\u001b[K\u001b[K\u001b[K\u001b[K\u001b[K\u001b[K\u001b[K\u001b[K\u001b[K\u001b[K\u001b[K\u001b[K\u001b[K\u001b[K\u001b[K\u001b[K\u001b[K\u001b[K\u001b[K\u001b[K\u001b[K\u001b[K\u001b[K\u001b[K\u001b[K\u001b[K\u001b[K\u001b[K\u001b[K\u001b[K\u001b[K\u001b[K\u001b[K\u001b[K\u001b[K\u001b[K\u001b[K\u001b[K\u001b[K\u001b[K\u001b[K\u001b[K\u001b[K\u001b[K\u001b[K\u001b[K\u001b[K\u001b[K\u001b[K\u001b[K\u001b[K\u001b[K\u001b[K\u001b[K\u001b[K\u001b[K\u001b[K\u001b[K\u001b[K\u001b[K\u001b[K\u001b[K\u001b[K\u001b[K\u001b[K\u001b[K\u001b[K\u001b[K\u001b[K\u001b[K\u001b[K\u001b[K\u001b[K\u001b[K\u001b[K\u001b[K\u001b[K\u001b[K\u001b[K\u001b[K\u001b[K\u001b[K\u001b[K\u001b[K\u001b[K\u001b[K\u001b[K\u001b[K\u001b[K\u001b[K\u001b[K\u001b[K\u001b[K\u001b[K\u001b[K\u001b[K\u001b[K\u001b[K\u001b[K\u001b[K\u001b[K\u001b[K\u001b[K\u001b[K\u001b[K\u001b[K\u001b[K\u001b[K\u001b[K\u001b[K\u001b[K\u001b[K\u001b[K\u001b[K\u001b[K\n",
      "    ▪ Configuring RBAC rules ...\u001b[K\u001b[K\u001b[K\u001b[K\u001b[K\u001b[K\u001b[K\u001b[K\u001b[K\u001b[K\u001b[K\u001b[K\u001b[K\u001b[K\u001b[K\u001b[K\u001b[K\u001b[K\u001b[K\u001b[K\u001b[K\u001b[K\u001b[K\u001b[K\u001b[K\u001b[K\u001b[K\u001b[K\u001b[K\u001b[K\u001b[K\u001b[K\u001b[K\u001b[K\u001b[K\u001b[K\u001b[K\u001b[K\n",
      "🔎  Verifying Kubernetes components...\n",
      "    ▪ Using image gcr.io/k8s-minikube/storage-provisioner:v5\n",
      "🌟  Enabled addons: storage-provisioner, default-storageclass\n",
      "🏄  Done! kubectl is now configured to use \"minikube\" cluster and \"default\" namespace by default\n",
      "CPU times: user 3.76 s, sys: 1.41 s, total: 5.18 s\n",
      "Wall time: 2min 21s\n"
     ]
    }
   ],
   "metadata": {}
  },
  {
   "cell_type": "markdown",
   "source": [
    "## Checking Readiness"
   ],
   "metadata": {}
  },
  {
   "cell_type": "code",
   "execution_count": 6,
   "source": [
    "!kubectl get nodes"
   ],
   "outputs": [
    {
     "output_type": "stream",
     "name": "stdout",
     "text": [
      "NAME       STATUS     ROLES                  AGE   VERSION\n",
      "minikube   NotReady   control-plane,master   9s    v1.22.1\n"
     ]
    }
   ],
   "metadata": {}
  },
  {
   "cell_type": "code",
   "execution_count": 7,
   "source": [
    "!sleep 10 ; kubectl get nodes"
   ],
   "outputs": [
    {
     "output_type": "stream",
     "name": "stdout",
     "text": [
      "NAME       STATUS   ROLES                  AGE   VERSION\n",
      "minikube   Ready    control-plane,master   19s   v1.22.1\n"
     ]
    }
   ],
   "metadata": {}
  },
  {
   "cell_type": "markdown",
   "source": [
    "## Start Cluster With Preloaded Cache"
   ],
   "metadata": {}
  },
  {
   "cell_type": "code",
   "execution_count": 8,
   "source": [
    "!minikube stop ; minikube delete"
   ],
   "outputs": [
    {
     "output_type": "stream",
     "name": "stdout",
     "text": [
      "✋  Stopping node \"minikube\"  ...\n",
      "🛑  Powering off \"minikube\" via SSH ...\n",
      "🛑  1 nodes stopped.\n",
      "🔥  Deleting \"minikube\" in docker ...\n",
      "🔥  Deleting container \"minikube\" ...\n",
      "🔥  Removing /Users/lothar/.minikube/machines/minikube ...\n",
      "💀  Removed all traces of the \"minikube\" cluster.\n"
     ]
    }
   ],
   "metadata": {}
  },
  {
   "cell_type": "code",
   "execution_count": 9,
   "source": [
    "%%time\n",
    "\n",
    "!KUBERNETES_VERSION=1.22.1 minikube start --kubernetes-version=${KUBERNETES_VERSION}"
   ],
   "outputs": [
    {
     "output_type": "stream",
     "name": "stdout",
     "text": [
      "😄  minikube v1.23.0 on Darwin 11.5.2\n",
      "✨  Automatically selected the docker driver. Other choices: hyperkit, virtualbox, ssh, podman (experimental)\n",
      "👍  Starting control plane node minikube in cluster minikube\n",
      "🚜  Pulling base image ...\n",
      "🔥  Creating docker container (CPUs=2, Memory=1987MB) ...\u001b[K\u001b[K\u001b[K\u001b[K\u001b[K\u001b[K\u001b[K\u001b[K\u001b[K\u001b[K\u001b[K\u001b[K\u001b[K\u001b[K\u001b[K\u001b[K\u001b[K\u001b[K\u001b[K\u001b[K\u001b[K\u001b[K\u001b[K\u001b[K\u001b[K\u001b[K\u001b[K\u001b[K\u001b[K\u001b[K\u001b[K\u001b[K\u001b[K\u001b[K\u001b[K\u001b[K\u001b[K\u001b[K\u001b[K\u001b[K\u001b[K\u001b[K\u001b[K\u001b[K\u001b[K\u001b[K\u001b[K\u001b[K\u001b[K\u001b[K\u001b[K\u001b[K\u001b[K\u001b[K\u001b[K\u001b[K\u001b[K\u001b[K\u001b[K\u001b[K\u001b[K\u001b[K\u001b[K\u001b[K\u001b[K\u001b[K\u001b[K\u001b[K\u001b[K\u001b[K\u001b[K\u001b[K\u001b[K\u001b[K\u001b[K\u001b[K\u001b[K\u001b[K\u001b[K\u001b[K\u001b[K\u001b[K\u001b[K\u001b[K\u001b[K\u001b[K\u001b[K\u001b[K\u001b[K\u001b[K\u001b[K\u001b[K\u001b[K\u001b[K\u001b[K\u001b[K\u001b[K\u001b[K\u001b[K\u001b[K\u001b[K\u001b[K\u001b[K\u001b[K\u001b[K\u001b[K\u001b[K\u001b[K\u001b[K\u001b[K\u001b[K\u001b[K\u001b[K\u001b[K\u001b[K\u001b[K\u001b[K\u001b[K\u001b[K\u001b[K\u001b[K\u001b[K\u001b[K\u001b[K\u001b[K\u001b[K\u001b[K\u001b[K\u001b[K\u001b[K\u001b[K\u001b[K\u001b[K\u001b[K\u001b[K\u001b[K\u001b[K\u001b[K\u001b[K\u001b[K\u001b[K\u001b[K\u001b[K\u001b[K\u001b[K\u001b[K\u001b[K\u001b[K\u001b[K\u001b[K\u001b[K\u001b[K\u001b[K\u001b[K\u001b[K\u001b[K\u001b[K\u001b[K\u001b[K\u001b[K\u001b[K\u001b[K\u001b[K\u001b[K\u001b[K\u001b[K\u001b[K\u001b[K\u001b[K\u001b[K\u001b[K\u001b[K\u001b[K\u001b[K\u001b[K\u001b[K\u001b[K\u001b[K\u001b[K\u001b[K\u001b[K\u001b[K\u001b[K\u001b[K\u001b[K\u001b[K\u001b[K\u001b[K\u001b[K\u001b[K\u001b[K\u001b[K\u001b[K\u001b[K\u001b[K\u001b[K\u001b[K\u001b[K\u001b[K\u001b[K\u001b[K\u001b[K\u001b[K\u001b[K\u001b[K\u001b[K\u001b[K\u001b[K\u001b[K\u001b[K\u001b[K\u001b[K\u001b[K\u001b[K\u001b[K\u001b[K\u001b[K\u001b[K\u001b[K\u001b[K\u001b[K\u001b[K\u001b[K\u001b[K\u001b[K\u001b[K\u001b[K\u001b[K\u001b[K\u001b[K\u001b[K\u001b[K\u001b[K\u001b[K\u001b[K\u001b[K\u001b[K\u001b[K\u001b[K\u001b[K\u001b[K\u001b[K\u001b[K\u001b[K\u001b[K\u001b[K\u001b[K\u001b[K\u001b[K\u001b[K\u001b[K\u001b[K\u001b[K\u001b[K\u001b[K\u001b[K\u001b[K\u001b[K\u001b[K\u001b[K\u001b[K\u001b[K\u001b[K\u001b[K\u001b[K\u001b[K\u001b[K\u001b[K\u001b[K\u001b[K\u001b[K\u001b[K\u001b[K\u001b[K\u001b[K\u001b[K\u001b[K\u001b[K\u001b[K\u001b[K\u001b[K\u001b[K\u001b[K\u001b[K\u001b[K\u001b[K\u001b[K\u001b[K\u001b[K\u001b[K\u001b[K\u001b[K\u001b[K\u001b[K\u001b[K\u001b[K\u001b[K\u001b[K\u001b[K\u001b[K\u001b[K\u001b[K\u001b[K\u001b[K\u001b[K\u001b[K\u001b[K\u001b[K\u001b[K\u001b[K\u001b[K\u001b[K\u001b[K\u001b[K\u001b[K\u001b[K\u001b[K\u001b[K\u001b[K\u001b[K\u001b[K\u001b[K\u001b[K\u001b[K\u001b[K\u001b[K\u001b[K\u001b[K\u001b[K\u001b[K\u001b[K\u001b[K\u001b[K\u001b[K\u001b[K\u001b[K\u001b[K\u001b[K\u001b[K\u001b[K\u001b[K\u001b[K\u001b[K\u001b[K\u001b[K\u001b[K\u001b[K\u001b[K\u001b[K\u001b[K\u001b[K\u001b[K\u001b[K\u001b[K\u001b[K\u001b[K\u001b[K\u001b[K\u001b[K\u001b[K\u001b[K\u001b[K\u001b[K\u001b[K\u001b[K\u001b[K\u001b[K\u001b[K\u001b[K\u001b[K\u001b[K\u001b[K\u001b[K\u001b[K\u001b[K\u001b[K\u001b[K\u001b[K\u001b[K\u001b[K\u001b[K\u001b[K\u001b[K\u001b[K\u001b[K\u001b[K\u001b[K\u001b[K\u001b[K\u001b[K\u001b[K\u001b[K\n",
      "🐳  Preparing Kubernetes v1.22.1 on Docker 20.10.8 ...\u001b[K\u001b[K\u001b[K\u001b[K\u001b[K\u001b[K\u001b[K\u001b[K\u001b[K\u001b[K\u001b[K\u001b[K\u001b[K\u001b[K\u001b[K\u001b[K\u001b[K\u001b[K\u001b[K\u001b[K\u001b[K\u001b[K\u001b[K\u001b[K\u001b[K\u001b[K\u001b[K\u001b[K\u001b[K\u001b[K\u001b[K\u001b[K\u001b[K\u001b[K\u001b[K\u001b[K\u001b[K\u001b[K\u001b[K\u001b[K\u001b[K\u001b[K\u001b[K\u001b[K\u001b[K\u001b[K\u001b[K\u001b[K\u001b[K\u001b[K\u001b[K\u001b[K\u001b[K\u001b[K\u001b[K\u001b[K\u001b[K\u001b[K\u001b[K\u001b[K\n",
      "    ▪ Generating certificates and keys ...\u001b[K\u001b[K\u001b[K\u001b[K\u001b[K\u001b[K\u001b[K\u001b[K\u001b[K\u001b[K\u001b[K\u001b[K\u001b[K\u001b[K\u001b[K\u001b[K\u001b[K\u001b[K\u001b[K\u001b[K\u001b[K\u001b[K\u001b[K\u001b[K\u001b[K\u001b[K\u001b[K\u001b[K\u001b[K\u001b[K\u001b[K\u001b[K\u001b[K\u001b[K\u001b[K\u001b[K\u001b[K\u001b[K\u001b[K\u001b[K\u001b[K\u001b[K\u001b[K\u001b[K\u001b[K\u001b[K\u001b[K\u001b[K\u001b[K\u001b[K\u001b[K\u001b[K\u001b[K\u001b[K\u001b[K\u001b[K\u001b[K\u001b[K\u001b[K\u001b[K\u001b[K\u001b[K\u001b[K\u001b[K\u001b[K\u001b[K\u001b[K\u001b[K\u001b[K\u001b[K\u001b[K\u001b[K\u001b[K\u001b[K\n",
      "    ▪ Booting up control plane ...\u001b[K\u001b[K\u001b[K\u001b[K\u001b[K\u001b[K\u001b[K\u001b[K\u001b[K\u001b[K\u001b[K\u001b[K\u001b[K\u001b[K\u001b[K\u001b[K\u001b[K\u001b[K\u001b[K\u001b[K\u001b[K\u001b[K\u001b[K\u001b[K\u001b[K\u001b[K\u001b[K\u001b[K\u001b[K\u001b[K\u001b[K\u001b[K\u001b[K\u001b[K\u001b[K\u001b[K\u001b[K\u001b[K\u001b[K\u001b[K\u001b[K\u001b[K\u001b[K\u001b[K\u001b[K\u001b[K\u001b[K\u001b[K\u001b[K\u001b[K\u001b[K\u001b[K\u001b[K\u001b[K\u001b[K\u001b[K\u001b[K\u001b[K\u001b[K\u001b[K\u001b[K\u001b[K\u001b[K\u001b[K\u001b[K\u001b[K\u001b[K\u001b[K\u001b[K\u001b[K\u001b[K\u001b[K\u001b[K\u001b[K\u001b[K\u001b[K\u001b[K\u001b[K\u001b[K\u001b[K\u001b[K\u001b[K\u001b[K\u001b[K\u001b[K\u001b[K\u001b[K\u001b[K\u001b[K\u001b[K\u001b[K\u001b[K\u001b[K\u001b[K\u001b[K\u001b[K\u001b[K\u001b[K\u001b[K\u001b[K\u001b[K\u001b[K\u001b[K\u001b[K\u001b[K\u001b[K\u001b[K\u001b[K\u001b[K\u001b[K\u001b[K\u001b[K\u001b[K\u001b[K\u001b[K\u001b[K\u001b[K\u001b[K\u001b[K\u001b[K\u001b[K\u001b[K\u001b[K\u001b[K\u001b[K\u001b[K\u001b[K\u001b[K\u001b[K\u001b[K\u001b[K\u001b[K\u001b[K\u001b[K\u001b[K\u001b[K\u001b[K\u001b[K\u001b[K\u001b[K\u001b[K\u001b[K\u001b[K\u001b[K\u001b[K\u001b[K\u001b[K\u001b[K\u001b[K\u001b[K\u001b[K\u001b[K\u001b[K\u001b[K\u001b[K\u001b[K\u001b[K\u001b[K\u001b[K\u001b[K\u001b[K\u001b[K\u001b[K\u001b[K\u001b[K\u001b[K\u001b[K\u001b[K\u001b[K\u001b[K\u001b[K\u001b[K\u001b[K\u001b[K\u001b[K\u001b[K\u001b[K\u001b[K\u001b[K\u001b[K\u001b[K\u001b[K\u001b[K\u001b[K\u001b[K\u001b[K\u001b[K\u001b[K\u001b[K\u001b[K\u001b[K\u001b[K\u001b[K\u001b[K\u001b[K\u001b[K\u001b[K\u001b[K\u001b[K\u001b[K\u001b[K\u001b[K\u001b[K\u001b[K\u001b[K\u001b[K\u001b[K\u001b[K\u001b[K\u001b[K\u001b[K\u001b[K\u001b[K\u001b[K\u001b[K\u001b[K\u001b[K\u001b[K\u001b[K\u001b[K\u001b[K\u001b[K\u001b[K\u001b[K\u001b[K\u001b[K\u001b[K\u001b[K\u001b[K\u001b[K\u001b[K\u001b[K\u001b[K\u001b[K\u001b[K\u001b[K\u001b[K\u001b[K\u001b[K\u001b[K\n",
      "    ▪ Configuring RBAC rules ...\u001b[K\u001b[K\u001b[K\u001b[K\u001b[K\u001b[K\u001b[K\u001b[K\u001b[K\u001b[K\u001b[K\u001b[K\u001b[K\u001b[K\u001b[K\u001b[K\u001b[K\u001b[K\u001b[K\u001b[K\u001b[K\u001b[K\u001b[K\u001b[K\u001b[K\u001b[K\u001b[K\u001b[K\u001b[K\u001b[K\u001b[K\u001b[K\u001b[K\u001b[K\n",
      "🔎  Verifying Kubernetes components...\n",
      "    ▪ Using image gcr.io/k8s-minikube/storage-provisioner:v5\n",
      "🌟  Enabled addons: storage-provisioner, default-storageclass\n",
      "🏄  Done! kubectl is now configured to use \"minikube\" cluster and \"default\" namespace by default\n",
      "CPU times: user 842 ms, sys: 287 ms, total: 1.13 s\n",
      "Wall time: 45.6 s\n"
     ]
    }
   ],
   "metadata": {}
  },
  {
   "cell_type": "markdown",
   "source": [
    "Having deleted the cluster the startuo time for a new cluster with prefilled caches reduces to well under a minute."
   ],
   "metadata": {}
  },
  {
   "cell_type": "code",
   "execution_count": 10,
   "source": [
    "!sleep 10"
   ],
   "outputs": [],
   "metadata": {}
  },
  {
   "cell_type": "markdown",
   "source": [
    "## Creating First Namespace And Pod"
   ],
   "metadata": {}
  },
  {
   "cell_type": "code",
   "execution_count": 11,
   "source": [
    "%%bash\n",
    "\n",
    "cat <<EOF| kubectl apply -f -\n",
    "kind: Namespace\n",
    "apiVersion: v1\n",
    "metadata:\n",
    "  name: demo\n",
    "  labels:\n",
    "    name: demo\n",
    "---\n",
    "kind: Pod\n",
    "apiVersion: v1\n",
    "metadata:\n",
    "  name: demo-pod\n",
    "  namespace: demo\n",
    "spec:\n",
    "  containers:\n",
    "  - name: demo-ctr\n",
    "    image: nginx:stable-alpine\n",
    "    resources:\n",
    "      limits:\n",
    "        memory: \"200Mi\"\n",
    "        cpu: \"700m\"\n",
    "      requests:\n",
    "        memory: \"200Mi\"\n",
    "        cpu: \"700m\"\n",
    "EOF"
   ],
   "outputs": [
    {
     "output_type": "stream",
     "name": "stdout",
     "text": [
      "namespace/demo created\n",
      "pod/demo-pod created\n"
     ]
    }
   ],
   "metadata": {}
  },
  {
   "cell_type": "markdown",
   "source": [
    "A namespace demo with a pod demo-pod in it according to above yaml."
   ],
   "metadata": {}
  },
  {
   "cell_type": "code",
   "execution_count": 12,
   "source": [
    "%%bash\n",
    "\n",
    "cat <<EOF| kubectl apply -f -\n",
    "kind: Namespace\n",
    "apiVersion: v1\n",
    "metadata:\n",
    "  name: demo\n",
    "  labels:\n",
    "    name: demo\n",
    "---\n",
    "kind: Pod\n",
    "apiVersion: v1\n",
    "metadata:\n",
    "  name: demo-pod\n",
    "  namespace: demo\n",
    "spec:\n",
    "  containers:\n",
    "  - name: demo-ctr\n",
    "    image: nginx:stable-alpine\n",
    "    resources:\n",
    "      limits:\n",
    "        memory: \"200Mi\"\n",
    "        cpu: \"700m\"\n",
    "      requests:\n",
    "        memory: \"200Mi\"\n",
    "        cpu: \"700m\"\n",
    "EOF"
   ],
   "outputs": [
    {
     "output_type": "stream",
     "name": "stdout",
     "text": [
      "namespace/demo unchanged\n",
      "pod/demo-pod unchanged\n"
     ]
    }
   ],
   "metadata": {}
  },
  {
   "cell_type": "markdown",
   "source": [
    "As nemspace *demo* and the pod *demo-pod* in it have already been created by executing the exact same command before, *kubectl apply* remains idempotent."
   ],
   "metadata": {}
  },
  {
   "cell_type": "code",
   "execution_count": 13,
   "source": [
    "!kubectl get pods --namespace demo"
   ],
   "outputs": [
    {
     "output_type": "stream",
     "name": "stdout",
     "text": [
      "NAME       READY   STATUS    RESTARTS   AGE\n",
      "demo-pod   0/1     Pending   0          0s\n"
     ]
    }
   ],
   "metadata": {}
  },
  {
   "cell_type": "markdown",
   "source": [
    "The newly created and started pod *demo-pod* is just one pod among others constituting the base kubernetes cluster. Those containers are isolated in the *kube-system* namespace."
   ],
   "metadata": {}
  },
  {
   "cell_type": "code",
   "execution_count": 14,
   "source": [
    "!kubectl get namespaces"
   ],
   "outputs": [
    {
     "output_type": "stream",
     "name": "stdout",
     "text": [
      "NAME              STATUS   AGE\n",
      "default           Active   18s\n",
      "demo              Active   1s\n",
      "kube-node-lease   Active   19s\n",
      "kube-public       Active   20s\n",
      "kube-system       Active   20s\n"
     ]
    }
   ],
   "metadata": {}
  },
  {
   "cell_type": "code",
   "execution_count": 15,
   "source": [
    "!kubectl get pods --namespace kube-system"
   ],
   "outputs": [
    {
     "output_type": "stream",
     "name": "stdout",
     "text": [
      "NAME                               READY   STATUS              RESTARTS   AGE\n",
      "coredns-78fcd69978-hdkkp           0/1     ContainerCreating   0          3s\n",
      "etcd-minikube                      1/1     Running             0          12s\n",
      "kube-apiserver-minikube            1/1     Running             0          12s\n",
      "kube-controller-manager-minikube   1/1     Running             0          12s\n",
      "kube-proxy-hb48t                   0/1     ContainerCreating   0          3s\n",
      "kube-scheduler-minikube            1/1     Running             0          12s\n",
      "storage-provisioner                0/1     ContainerCreating   0          12s\n"
     ]
    }
   ],
   "metadata": {}
  },
  {
   "cell_type": "code",
   "execution_count": 16,
   "source": [
    "%%bash\n",
    "\n",
    "echo \"systemd-cgls --no-pager ; exit\" | minikube ssh"
   ],
   "outputs": [
    {
     "output_type": "stream",
     "name": "stdout",
     "text": [
      "systemd-cgls --no-pager ; exit\n",
      "\u001b]0;docker@minikube: ~\u0007docker@minikube:~$ systemd-cgls --no-pager ; exit\n",
      "Control group /docker/bc31ea0d7864bce696283343b833410fcecb3e5f2b1db3a1aa517d1d82f7450c:\n",
      "-.slice\n",
      "├─init.scope \n",
      "│ └─\u001b[0;38;5;245m1 /sbin/init\u001b[0m\n",
      "└─system.slice \n",
      "  ├─containerd.service \n",
      "  │ ├─\u001b[0;38;5;245m 199 /usr/bin/containerd\u001b[0m\n",
      "  │ ├─\u001b[0;38;5;245m1601 /usr/bin/containerd-shim-runc-v2 -namespace moby -id 77afe6794e699b8…\u001b[0m\n",
      "  │ ├─\u001b[0;38;5;245m1607 /usr/bin/containerd-shim-runc-v2 -namespace moby -id ac4c15bc18f9426…\u001b[0m\n",
      "  │ ├─\u001b[0;38;5;245m1633 /usr/bin/containerd-shim-runc-v2 -namespace moby -id 3556eb9e120d8c1…\u001b[0m\n",
      "  │ ├─\u001b[0;38;5;245m1672 /pause\u001b[0m\n",
      "  │ ├─\u001b[0;38;5;245m1679 /pause\u001b[0m\n",
      "  │ ├─\u001b[0;38;5;245m1690 /pause\u001b[0m\n",
      "  │ ├─\u001b[0;38;5;245m1729 /usr/bin/containerd-shim-runc-v2 -namespace moby -id 9570f4abf799432…\u001b[0m\n",
      "  │ ├─\u001b[0;38;5;245m1770 /pause\u001b[0m\n",
      "  │ ├─\u001b[0;38;5;245m1800 /usr/bin/containerd-shim-runc-v2 -namespace moby -id a4932baea9274fc…\u001b[0m\n",
      "  │ ├─\u001b[0;38;5;245m1822 /usr/bin/containerd-shim-runc-v2 -namespace moby -id 6782aec2cff5a3c…\u001b[0m\n",
      "  │ ├─\u001b[0;38;5;245m1849 /usr/bin/containerd-shim-runc-v2 -namespace moby -id cea436f97b6e3fe…\u001b[0m\n",
      "  │ ├─\u001b[0;38;5;245m1880 kube-scheduler --authentication-kubeconfig=/etc/kubernetes/scheduler…\u001b[0m\n",
      "  │ ├─\u001b[0;38;5;245m1900 kube-controller-manager --allocate-node-cidrs=true --authentication-…\u001b[0m\n",
      "  │ ├─\u001b[0;38;5;245m1914 kube-apiserver --advertise-address=192.168.49.2 --allow-privileged=t…\u001b[0m\n",
      "  │ ├─\u001b[0;38;5;245m1929 /usr/bin/containerd-shim-runc-v2 -namespace moby -id 767d905b12bb5ba…\u001b[0m\n",
      "  │ ├─\u001b[0;38;5;245m1971 etcd --advertise-client-urls=https://192.168.49.2:2379 --cert-file=/…\u001b[0m\n",
      "  │ ├─\u001b[0;38;5;245m2803 /usr/bin/containerd-shim-runc-v2 -namespace moby -id 2175d9836173ae3…\u001b[0m\n",
      "  │ ├─\u001b[0;38;5;245m2824 /pause\u001b[0m\n",
      "  │ ├─\u001b[0;38;5;245m2838 /usr/bin/containerd-shim-runc-v2 -namespace moby -id f668ab73fc7f085…\u001b[0m\n",
      "  │ ├─\u001b[0;38;5;245m2865 /pause\u001b[0m\n",
      "  │ ├─\u001b[0;38;5;245m2897 /usr/bin/containerd-shim-runc-v2 -namespace moby -id 0fa14965a26f306…\u001b[0m\n",
      "  │ ├─\u001b[0;38;5;245m2923 /usr/local/bin/kube-proxy --config=/var/lib/kube-proxy/config.conf -…\u001b[0m\n",
      "  │ ├─\u001b[0;38;5;245m2932 /usr/bin/containerd-shim-runc-v2 -namespace moby -id 9d5127d0a0b95de…\u001b[0m\n",
      "  │ ├─\u001b[0;38;5;245m2963 /storage-provisioner\u001b[0m\n",
      "  │ ├─\u001b[0;38;5;245m2999 /usr/bin/containerd-shim-runc-v2 -namespace moby -id b4c9756e0f491cd…\u001b[0m\n",
      "  │ ├─\u001b[0;38;5;245m3022 /pause\u001b[0m\n",
      "  │ ├─\u001b[0;38;5;245m3092 /usr/bin/containerd-shim-runc-v2 -namespace moby -id 734fc55f06000c1…\u001b[0m\n",
      "  │ ├─\u001b[0;38;5;245m3113 /coredns -conf /etc/coredns/Corefile\u001b[0m\n",
      "  │ ├─\u001b[0;38;5;245m3200 /usr/bin/containerd-shim-runc-v2 -namespace moby -id 59d8af602e8864d…\u001b[0m\n",
      "  │ └─\u001b[0;38;5;245m3221 /pause\u001b[0m\n",
      "  ├─docker.service \n",
      "  │ └─\u001b[0;38;5;245m469 /usr/bin/dockerd -H tcp://0.0.0.0:2376 -H unix:///var/run/docker.sock…\u001b[0m\n",
      "  ├─kubelet.service \n",
      "  │ └─\u001b[0;38;5;245m2384 /var/lib/minikube/binaries/v1.22.1/kubelet --bootstrap-kubeconfig=/e…\u001b[0m\n",
      "  ├─systemd-journald.service \n",
      "  │ └─\u001b[0;38;5;245m177 /lib/systemd/systemd-journald\u001b[0m\n",
      "  ├─ssh.service \n",
      "  │ ├─\u001b[0;38;5;245m 207 sshd: /usr/sbin/sshd -D [listener] 0 of 10-100 startups\u001b[0m\n",
      "  │ ├─\u001b[0;38;5;245m3272 sshd: docker [priv]\u001b[0m\n",
      "  │ ├─\u001b[0;38;5;245m3275 sshd: docker@pts/1\u001b[0m\n",
      "  │ ├─\u001b[0;38;5;245m3276 -bash\u001b[0m\n",
      "  │ └─\u001b[0;38;5;245m3279 systemd-cgls --no-pager\u001b[0m\n",
      "  └─dbus.service \n",
      "    └─\u001b[0;38;5;245m190 /usr/bin/dbus-daemon --system --address=systemd: --nofork --nopidfile…\u001b[0m\n",
      "logout\n",
      "\u001b[3J\u001b[H\u001b[2J"
     ]
    }
   ],
   "metadata": {}
  },
  {
   "cell_type": "code",
   "execution_count": 17,
   "source": [
    "!skopeo --override-os linux copy docker://alpine:3.14.2 oci:alpine:3.14.2"
   ],
   "outputs": [
    {
     "output_type": "stream",
     "name": "stdout",
     "text": [
      "Getting image source signatures\n",
      "Copying blob a0d0a0d46f8b [=>--------------------------------] 199.5KiB / 2.7MiB\n",
      "\u001b[1A\u001b[JCopying blob a0d0a0d46f8b [===>------------------------------] 335.2KiB / 2.7MiB\n",
      "\u001b[1A\u001b[JCopying blob a0d0a0d46f8b [=====>----------------------------] 495.2KiB / 2.7MiB\n",
      "\u001b[1A\u001b[JCopying blob a0d0a0d46f8b [========>-------------------------] 751.2KiB / 2.7MiB\n",
      "\u001b[1A\u001b[JCopying blob a0d0a0d46f8b [=========>------------------------] 799.2KiB / 2.7MiB\n",
      "\u001b[1A\u001b[JCopying blob a0d0a0d46f8b [====================>---------------] 1.6MiB / 2.7MiB\n",
      "\u001b[1A\u001b[JCopying blob a0d0a0d46f8b [=================================>--] 2.6MiB / 2.7MiB\n",
      "\u001b[1A\u001b[JCopying blob a0d0a0d46f8b [=================================>--] 2.6MiB / 2.7MiB\n",
      "\u001b[1A\u001b[JCopying blob a0d0a0d46f8b [====================================] 2.7MiB / 2.7MiB\n",
      "\u001b[1A\u001b[JCopying blob a0d0a0d46f8b done  \n",
      "\u001b[1A\u001b[JCopying blob a0d0a0d46f8b done  \n",
      "\u001b[1A\u001b[JCopying blob a0d0a0d46f8b done  \n",
      "Copying config 696d33ca15 [====================================] 585.0b / 585.0b\n",
      "\u001b[1A\u001b[JCopying config 696d33ca15 done  \n",
      "\u001b[1A\u001b[JCopying config 696d33ca15 done  \n",
      "Writing manifest to image destination\n",
      "Storing signatures\n"
     ]
    }
   ],
   "metadata": {}
  },
  {
   "cell_type": "code",
   "execution_count": 18,
   "source": [
    "!tree alpine"
   ],
   "outputs": [
    {
     "output_type": "stream",
     "name": "stdout",
     "text": [
      "\u001b[01;34malpine\u001b[00m\n",
      "├── \u001b[01;34mblobs\u001b[00m\n",
      "│   └── \u001b[01;34msha256\u001b[00m\n",
      "│       ├── 03014f0323753134bf6399ffbe26dcd75e89c6a7429adfab392d64706649f07b\n",
      "│       ├── 696d33ca1510966c426bdcc0daf05f75990d68c4eb820f615edccf7b971935e7\n",
      "│       └── a0d0a0d46f8b52473982a3c466318f479767577551a53ffc9074c9fa7035982e\n",
      "├── index.json\n",
      "└── oci-layout\n",
      "\n",
      "2 directories, 5 files\n"
     ]
    }
   ],
   "metadata": {}
  },
  {
   "cell_type": "code",
   "execution_count": 19,
   "source": [
    "!file alpine/blobs/sha256/*"
   ],
   "outputs": [
    {
     "output_type": "stream",
     "name": "stdout",
     "text": [
      "alpine/blobs/sha256/03014f0323753134bf6399ffbe26dcd75e89c6a7429adfab392d64706649f07b: JSON data\n",
      "alpine/blobs/sha256/696d33ca1510966c426bdcc0daf05f75990d68c4eb820f615edccf7b971935e7: JSON data\n",
      "alpine/blobs/sha256/a0d0a0d46f8b52473982a3c466318f479767577551a53ffc9074c9fa7035982e: gzip compressed data, original size modulo 2^32 5865472\n"
     ]
    }
   ],
   "metadata": {}
  },
  {
   "cell_type": "code",
   "execution_count": 20,
   "source": [
    "!cat alpine/blobs/sha256/03014f0323753134bf6399ffbe26dcd75e89c6a7429adfab392d64706649f07b | jq"
   ],
   "outputs": [
    {
     "output_type": "stream",
     "name": "stdout",
     "text": [
      "\u001b[1;39m{\n",
      "  \u001b[0m\u001b[34;1m\"schemaVersion\"\u001b[0m\u001b[1;39m: \u001b[0m\u001b[0;39m2\u001b[0m\u001b[1;39m,\n",
      "  \u001b[0m\u001b[34;1m\"config\"\u001b[0m\u001b[1;39m: \u001b[0m\u001b[1;39m{\n",
      "    \u001b[0m\u001b[34;1m\"mediaType\"\u001b[0m\u001b[1;39m: \u001b[0m\u001b[0;32m\"application/vnd.oci.image.config.v1+json\"\u001b[0m\u001b[1;39m,\n",
      "    \u001b[0m\u001b[34;1m\"digest\"\u001b[0m\u001b[1;39m: \u001b[0m\u001b[0;32m\"sha256:696d33ca1510966c426bdcc0daf05f75990d68c4eb820f615edccf7b971935e7\"\u001b[0m\u001b[1;39m,\n",
      "    \u001b[0m\u001b[34;1m\"size\"\u001b[0m\u001b[1;39m: \u001b[0m\u001b[0;39m585\u001b[0m\u001b[1;39m\n",
      "  \u001b[1;39m}\u001b[0m\u001b[1;39m,\n",
      "  \u001b[0m\u001b[34;1m\"layers\"\u001b[0m\u001b[1;39m: \u001b[0m\u001b[1;39m[\n",
      "    \u001b[1;39m{\n",
      "      \u001b[0m\u001b[34;1m\"mediaType\"\u001b[0m\u001b[1;39m: \u001b[0m\u001b[0;32m\"application/vnd.oci.image.layer.v1.tar+gzip\"\u001b[0m\u001b[1;39m,\n",
      "      \u001b[0m\u001b[34;1m\"digest\"\u001b[0m\u001b[1;39m: \u001b[0m\u001b[0;32m\"sha256:a0d0a0d46f8b52473982a3c466318f479767577551a53ffc9074c9fa7035982e\"\u001b[0m\u001b[1;39m,\n",
      "      \u001b[0m\u001b[34;1m\"size\"\u001b[0m\u001b[1;39m: \u001b[0m\u001b[0;39m2814446\u001b[0m\u001b[1;39m\n",
      "    \u001b[1;39m}\u001b[0m\u001b[1;39m\n",
      "  \u001b[1;39m]\u001b[0m\u001b[1;39m\n",
      "\u001b[1;39m}\u001b[0m\n"
     ]
    }
   ],
   "metadata": {}
  },
  {
   "cell_type": "code",
   "execution_count": 21,
   "source": [
    "!cat alpine/blobs/sha256/696d33ca1510966c426bdcc0daf05f75990d68c4eb820f615edccf7b971935e7 | jq"
   ],
   "outputs": [
    {
     "output_type": "stream",
     "name": "stdout",
     "text": [
      "\u001b[1;39m{\n",
      "  \u001b[0m\u001b[34;1m\"created\"\u001b[0m\u001b[1;39m: \u001b[0m\u001b[0;32m\"2021-08-27T17:19:45.758611523Z\"\u001b[0m\u001b[1;39m,\n",
      "  \u001b[0m\u001b[34;1m\"architecture\"\u001b[0m\u001b[1;39m: \u001b[0m\u001b[0;32m\"amd64\"\u001b[0m\u001b[1;39m,\n",
      "  \u001b[0m\u001b[34;1m\"os\"\u001b[0m\u001b[1;39m: \u001b[0m\u001b[0;32m\"linux\"\u001b[0m\u001b[1;39m,\n",
      "  \u001b[0m\u001b[34;1m\"config\"\u001b[0m\u001b[1;39m: \u001b[0m\u001b[1;39m{\n",
      "    \u001b[0m\u001b[34;1m\"Env\"\u001b[0m\u001b[1;39m: \u001b[0m\u001b[1;39m[\n",
      "      \u001b[0;32m\"PATH=/usr/local/sbin:/usr/local/bin:/usr/sbin:/usr/bin:/sbin:/bin\"\u001b[0m\u001b[1;39m\n",
      "    \u001b[1;39m]\u001b[0m\u001b[1;39m,\n",
      "    \u001b[0m\u001b[34;1m\"Cmd\"\u001b[0m\u001b[1;39m: \u001b[0m\u001b[1;39m[\n",
      "      \u001b[0;32m\"/bin/sh\"\u001b[0m\u001b[1;39m\n",
      "    \u001b[1;39m]\u001b[0m\u001b[1;39m\n",
      "  \u001b[1;39m}\u001b[0m\u001b[1;39m,\n",
      "  \u001b[0m\u001b[34;1m\"rootfs\"\u001b[0m\u001b[1;39m: \u001b[0m\u001b[1;39m{\n",
      "    \u001b[0m\u001b[34;1m\"type\"\u001b[0m\u001b[1;39m: \u001b[0m\u001b[0;32m\"layers\"\u001b[0m\u001b[1;39m,\n",
      "    \u001b[0m\u001b[34;1m\"diff_ids\"\u001b[0m\u001b[1;39m: \u001b[0m\u001b[1;39m[\n",
      "      \u001b[0;32m\"sha256:e2eb06d8af8218cfec8210147357a68b7e13f7c485b991c288c2d01dc228bb68\"\u001b[0m\u001b[1;39m\n",
      "    \u001b[1;39m]\u001b[0m\u001b[1;39m\n",
      "  \u001b[1;39m}\u001b[0m\u001b[1;39m,\n",
      "  \u001b[0m\u001b[34;1m\"history\"\u001b[0m\u001b[1;39m: \u001b[0m\u001b[1;39m[\n",
      "    \u001b[1;39m{\n",
      "      \u001b[0m\u001b[34;1m\"created\"\u001b[0m\u001b[1;39m: \u001b[0m\u001b[0;32m\"2021-08-27T17:19:45.553092363Z\"\u001b[0m\u001b[1;39m,\n",
      "      \u001b[0m\u001b[34;1m\"created_by\"\u001b[0m\u001b[1;39m: \u001b[0m\u001b[0;32m\"/bin/sh -c #(nop) ADD file:aad4290d27580cc1a094ffaf98c3ca2fc5d699fe695dfb8e6e9fac20f1129450 in / \"\u001b[0m\u001b[1;39m\n",
      "    \u001b[1;39m}\u001b[0m\u001b[1;39m,\n",
      "    \u001b[1;39m{\n",
      "      \u001b[0m\u001b[34;1m\"created\"\u001b[0m\u001b[1;39m: \u001b[0m\u001b[0;32m\"2021-08-27T17:19:45.758611523Z\"\u001b[0m\u001b[1;39m,\n",
      "      \u001b[0m\u001b[34;1m\"created_by\"\u001b[0m\u001b[1;39m: \u001b[0m\u001b[0;32m\"/bin/sh -c #(nop)  CMD [\\\"/bin/sh\\\"]\"\u001b[0m\u001b[1;39m,\n",
      "      \u001b[0m\u001b[34;1m\"empty_layer\"\u001b[0m\u001b[1;39m: \u001b[0m\u001b[0;39mtrue\u001b[0m\u001b[1;39m\n",
      "    \u001b[1;39m}\u001b[0m\u001b[1;39m\n",
      "  \u001b[1;39m]\u001b[0m\u001b[1;39m\n",
      "\u001b[1;39m}\u001b[0m\n"
     ]
    }
   ],
   "metadata": {}
  },
  {
   "cell_type": "code",
   "execution_count": 22,
   "source": [
    "!rustup self uninstall -y"
   ],
   "outputs": [
    {
     "output_type": "stream",
     "name": "stdout",
     "text": [
      "\u001b[1minfo: \u001b[mremoving rustup home\n",
      "\u001b[1minfo: \u001b[mremoving cargo home\n",
      "\u001b[1minfo: \u001b[mremoving rustup binaries\n",
      "\u001b[1minfo: \u001b[mrustup is uninstalled\n"
     ]
    }
   ],
   "metadata": {}
  },
  {
   "cell_type": "code",
   "execution_count": 23,
   "source": [
    "!curl --proto '=https' --tlsv1.2 -sSf https://sh.rustup.rs | sh -s -- -y"
   ],
   "outputs": [
    {
     "output_type": "stream",
     "name": "stdout",
     "text": [
      "\u001b[1minfo:\u001b[0m downloading installer\n",
      "\u001b[1minfo: \u001b[mprofile set to 'default'\n",
      "\u001b[1minfo: \u001b[mdefault host triple is x86_64-apple-darwin\n",
      "\u001b[1minfo: \u001b[msyncing channel updates for 'stable-x86_64-apple-darwin'\n",
      "\u001b[1minfo: \u001b[mlatest update on 2021-09-09, rust version 1.55.0 (c8dfcfe04 2021-09-06)\n",
      "\u001b[1minfo: \u001b[mdownloading component 'cargo'\n",
      "  4.4 MiB /   4.4 MiB (100 %)   1.4 MiB/s in  3s ETA:  0s\n",
      "\u001b[1minfo: \u001b[mdownloading component 'clippy'\n",
      "  1.7 MiB /   1.7 MiB (100 %)   1.2 MiB/s in  1s ETA:  0s\n",
      "\u001b[1minfo: \u001b[mdownloading component 'rust-docs'\n",
      " 17.1 MiB /  17.1 MiB (100 %)   3.9 MiB/s in  4s ETA:  0s\n",
      "\u001b[1minfo: \u001b[mdownloading component 'rust-std'\n",
      " 21.0 MiB /  21.0 MiB (100 %)   5.2 MiB/s in  4s ETA:  0s\n",
      "\u001b[1minfo: \u001b[mdownloading component 'rustc'\n",
      " 75.9 MiB /  75.9 MiB (100 %)   4.1 MiB/s in 17s ETA:  0s\n",
      "\u001b[1minfo: \u001b[mdownloading component 'rustfmt'\n",
      "\u001b[1minfo: \u001b[minstalling component 'cargo'\n",
      "\u001b[1minfo: \u001b[minstalling component 'clippy'\n",
      "\u001b[1minfo: \u001b[minstalling component 'rust-docs'\n",
      " 17.1 MiB /  17.1 MiB (100 %)   5.0 MiB/s in  2s ETA:  0s\n",
      "\u001b[1minfo: \u001b[minstalling component 'rust-std'\n",
      " 21.0 MiB /  21.0 MiB (100 %)  13.5 MiB/s in  1s ETA:  0s\n",
      "\u001b[1minfo: \u001b[minstalling component 'rustc'\n",
      " 75.9 MiB /  75.9 MiB (100 %)  15.0 MiB/s in  5s ETA:  0s\n",
      "\u001b[1minfo: \u001b[minstalling component 'rustfmt'\n",
      "\u001b[1minfo: \u001b[mdefault toolchain set to 'stable-x86_64-apple-darwin'\n",
      "\n",
      "  \u001b[1m\u001b[32mstable-x86_64-apple-darwin installed\u001b[m - rustc 1.55.0 (c8dfcfe04 2021-09-06)\n",
      "\n",
      "\u001b[1m\n",
      "Rust is installed now. Great!\n",
      "\u001b[m\n",
      "To get started you may need to restart your current shell.\n",
      "This would reload your \u001b[1mPATH\u001b[m environment variable to include\n",
      "Cargo's bin directory ($HOME/.cargo/bin).\n",
      "\n",
      "To configure your current shell, run:\n",
      "source $HOME/.cargo/env\n"
     ]
    }
   ],
   "metadata": {}
  },
  {
   "cell_type": "code",
   "execution_count": 24,
   "source": [
    "!rustup default stable"
   ],
   "outputs": [
    {
     "output_type": "stream",
     "name": "stdout",
     "text": [
      "\u001b[1minfo: \u001b[musing existing install for 'stable-x86_64-apple-darwin'\n",
      "\u001b[1minfo: \u001b[mdefault toolchain set to 'stable-x86_64-apple-darwin'\n",
      "\n",
      "  \u001b[1mstable-x86_64-apple-darwin unchanged\u001b[m - rustc 1.55.0 (c8dfcfe04 2021-09-06)\n",
      "\n"
     ]
    }
   ],
   "metadata": {}
  },
  {
   "cell_type": "code",
   "execution_count": 25,
   "source": [
    "!rustup update"
   ],
   "outputs": [
    {
     "output_type": "stream",
     "name": "stdout",
     "text": [
      "\u001b[1minfo: \u001b[msyncing channel updates for 'stable-x86_64-apple-darwin'\n",
      "\u001b[1minfo: \u001b[mchecking for self-updates\n",
      "\n",
      "  \u001b[1mstable-x86_64-apple-darwin unchanged\u001b[m - rustc 1.55.0 (c8dfcfe04 2021-09-06)\n",
      "\n",
      "\u001b[1minfo: \u001b[mcleaning up downloads & tmp directories\n"
     ]
    }
   ],
   "metadata": {}
  },
  {
   "cell_type": "code",
   "execution_count": 26,
   "source": [
    "!cargo new helloworld"
   ],
   "outputs": [
    {
     "output_type": "stream",
     "name": "stdout",
     "text": [
      "\u001b[0m\u001b[0m\u001b[1m\u001b[32m     Created\u001b[0m binary (application) `helloworld` package\n"
     ]
    }
   ],
   "metadata": {}
  },
  {
   "cell_type": "code",
   "execution_count": 27,
   "source": [
    "%%bash\n",
    "\n",
    "cd helloworld\n",
    "\n",
    "cat >Dockerfile <<EOF\n",
    "FROM docker.io/library/rust:1.55.0\n",
    "\n",
    "WORKDIR /usr/src/helloworld\n",
    "\n",
    "COPY . .\n",
    "\n",
    "RUN cargo build --release\n",
    "\n",
    "RUN cargo install --path .\n",
    "\n",
    "CMD [\"/usr/local/cargo/bin/helloworld\"]\n",
    "EOF"
   ],
   "outputs": [],
   "metadata": {}
  },
  {
   "cell_type": "code",
   "execution_count": 28,
   "source": [
    "%%bash\n",
    "\n",
    "cd helloworld\n",
    "\n",
    "cat >Dockerfile.slim <<EOF\n",
    "FROM docker.io/library/rust:1.55.0-alpine3.14\n",
    "\n",
    "WORKDIR /usr/src/helloworld\n",
    "\n",
    "COPY . .\n",
    "\n",
    "RUN cargo build --release\n",
    "\n",
    "RUN cargo install --path .\n",
    "\n",
    "CMD [\"/usr/local/cargo/bin/helloworld\"]\n",
    "EOF"
   ],
   "outputs": [],
   "metadata": {}
  },
  {
   "cell_type": "code",
   "execution_count": 29,
   "source": [
    "%%bash\n",
    "\n",
    "cd helloworld\n",
    "\n",
    "cat >Dockerfile.slim-staged <<EOF\n",
    "FROM docker.io/library/rust:1.55.0-alpine3.14\n",
    "\n",
    "WORKDIR /usr/src/helloworld\n",
    "\n",
    "COPY . .\n",
    "\n",
    "RUN cargo build --release\n",
    "\n",
    "RUN cargo install --path .\n",
    "\n",
    "CMD [\"/usr/local/cargo/bin/helloworld\"]\n",
    "EOF"
   ],
   "outputs": [],
   "metadata": {}
  },
  {
   "cell_type": "code",
   "execution_count": 30,
   "source": [
    "!podman info"
   ],
   "outputs": [
    {
     "output_type": "stream",
     "name": "stdout",
     "text": [
      "host:\n",
      "  arch: amd64\n",
      "  buildahVersion: 1.22.3\n",
      "  cgroupControllers: []\n",
      "  cgroupManager: systemd\n",
      "  cgroupVersion: v2\n",
      "  conmon:\n",
      "    package: conmon-2.0.29-2.fc34.x86_64\n",
      "    path: /usr/bin/conmon\n",
      "    version: 'conmon version 2.0.29, commit: '\n",
      "  cpus: 1\n",
      "  distribution:\n",
      "    distribution: fedora\n",
      "    version: \"34\"\n",
      "  eventLogger: journald\n",
      "  hostname: localhost\n",
      "  idMappings:\n",
      "    gidmap:\n",
      "    - container_id: 0\n",
      "      host_id: 1000\n",
      "      size: 1\n",
      "    - container_id: 1\n",
      "      host_id: 100000\n",
      "      size: 65536\n",
      "    uidmap:\n",
      "    - container_id: 0\n",
      "      host_id: 1000\n",
      "      size: 1\n",
      "    - container_id: 1\n",
      "      host_id: 100000\n",
      "      size: 65536\n",
      "  kernel: 5.13.13-200.fc34.x86_64\n",
      "  linkmode: dynamic\n",
      "  memFree: 1711087616\n",
      "  memTotal: 2061852672\n",
      "  ociRuntime:\n",
      "    name: crun\n",
      "    package: crun-1.0-1.fc34.x86_64\n",
      "    path: /usr/bin/crun\n",
      "    version: |-\n",
      "      crun version 1.0\n",
      "      commit: 139dc6971e2f1d931af520188763e984d6cdfbf8\n",
      "      spec: 1.0.0\n",
      "      +SYSTEMD +SELINUX +APPARMOR +CAP +SECCOMP +EBPF +CRIU +YAJL\n",
      "  os: linux\n",
      "  remoteSocket:\n",
      "    exists: true\n",
      "    path: /run/user/1000/podman/podman.sock\n",
      "  security:\n",
      "    apparmorEnabled: false\n",
      "    capabilities: CAP_CHOWN,CAP_DAC_OVERRIDE,CAP_FOWNER,CAP_FSETID,CAP_KILL,CAP_NET_BIND_SERVICE,CAP_SETFCAP,CAP_SETGID,CAP_SETPCAP,CAP_SETUID,CAP_SYS_CHROOT\n",
      "    rootless: true\n",
      "    seccompEnabled: true\n",
      "    seccompProfilePath: /usr/share/containers/seccomp.json\n",
      "    selinuxEnabled: true\n",
      "  serviceIsRemote: true\n",
      "  slirp4netns:\n",
      "    executable: /usr/bin/slirp4netns\n",
      "    package: slirp4netns-1.1.12-2.fc34.x86_64\n",
      "    version: |-\n",
      "      slirp4netns version 1.1.12\n",
      "      commit: 7a104a101aa3278a2152351a082a6df71f57c9a3\n",
      "      libslirp: 4.4.0\n",
      "      SLIRP_CONFIG_VERSION_MAX: 3\n",
      "      libseccomp: 2.5.0\n",
      "  swapFree: 0\n",
      "  swapTotal: 0\n",
      "  uptime: 22h 48m 54.96s (Approximately 0.92 days)\n",
      "registries:\n",
      "  search:\n",
      "  - registry.fedoraproject.org\n",
      "  - registry.access.redhat.com\n",
      "  - docker.io\n",
      "  - quay.io\n",
      "store:\n",
      "  configFile: /var/home/core/.config/containers/storage.conf\n",
      "  containerStore:\n",
      "    number: 0\n",
      "    paused: 0\n",
      "    running: 0\n",
      "    stopped: 0\n",
      "  graphDriverName: overlay\n",
      "  graphOptions: {}\n",
      "  graphRoot: /var/home/core/.local/share/containers/storage\n",
      "  graphStatus:\n",
      "    Backing Filesystem: xfs\n",
      "    Native Overlay Diff: \"true\"\n",
      "    Supports d_type: \"true\"\n",
      "    Using metacopy: \"false\"\n",
      "  imageStore:\n",
      "    number: 0\n",
      "  runRoot: /run/user/1000/containers\n",
      "  volumePath: /var/home/core/.local/share/containers/storage/volumes\n",
      "version:\n",
      "  APIVersion: 3.3.1\n",
      "  Built: 1630356396\n",
      "  BuiltTime: Mon Aug 30 20:46:36 2021\n",
      "  GitCommit: \"\"\n",
      "  GoVersion: go1.16.6\n",
      "  OsArch: linux/amd64\n",
      "  Version: 3.3.1\n",
      "\n"
     ]
    }
   ],
   "metadata": {}
  },
  {
   "cell_type": "code",
   "execution_count": 31,
   "source": [
    "!cd helloworld ; podman build --tag helloworld:v0.1.0 --file Dockerfile ."
   ],
   "outputs": [
    {
     "output_type": "stream",
     "name": "stdout",
     "text": [
      "STEP 1/6: FROM docker.io/library/rust:1.55.0\n",
      "Trying to pull docker.io/library/rust:1.55.0...\n",
      "Getting image source signatures\n",
      "Copying blob sha256:74ca45178655a5c9b4a372bb131e0e6a563074c81321f9178fd06bc9847f6559\n",
      "Copying blob sha256:955615a668ce169f8a1443fc6b6e6215f43fe0babfb4790712a2d3171f34d366\n",
      "Copying blob sha256:2756ef5f69a5190f4308619e0f446d95f5515eef4a814dbad0bcebbbbc7b25a8\n",
      "Copying blob sha256:911ea9f2bd51e53a455297e0631e18a72a86d7e2c8e1807176e80f991bde5d64\n",
      "Copying blob sha256:27b0a22ee906271a6ce9ddd1754fdd7d3b59078e0b57b6cc054c7ed7ac301587\n",
      "Copying blob sha256:8584d51a9262f9a3a436dea09ba40fa50f85802018f9bd299eee1bf538481077\n",
      "Copying blob sha256:8584d51a9262f9a3a436dea09ba40fa50f85802018f9bd299eee1bf538481077\n",
      "Copying blob sha256:955615a668ce169f8a1443fc6b6e6215f43fe0babfb4790712a2d3171f34d366\n",
      "Copying blob sha256:27b0a22ee906271a6ce9ddd1754fdd7d3b59078e0b57b6cc054c7ed7ac301587\n",
      "Copying blob sha256:74ca45178655a5c9b4a372bb131e0e6a563074c81321f9178fd06bc9847f6559\n",
      "Copying blob sha256:2756ef5f69a5190f4308619e0f446d95f5515eef4a814dbad0bcebbbbc7b25a8\n",
      "Copying blob sha256:911ea9f2bd51e53a455297e0631e18a72a86d7e2c8e1807176e80f991bde5d64\n",
      "Copying config sha256:378164a392dd65d97fda64be77d39c767f3e6579f7347d311467b40a3e246a10\n",
      "Writing manifest to image destination\n",
      "Storing signatures\n",
      "STEP 2/6: WORKDIR /usr/src/helloworld\n",
      "--> f521953b6ae\n",
      "STEP 3/6: COPY . .\n",
      "--> 41b6b795d19\n",
      "STEP 4/6: RUN cargo build --release\n",
      "   Compiling helloworld v0.1.0 (/usr/src/helloworld)\n",
      "    Finished release [optimized] target(s) in 0.87s\n",
      "--> d12209d4037\n",
      "STEP 5/6: RUN cargo install --path .\n",
      "  Installing helloworld v0.1.0 (/usr/src/helloworld)\n",
      "   Compiling helloworld v0.1.0 (/usr/src/helloworld)\n",
      "    Finished release [optimized] target(s) in 0.38s\n",
      "  Installing /usr/local/cargo/bin/helloworld\n",
      "   Installed package `helloworld v0.1.0 (/usr/src/helloworld)` (executable `helloworld`)\n",
      "--> b1694b5ede5\n",
      "STEP 6/6: CMD [\"/usr/local/cargo/bin/helloworld\"]\n",
      "COMMIT helloworld:v0.1.0\n",
      "--> e2881839f7b\n",
      "Successfully tagged localhost/helloworld:v0.1.0\n",
      "e2881839f7ba160a4d591fa5ac46358d22a816fd9b7518d42d5fb3595050665a\n"
     ]
    }
   ],
   "metadata": {}
  },
  {
   "cell_type": "code",
   "execution_count": 32,
   "source": [
    "!podman images"
   ],
   "outputs": [
    {
     "output_type": "stream",
     "name": "stdout",
     "text": [
      "REPOSITORY              TAG         IMAGE ID      CREATED       SIZE\n",
      "localhost/helloworld    v0.1.0      e2881839f7ba  25 hours ago  1.28 GB\n",
      "docker.io/library/rust  1.55.0      378164a392dd  3 days ago    1.27 GB\n"
     ]
    }
   ],
   "metadata": {}
  },
  {
   "cell_type": "code",
   "execution_count": 33,
   "source": [
    "!podman run --name helloworld --rm helloworld:v0.1.0"
   ],
   "outputs": [
    {
     "output_type": "stream",
     "name": "stdout",
     "text": [
      "Hello, world!\n"
     ]
    }
   ],
   "metadata": {}
  },
  {
   "cell_type": "code",
   "execution_count": 34,
   "source": [
    "!cd helloworld ; podman build --tag helloworld:v0.2.0 --file Dockerfile.slim ."
   ],
   "outputs": [
    {
     "output_type": "stream",
     "name": "stdout",
     "text": [
      "STEP 1/6: FROM docker.io/library/rust:1.55.0-alpine3.14\n",
      "Trying to pull docker.io/library/rust:1.55.0-alpine3.14...\n",
      "Getting image source signatures\n",
      "Copying blob sha256:922454686f1ed186a1f1ecf76b947b3b16125d09227ba5d5736ce77c72941ce0\n",
      "Copying blob sha256:a0d0a0d46f8b52473982a3c466318f479767577551a53ffc9074c9fa7035982e\n",
      "Copying blob sha256:d4ea2bb3df1724da0bb9bbf8d43f7a5b7192610627c590c2fd4b8e0770230cbf\n",
      "Copying blob sha256:a0d0a0d46f8b52473982a3c466318f479767577551a53ffc9074c9fa7035982e\n",
      "Copying blob sha256:d4ea2bb3df1724da0bb9bbf8d43f7a5b7192610627c590c2fd4b8e0770230cbf\n",
      "Copying blob sha256:922454686f1ed186a1f1ecf76b947b3b16125d09227ba5d5736ce77c72941ce0\n",
      "Copying config sha256:ac41586fb44e3aa14cee23647a0d7257d86f4a549634453ab95497bd24eff193\n",
      "Writing manifest to image destination\n",
      "Storing signatures\n",
      "STEP 2/6: WORKDIR /usr/src/helloworld\n",
      "--> ae06f670ae0\n",
      "STEP 3/6: COPY . .\n",
      "--> 6687bea1707\n",
      "STEP 4/6: RUN cargo build --release\n",
      "   Compiling helloworld v0.1.0 (/usr/src/helloworld)\n",
      "    Finished release [optimized] target(s) in 1.03s\n",
      "--> 787ea48a7ec\n",
      "STEP 5/6: RUN cargo install --path .\n",
      "  Installing helloworld v0.1.0 (/usr/src/helloworld)\n",
      "   Compiling helloworld v0.1.0 (/usr/src/helloworld)\n",
      "    Finished release [optimized] target(s) in 0.50s\n",
      "  Installing /usr/local/cargo/bin/helloworld\n",
      "   Installed package `helloworld v0.1.0 (/usr/src/helloworld)` (executable `helloworld`)\n",
      "--> 317fc798556\n",
      "STEP 6/6: CMD [\"/usr/local/cargo/bin/helloworld\"]\n",
      "COMMIT helloworld:v0.2.0\n",
      "--> bc980322c00\n",
      "Successfully tagged localhost/helloworld:v0.2.0\n",
      "bc980322c00e80ed1ca96bb24590c9bf275db89982ddaac1148096d090c3c340\n"
     ]
    }
   ],
   "metadata": {}
  },
  {
   "cell_type": "code",
   "execution_count": 35,
   "source": [
    "!cd helloworld ; podman build --tag helloworld:v0.3.0 --file Dockerfile.slim-staged ."
   ],
   "outputs": [
    {
     "output_type": "stream",
     "name": "stdout",
     "text": [
      "STEP 1/6: FROM docker.io/library/rust:1.55.0-alpine3.14\n",
      "STEP 2/6: WORKDIR /usr/src/helloworld\n",
      "--> Using cache ae06f670ae029987c0ef4469f8a0eebec6d81fe7e8016e27efa3b6a24c990a2b\n",
      "--> ae06f670ae0\n",
      "STEP 3/6: COPY . .\n",
      "--> Using cache 6687bea1707ed4bcd2fec606682cd6ef6f1f2196ef10a48daa17f1760d363da0\n",
      "--> 6687bea1707\n",
      "STEP 4/6: RUN cargo build --release\n",
      "--> Using cache 787ea48a7ec0f609fff798ab000487ab6cb0a415a4e1d2de387b8cb5616d4c0e\n",
      "--> 787ea48a7ec\n",
      "STEP 5/6: RUN cargo install --path .\n",
      "--> Using cache 317fc798556fc712a6b8fedf2d3be704939c14e9e50982d93bbe01688b0cedf5\n",
      "--> 317fc798556\n",
      "STEP 6/6: CMD [\"/usr/local/cargo/bin/helloworld\"]\n",
      "--> Using cache bc980322c00e80ed1ca96bb24590c9bf275db89982ddaac1148096d090c3c340\n",
      "COMMIT helloworld:v0.3.0\n",
      "--> bc980322c00\n",
      "Successfully tagged localhost/helloworld:v0.3.0\n",
      "Successfully tagged localhost/helloworld:v0.2.0\n",
      "bc980322c00e80ed1ca96bb24590c9bf275db89982ddaac1148096d090c3c340\n"
     ]
    }
   ],
   "metadata": {}
  },
  {
   "cell_type": "code",
   "execution_count": 36,
   "source": [
    "!podman images"
   ],
   "outputs": [
    {
     "output_type": "stream",
     "name": "stdout",
     "text": [
      "REPOSITORY              TAG                IMAGE ID      CREATED       SIZE\n",
      "localhost/helloworld    v0.3.0             bc980322c00e  25 hours ago  880 MB\n",
      "localhost/helloworld    v0.2.0             bc980322c00e  25 hours ago  880 MB\n",
      "localhost/helloworld    v0.1.0             e2881839f7ba  25 hours ago  1.28 GB\n",
      "docker.io/library/rust  1.55.0-alpine3.14  ac41586fb44e  3 days ago    868 MB\n",
      "docker.io/library/rust  1.55.0             378164a392dd  3 days ago    1.27 GB\n"
     ]
    }
   ],
   "metadata": {}
  },
  {
   "cell_type": "code",
   "execution_count": 37,
   "source": [
    "!podman run --name helloworld --rm helloworld:v0.3.0"
   ],
   "outputs": [
    {
     "output_type": "stream",
     "name": "stdout",
     "text": [
      "Hello, world!\n"
     ]
    }
   ],
   "metadata": {}
  }
 ],
 "metadata": {
  "interpreter": {
   "hash": "aee8b7b246df8f9039afb4144a1f6fd8d2ca17a180786b69acc140d282b71a49"
  },
  "kernelspec": {
   "name": "python3",
   "display_name": "Python 3.9.7 64-bit"
  },
  "language_info": {
   "codemirror_mode": {
    "name": "ipython",
    "version": 3
   },
   "file_extension": ".py",
   "mimetype": "text/x-python",
   "name": "python",
   "nbconvert_exporter": "python",
   "pygments_lexer": "ipython3",
   "version": "3.9.7"
  }
 },
 "nbformat": 4,
 "nbformat_minor": 5
}
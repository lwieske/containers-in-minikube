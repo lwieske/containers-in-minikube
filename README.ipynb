{
 "cells": [
  {
   "cell_type": "markdown",
   "source": [
    "# Some Demonstrations with Minikube and Containers"
   ],
   "metadata": {}
  },
  {
   "cell_type": "markdown",
   "source": [
    "## Cleaning Up"
   ],
   "metadata": {}
  },
  {
   "cell_type": "markdown",
   "source": [
    "First, the traces of former executions of  *minikube* are eliminated, the cluster itself (stop, delete) and further initialization steps in the cache directory to establish a clean base."
   ],
   "metadata": {}
  },
  {
   "cell_type": "code",
   "execution_count": 1,
   "source": [
    "!minikube stop ; minikube delete ; rm -rf ~/.minikube/cache"
   ],
   "outputs": [
    {
     "output_type": "stream",
     "name": "stdout",
     "text": [
      "✋  Stopping node \"minikube\"  ...\n",
      "🛑  Powering off \"minikube\" via SSH ...\n",
      "🛑  1 nodes stopped.\n",
      "🔥  Deleting \"minikube\" in docker ...\n",
      "🔥  Deleting container \"minikube\" ...\n",
      "🔥  Removing /Users/lothar/.minikube/machines/minikube ...\n",
      "💀  Removed all traces of the \"minikube\" cluster.\n"
     ]
    }
   ],
   "metadata": {}
  },
  {
   "cell_type": "markdown",
   "source": [
    "## Start The First Cluster"
   ],
   "metadata": {}
  },
  {
   "cell_type": "code",
   "execution_count": 2,
   "source": [
    "!KUBERNETES_VERSION=1.22.1 minikube start --kubernetes-version=${KUBERNETES_VERSION}"
   ],
   "outputs": [
    {
     "output_type": "stream",
     "name": "stdout",
     "text": [
      "😄  minikube v1.23.0 on Darwin 11.5.2\n",
      "✨  Automatically selected the docker driver. Other choices: hyperkit, virtualbox, ssh, podman (experimental)\n",
      "👍  Starting control plane node minikube in cluster minikube\n",
      "🚜  Pulling base image ...\n",
      "💾  Downloading Kubernetes v1.22.1 preload ...\n",
      "    > preloaded-images-k8s-v12-v1...: 515.04 MiB / 515.04 MiB  100.00% 6.08 MiB\n",
      "🔥  Creating docker container (CPUs=2, Memory=1987MB) ...\u001b[K\u001b[K\u001b[K\u001b[K\u001b[K\u001b[K\u001b[K\u001b[K\u001b[K\u001b[K\u001b[K\u001b[K\u001b[K\u001b[K\u001b[K\u001b[K\u001b[K\u001b[K\u001b[K\u001b[K\u001b[K\u001b[K\u001b[K\u001b[K\u001b[K\u001b[K\u001b[K\u001b[K\u001b[K\u001b[K\u001b[K\u001b[K\u001b[K\u001b[K\u001b[K\u001b[K\u001b[K\u001b[K\u001b[K\u001b[K\u001b[K\u001b[K\u001b[K\u001b[K\u001b[K\u001b[K\u001b[K\u001b[K\u001b[K\u001b[K\u001b[K\u001b[K\u001b[K\u001b[K\u001b[K\u001b[K\u001b[K\u001b[K\u001b[K\u001b[K\u001b[K\u001b[K\u001b[K\u001b[K\u001b[K\u001b[K\u001b[K\u001b[K\u001b[K\u001b[K\u001b[K\u001b[K\u001b[K\u001b[K\u001b[K\u001b[K\u001b[K\u001b[K\u001b[K\u001b[K\u001b[K\u001b[K\u001b[K\u001b[K\u001b[K\u001b[K\u001b[K\u001b[K\u001b[K\u001b[K\u001b[K\u001b[K\u001b[K\u001b[K\u001b[K\u001b[K\u001b[K\u001b[K\u001b[K\u001b[K\u001b[K\u001b[K\u001b[K\u001b[K\u001b[K\u001b[K\u001b[K\u001b[K\u001b[K\u001b[K\u001b[K\u001b[K\u001b[K\u001b[K\u001b[K\u001b[K\u001b[K\u001b[K\u001b[K\u001b[K\u001b[K\u001b[K\u001b[K\u001b[K\u001b[K\u001b[K\u001b[K\u001b[K\u001b[K\u001b[K\u001b[K\u001b[K\u001b[K\u001b[K\u001b[K\u001b[K\u001b[K\u001b[K\u001b[K\u001b[K\u001b[K\u001b[K\u001b[K\u001b[K\u001b[K\u001b[K\u001b[K\u001b[K\u001b[K\u001b[K\u001b[K\u001b[K\u001b[K\u001b[K\u001b[K\u001b[K\u001b[K\u001b[K\u001b[K\u001b[K\u001b[K\u001b[K\u001b[K\u001b[K\u001b[K\u001b[K\u001b[K\u001b[K\u001b[K\u001b[K\u001b[K\u001b[K\u001b[K\u001b[K\u001b[K\u001b[K\u001b[K\u001b[K\u001b[K\u001b[K\u001b[K\u001b[K\u001b[K\u001b[K\u001b[K\u001b[K\u001b[K\u001b[K\u001b[K\u001b[K\u001b[K\u001b[K\u001b[K\u001b[K\u001b[K\u001b[K\u001b[K\u001b[K\u001b[K\u001b[K\u001b[K\u001b[K\u001b[K\u001b[K\u001b[K\u001b[K\u001b[K\u001b[K\u001b[K\u001b[K\u001b[K\u001b[K\u001b[K\u001b[K\u001b[K\u001b[K\u001b[K\u001b[K\u001b[K\u001b[K\u001b[K\u001b[K\u001b[K\u001b[K\u001b[K\u001b[K\u001b[K\u001b[K\u001b[K\u001b[K\u001b[K\u001b[K\u001b[K\u001b[K\u001b[K\u001b[K\u001b[K\u001b[K\u001b[K\u001b[K\u001b[K\u001b[K\u001b[K\u001b[K\u001b[K\u001b[K\u001b[K\u001b[K\u001b[K\u001b[K\u001b[K\u001b[K\u001b[K\u001b[K\u001b[K\u001b[K\u001b[K\u001b[K\u001b[K\u001b[K\u001b[K\u001b[K\u001b[K\u001b[K\u001b[K\u001b[K\u001b[K\u001b[K\u001b[K\u001b[K\u001b[K\u001b[K\u001b[K\u001b[K\u001b[K\u001b[K\u001b[K\u001b[K\u001b[K\u001b[K\u001b[K\u001b[K\u001b[K\u001b[K\u001b[K\u001b[K\u001b[K\u001b[K\u001b[K\u001b[K\u001b[K\u001b[K\u001b[K\u001b[K\u001b[K\u001b[K\u001b[K\u001b[K\u001b[K\u001b[K\u001b[K\u001b[K\u001b[K\u001b[K\u001b[K\u001b[K\u001b[K\u001b[K\u001b[K\u001b[K\u001b[K\u001b[K\u001b[K\u001b[K\u001b[K\u001b[K\u001b[K\u001b[K\u001b[K\u001b[K\u001b[K\u001b[K\u001b[K\u001b[K\u001b[K\u001b[K\u001b[K\u001b[K\u001b[K\u001b[K\u001b[K\u001b[K\u001b[K\u001b[K\u001b[K\u001b[K\u001b[K\u001b[K\u001b[K\u001b[K\u001b[K\u001b[K\u001b[K\u001b[K\u001b[K\u001b[K\u001b[K\u001b[K\u001b[K\u001b[K\n",
      "🐳  Preparing Kubernetes v1.22.1 on Docker 20.10.8 ...\u001b[K\u001b[K\u001b[K\u001b[K\u001b[K\u001b[K\u001b[K\u001b[K\u001b[K\u001b[K\u001b[K\u001b[K\u001b[K\u001b[K\u001b[K\u001b[K\u001b[K\u001b[K\u001b[K\u001b[K\u001b[K\u001b[K\u001b[K\u001b[K\u001b[K\u001b[K\u001b[K\u001b[K\u001b[K\u001b[K\u001b[K\u001b[K\u001b[K\u001b[K\u001b[K\u001b[K\u001b[K\u001b[K\u001b[K\u001b[K\u001b[K\u001b[K\u001b[K\u001b[K\u001b[K\u001b[K\u001b[K\u001b[K\u001b[K\u001b[K\u001b[K\u001b[K\u001b[K\u001b[K\u001b[K\u001b[K\u001b[K\u001b[K\u001b[K\u001b[K\u001b[K\u001b[K\u001b[K\u001b[K\n",
      "    ▪ Generating certificates and keys ...\u001b[K\u001b[K\u001b[K\u001b[K\u001b[K\u001b[K\u001b[K\u001b[K\u001b[K\u001b[K\u001b[K\u001b[K\u001b[K\u001b[K\u001b[K\u001b[K\u001b[K\u001b[K\u001b[K\u001b[K\u001b[K\u001b[K\u001b[K\u001b[K\u001b[K\u001b[K\u001b[K\u001b[K\u001b[K\u001b[K\u001b[K\u001b[K\u001b[K\u001b[K\u001b[K\u001b[K\u001b[K\u001b[K\u001b[K\u001b[K\u001b[K\u001b[K\u001b[K\u001b[K\u001b[K\u001b[K\u001b[K\u001b[K\u001b[K\u001b[K\n",
      "    ▪ Booting up control plane ...\u001b[K\u001b[K\u001b[K\u001b[K\u001b[K\u001b[K\u001b[K\u001b[K\u001b[K\u001b[K\u001b[K\u001b[K\u001b[K\u001b[K\u001b[K\u001b[K\u001b[K\u001b[K\u001b[K\u001b[K\u001b[K\u001b[K\u001b[K\u001b[K\u001b[K\u001b[K\u001b[K\u001b[K\u001b[K\u001b[K\u001b[K\u001b[K\u001b[K\u001b[K\u001b[K\u001b[K\u001b[K\u001b[K\u001b[K\u001b[K\u001b[K\u001b[K\u001b[K\u001b[K\u001b[K\u001b[K\u001b[K\u001b[K\u001b[K\u001b[K\u001b[K\u001b[K\u001b[K\u001b[K\u001b[K\u001b[K\u001b[K\u001b[K\u001b[K\u001b[K\u001b[K\u001b[K\u001b[K\u001b[K\u001b[K\u001b[K\u001b[K\u001b[K\u001b[K\u001b[K\u001b[K\u001b[K\u001b[K\u001b[K\u001b[K\u001b[K\u001b[K\u001b[K\u001b[K\u001b[K\u001b[K\u001b[K\u001b[K\u001b[K\u001b[K\u001b[K\u001b[K\u001b[K\u001b[K\u001b[K\u001b[K\u001b[K\u001b[K\u001b[K\u001b[K\u001b[K\u001b[K\u001b[K\u001b[K\u001b[K\u001b[K\u001b[K\u001b[K\u001b[K\u001b[K\u001b[K\u001b[K\u001b[K\u001b[K\u001b[K\u001b[K\u001b[K\u001b[K\u001b[K\u001b[K\u001b[K\u001b[K\u001b[K\u001b[K\u001b[K\u001b[K\u001b[K\u001b[K\u001b[K\u001b[K\u001b[K\u001b[K\u001b[K\u001b[K\u001b[K\u001b[K\u001b[K\u001b[K\u001b[K\u001b[K\u001b[K\u001b[K\u001b[K\u001b[K\u001b[K\u001b[K\u001b[K\u001b[K\u001b[K\u001b[K\u001b[K\u001b[K\u001b[K\u001b[K\u001b[K\u001b[K\u001b[K\u001b[K\u001b[K\u001b[K\u001b[K\u001b[K\u001b[K\u001b[K\u001b[K\u001b[K\u001b[K\u001b[K\u001b[K\u001b[K\u001b[K\u001b[K\u001b[K\u001b[K\u001b[K\u001b[K\u001b[K\u001b[K\u001b[K\u001b[K\u001b[K\u001b[K\u001b[K\u001b[K\u001b[K\u001b[K\u001b[K\u001b[K\u001b[K\u001b[K\u001b[K\u001b[K\u001b[K\u001b[K\u001b[K\u001b[K\u001b[K\u001b[K\u001b[K\u001b[K\u001b[K\u001b[K\u001b[K\u001b[K\u001b[K\u001b[K\u001b[K\u001b[K\u001b[K\u001b[K\u001b[K\u001b[K\u001b[K\u001b[K\u001b[K\u001b[K\u001b[K\u001b[K\u001b[K\u001b[K\u001b[K\u001b[K\u001b[K\u001b[K\u001b[K\u001b[K\u001b[K\u001b[K\u001b[K\u001b[K\u001b[K\u001b[K\u001b[K\u001b[K\u001b[K\u001b[K\u001b[K\u001b[K\u001b[K\u001b[K\u001b[K\n",
      "    ▪ Configuring RBAC rules ...\u001b[K\u001b[K\u001b[K\u001b[K\u001b[K\u001b[K\u001b[K\u001b[K\u001b[K\u001b[K\u001b[K\u001b[K\u001b[K\u001b[K\u001b[K\u001b[K\u001b[K\u001b[K\u001b[K\u001b[K\u001b[K\u001b[K\u001b[K\u001b[K\u001b[K\u001b[K\u001b[K\u001b[K\u001b[K\u001b[K\u001b[K\u001b[K\u001b[K\u001b[K\u001b[K\u001b[K\u001b[K\u001b[K\u001b[K\u001b[K\u001b[K\u001b[K\u001b[K\u001b[K\u001b[K\u001b[K\n",
      "🔎  Verifying Kubernetes components...\n",
      "    ▪ Using image gcr.io/k8s-minikube/storage-provisioner:v5\n",
      "🌟  Enabled addons: storage-provisioner, default-storageclass\n",
      "🏄  Done! kubectl is now configured to use \"minikube\" cluster and \"default\" namespace by default\n"
     ]
    }
   ],
   "metadata": {}
  },
  {
   "cell_type": "markdown",
   "source": [
    "## Checking Readiness"
   ],
   "metadata": {}
  },
  {
   "cell_type": "code",
   "execution_count": 3,
   "source": [
    "!kubectl get nodes"
   ],
   "outputs": [
    {
     "output_type": "stream",
     "name": "stdout",
     "text": [
      "NAME       STATUS     ROLES                  AGE   VERSION\n",
      "minikube   NotReady   control-plane,master   10s   v1.22.1\n"
     ]
    }
   ],
   "metadata": {}
  },
  {
   "cell_type": "code",
   "execution_count": 4,
   "source": [
    "!sleep 10 ; kubectl get nodes"
   ],
   "outputs": [
    {
     "output_type": "stream",
     "name": "stdout",
     "text": [
      "NAME       STATUS   ROLES                  AGE   VERSION\n",
      "minikube   Ready    control-plane,master   20s   v1.22.1\n"
     ]
    }
   ],
   "metadata": {}
  },
  {
   "cell_type": "markdown",
   "source": [
    "## Start Cluster With Preloaded Cache"
   ],
   "metadata": {}
  },
  {
   "cell_type": "code",
   "execution_count": 5,
   "source": [
    "!minikube stop ; minikube delete"
   ],
   "outputs": [
    {
     "output_type": "stream",
     "name": "stdout",
     "text": [
      "✋  Stopping node \"minikube\"  ...\n",
      "🛑  Powering off \"minikube\" via SSH ...\n",
      "🛑  1 nodes stopped.\n",
      "🔥  Deleting \"minikube\" in docker ...\n",
      "🔥  Deleting container \"minikube\" ...\n",
      "🔥  Removing /Users/lothar/.minikube/machines/minikube ...\n",
      "💀  Removed all traces of the \"minikube\" cluster.\n"
     ]
    }
   ],
   "metadata": {}
  },
  {
   "cell_type": "code",
   "execution_count": 6,
   "source": [
    "!KUBERNETES_VERSION=1.22.1 minikube start --kubernetes-version=${KUBERNETES_VERSION}"
   ],
   "outputs": [
    {
     "output_type": "stream",
     "name": "stdout",
     "text": [
      "😄  minikube v1.23.0 on Darwin 11.5.2\n",
      "✨  Automatically selected the docker driver. Other choices: hyperkit, virtualbox, ssh, podman (experimental)\n",
      "👍  Starting control plane node minikube in cluster minikube\n",
      "🚜  Pulling base image ...\n",
      "🔥  Creating docker container (CPUs=2, Memory=1987MB) ...\u001b[K\u001b[K\u001b[K\u001b[K\u001b[K\u001b[K\u001b[K\u001b[K\u001b[K\u001b[K\u001b[K\u001b[K\u001b[K\u001b[K\u001b[K\u001b[K\u001b[K\u001b[K\u001b[K\u001b[K\u001b[K\u001b[K\u001b[K\u001b[K\u001b[K\u001b[K\u001b[K\u001b[K\u001b[K\u001b[K\u001b[K\u001b[K\u001b[K\u001b[K\u001b[K\u001b[K\u001b[K\u001b[K\u001b[K\u001b[K\u001b[K\u001b[K\u001b[K\u001b[K\u001b[K\u001b[K\u001b[K\u001b[K\u001b[K\u001b[K\u001b[K\u001b[K\u001b[K\u001b[K\u001b[K\u001b[K\u001b[K\u001b[K\u001b[K\u001b[K\u001b[K\u001b[K\u001b[K\u001b[K\u001b[K\u001b[K\u001b[K\u001b[K\u001b[K\u001b[K\u001b[K\u001b[K\u001b[K\u001b[K\u001b[K\u001b[K\u001b[K\u001b[K\u001b[K\u001b[K\u001b[K\u001b[K\u001b[K\u001b[K\u001b[K\u001b[K\u001b[K\u001b[K\u001b[K\u001b[K\u001b[K\u001b[K\u001b[K\u001b[K\u001b[K\u001b[K\u001b[K\u001b[K\u001b[K\u001b[K\u001b[K\u001b[K\u001b[K\u001b[K\u001b[K\u001b[K\u001b[K\u001b[K\u001b[K\u001b[K\u001b[K\u001b[K\u001b[K\u001b[K\u001b[K\u001b[K\u001b[K\u001b[K\u001b[K\u001b[K\u001b[K\u001b[K\u001b[K\u001b[K\u001b[K\u001b[K\u001b[K\u001b[K\u001b[K\u001b[K\u001b[K\u001b[K\u001b[K\u001b[K\u001b[K\u001b[K\u001b[K\u001b[K\u001b[K\u001b[K\u001b[K\u001b[K\u001b[K\u001b[K\u001b[K\u001b[K\u001b[K\u001b[K\u001b[K\u001b[K\u001b[K\u001b[K\u001b[K\u001b[K\u001b[K\u001b[K\u001b[K\u001b[K\u001b[K\u001b[K\u001b[K\u001b[K\u001b[K\u001b[K\u001b[K\u001b[K\u001b[K\u001b[K\u001b[K\u001b[K\u001b[K\u001b[K\u001b[K\u001b[K\u001b[K\u001b[K\u001b[K\u001b[K\u001b[K\u001b[K\u001b[K\u001b[K\u001b[K\u001b[K\u001b[K\u001b[K\u001b[K\u001b[K\u001b[K\u001b[K\u001b[K\u001b[K\u001b[K\u001b[K\u001b[K\u001b[K\u001b[K\u001b[K\u001b[K\u001b[K\u001b[K\u001b[K\u001b[K\u001b[K\u001b[K\u001b[K\u001b[K\u001b[K\u001b[K\u001b[K\u001b[K\u001b[K\u001b[K\u001b[K\u001b[K\u001b[K\u001b[K\u001b[K\u001b[K\u001b[K\u001b[K\u001b[K\u001b[K\u001b[K\u001b[K\u001b[K\u001b[K\u001b[K\u001b[K\u001b[K\u001b[K\u001b[K\u001b[K\u001b[K\u001b[K\u001b[K\u001b[K\u001b[K\u001b[K\u001b[K\u001b[K\u001b[K\u001b[K\u001b[K\u001b[K\u001b[K\u001b[K\u001b[K\u001b[K\u001b[K\u001b[K\u001b[K\u001b[K\u001b[K\u001b[K\u001b[K\u001b[K\u001b[K\u001b[K\u001b[K\u001b[K\u001b[K\u001b[K\u001b[K\u001b[K\u001b[K\u001b[K\u001b[K\u001b[K\u001b[K\u001b[K\u001b[K\u001b[K\u001b[K\u001b[K\u001b[K\u001b[K\u001b[K\u001b[K\u001b[K\u001b[K\u001b[K\u001b[K\u001b[K\u001b[K\u001b[K\u001b[K\u001b[K\u001b[K\u001b[K\u001b[K\u001b[K\u001b[K\u001b[K\u001b[K\u001b[K\u001b[K\u001b[K\u001b[K\u001b[K\u001b[K\u001b[K\u001b[K\u001b[K\u001b[K\u001b[K\u001b[K\u001b[K\n",
      "🐳  Preparing Kubernetes v1.22.1 on Docker 20.10.8 ...\u001b[K\u001b[K\u001b[K\u001b[K\u001b[K\u001b[K\u001b[K\u001b[K\u001b[K\u001b[K\u001b[K\u001b[K\u001b[K\u001b[K\u001b[K\u001b[K\u001b[K\u001b[K\u001b[K\u001b[K\u001b[K\u001b[K\u001b[K\u001b[K\u001b[K\u001b[K\u001b[K\u001b[K\u001b[K\u001b[K\u001b[K\u001b[K\u001b[K\u001b[K\u001b[K\u001b[K\u001b[K\u001b[K\u001b[K\u001b[K\u001b[K\u001b[K\u001b[K\u001b[K\u001b[K\u001b[K\u001b[K\u001b[K\n",
      "    ▪ Generating certificates and keys ...\u001b[K\u001b[K\u001b[K\u001b[K\u001b[K\u001b[K\u001b[K\u001b[K\u001b[K\u001b[K\u001b[K\u001b[K\u001b[K\u001b[K\u001b[K\u001b[K\u001b[K\u001b[K\u001b[K\u001b[K\u001b[K\u001b[K\u001b[K\u001b[K\u001b[K\u001b[K\u001b[K\u001b[K\u001b[K\u001b[K\u001b[K\u001b[K\u001b[K\u001b[K\u001b[K\u001b[K\u001b[K\u001b[K\u001b[K\u001b[K\u001b[K\u001b[K\u001b[K\u001b[K\u001b[K\u001b[K\u001b[K\u001b[K\u001b[K\u001b[K\u001b[K\u001b[K\u001b[K\u001b[K\u001b[K\u001b[K\u001b[K\u001b[K\u001b[K\u001b[K\u001b[K\u001b[K\u001b[K\u001b[K\u001b[K\u001b[K\u001b[K\u001b[K\u001b[K\u001b[K\u001b[K\u001b[K\n",
      "    ▪ Booting up control plane ...\u001b[K\u001b[K\u001b[K\u001b[K\u001b[K\u001b[K\u001b[K\u001b[K\u001b[K\u001b[K\u001b[K\u001b[K\u001b[K\u001b[K\u001b[K\u001b[K\u001b[K\u001b[K\u001b[K\u001b[K\u001b[K\u001b[K\u001b[K\u001b[K\u001b[K\u001b[K\u001b[K\u001b[K\u001b[K\u001b[K\u001b[K\u001b[K\u001b[K\u001b[K\u001b[K\u001b[K\u001b[K\u001b[K\u001b[K\u001b[K\u001b[K\u001b[K\u001b[K\u001b[K\u001b[K\u001b[K\u001b[K\u001b[K\u001b[K\u001b[K\u001b[K\u001b[K\u001b[K\u001b[K\u001b[K\u001b[K\u001b[K\u001b[K\u001b[K\u001b[K\u001b[K\u001b[K\u001b[K\u001b[K\u001b[K\u001b[K\u001b[K\u001b[K\u001b[K\u001b[K\u001b[K\u001b[K\u001b[K\u001b[K\u001b[K\u001b[K\u001b[K\u001b[K\u001b[K\u001b[K\u001b[K\u001b[K\u001b[K\u001b[K\u001b[K\u001b[K\u001b[K\u001b[K\u001b[K\u001b[K\u001b[K\u001b[K\u001b[K\u001b[K\u001b[K\u001b[K\u001b[K\u001b[K\u001b[K\u001b[K\u001b[K\u001b[K\u001b[K\u001b[K\u001b[K\u001b[K\u001b[K\u001b[K\u001b[K\u001b[K\u001b[K\u001b[K\u001b[K\u001b[K\u001b[K\u001b[K\u001b[K\u001b[K\u001b[K\u001b[K\u001b[K\u001b[K\u001b[K\u001b[K\u001b[K\u001b[K\u001b[K\u001b[K\u001b[K\u001b[K\u001b[K\u001b[K\u001b[K\u001b[K\u001b[K\u001b[K\u001b[K\u001b[K\u001b[K\u001b[K\u001b[K\u001b[K\u001b[K\u001b[K\u001b[K\u001b[K\u001b[K\u001b[K\u001b[K\u001b[K\u001b[K\u001b[K\u001b[K\u001b[K\u001b[K\u001b[K\u001b[K\u001b[K\u001b[K\u001b[K\u001b[K\u001b[K\u001b[K\u001b[K\u001b[K\u001b[K\u001b[K\u001b[K\u001b[K\u001b[K\u001b[K\u001b[K\u001b[K\u001b[K\u001b[K\u001b[K\u001b[K\u001b[K\u001b[K\u001b[K\u001b[K\u001b[K\u001b[K\u001b[K\u001b[K\u001b[K\u001b[K\u001b[K\u001b[K\u001b[K\u001b[K\u001b[K\u001b[K\u001b[K\u001b[K\u001b[K\u001b[K\u001b[K\u001b[K\u001b[K\u001b[K\u001b[K\u001b[K\u001b[K\u001b[K\u001b[K\u001b[K\u001b[K\u001b[K\u001b[K\u001b[K\u001b[K\u001b[K\u001b[K\u001b[K\u001b[K\u001b[K\u001b[K\u001b[K\u001b[K\u001b[K\u001b[K\u001b[K\u001b[K\u001b[K\u001b[K\u001b[K\u001b[K\u001b[K\u001b[K\u001b[K\u001b[K\u001b[K\u001b[K\u001b[K\u001b[K\u001b[K\u001b[K\u001b[K\u001b[K\u001b[K\u001b[K\u001b[K\u001b[K\u001b[K\u001b[K\u001b[K\u001b[K\u001b[K\u001b[K\u001b[K\u001b[K\u001b[K\u001b[K\u001b[K\u001b[K\u001b[K\u001b[K\u001b[K\u001b[K\u001b[K\u001b[K\u001b[K\u001b[K\u001b[K\u001b[K\u001b[K\u001b[K\n",
      "    ▪ Configuring RBAC rules ...\u001b[K\u001b[K\u001b[K\u001b[K\u001b[K\u001b[K\u001b[K\u001b[K\u001b[K\u001b[K\u001b[K\u001b[K\u001b[K\u001b[K\u001b[K\u001b[K\u001b[K\u001b[K\u001b[K\u001b[K\u001b[K\u001b[K\u001b[K\u001b[K\u001b[K\u001b[K\u001b[K\u001b[K\u001b[K\u001b[K\u001b[K\u001b[K\u001b[K\u001b[K\u001b[K\u001b[K\u001b[K\u001b[K\u001b[K\u001b[K\u001b[K\u001b[K\u001b[K\u001b[K\u001b[K\u001b[K\u001b[K\u001b[K\n",
      "🔎  Verifying Kubernetes components...\n",
      "    ▪ Using image gcr.io/k8s-minikube/storage-provisioner:v5\n",
      "🌟  Enabled addons: storage-provisioner, default-storageclass\n",
      "🏄  Done! kubectl is now configured to use \"minikube\" cluster and \"default\" namespace by default\n"
     ]
    }
   ],
   "metadata": {}
  },
  {
   "cell_type": "markdown",
   "source": [
    "Having deleted the cluster the startuo time for a new cluster with prefilled caches reduces to well under a minute."
   ],
   "metadata": {}
  },
  {
   "cell_type": "code",
   "execution_count": 7,
   "source": [
    "!sleep 10"
   ],
   "outputs": [],
   "metadata": {}
  },
  {
   "cell_type": "markdown",
   "source": [
    "## Creating First Namespace And Pod"
   ],
   "metadata": {}
  },
  {
   "cell_type": "code",
   "execution_count": 8,
   "source": [
    "%%bash\n",
    "\n",
    "cat <<EOF| kubectl apply -f -\n",
    "kind: Namespace\n",
    "apiVersion: v1\n",
    "metadata:\n",
    "  name: demo\n",
    "  labels:\n",
    "    name: demo\n",
    "---\n",
    "kind: Pod\n",
    "apiVersion: v1\n",
    "metadata:\n",
    "  name: demo-pod\n",
    "  namespace: demo\n",
    "spec:\n",
    "  containers:\n",
    "  - name: demo-ctr\n",
    "    image: nginx:stable-alpine\n",
    "    resources:\n",
    "      limits:\n",
    "        memory: \"200Mi\"\n",
    "        cpu: \"700m\"\n",
    "      requests:\n",
    "        memory: \"200Mi\"\n",
    "        cpu: \"700m\"\n",
    "EOF"
   ],
   "outputs": [
    {
     "output_type": "stream",
     "name": "stdout",
     "text": [
      "namespace/demo created\n",
      "pod/demo-pod created\n"
     ]
    }
   ],
   "metadata": {}
  },
  {
   "cell_type": "markdown",
   "source": [
    "A namespace demo with a pod demo-pod in it according to above yaml."
   ],
   "metadata": {}
  },
  {
   "cell_type": "code",
   "execution_count": 9,
   "source": [
    "%%bash\n",
    "\n",
    "cat <<EOF| kubectl apply -f -\n",
    "kind: Namespace\n",
    "apiVersion: v1\n",
    "metadata:\n",
    "  name: demo\n",
    "  labels:\n",
    "    name: demo\n",
    "---\n",
    "kind: Pod\n",
    "apiVersion: v1\n",
    "metadata:\n",
    "  name: demo-pod\n",
    "  namespace: demo\n",
    "spec:\n",
    "  containers:\n",
    "  - name: demo-ctr\n",
    "    image: nginx:stable-alpine\n",
    "    resources:\n",
    "      limits:\n",
    "        memory: \"200Mi\"\n",
    "        cpu: \"700m\"\n",
    "      requests:\n",
    "        memory: \"200Mi\"\n",
    "        cpu: \"700m\"\n",
    "EOF"
   ],
   "outputs": [
    {
     "output_type": "stream",
     "name": "stdout",
     "text": [
      "namespace/demo unchanged\n",
      "pod/demo-pod unchanged\n"
     ]
    }
   ],
   "metadata": {}
  },
  {
   "cell_type": "markdown",
   "source": [
    "As nemspace *demo* and the pod *demo-pod* in it have already been created by executing the exact same command before, *kubectl apply* remains idempotent."
   ],
   "metadata": {}
  },
  {
   "cell_type": "code",
   "execution_count": 10,
   "source": [
    "!kubectl get pods --namespace demo"
   ],
   "outputs": [
    {
     "output_type": "stream",
     "name": "stdout",
     "text": [
      "NAME       READY   STATUS              RESTARTS   AGE\n",
      "demo-pod   0/1     ContainerCreating   0          0s\n"
     ]
    }
   ],
   "metadata": {}
  },
  {
   "cell_type": "markdown",
   "source": [
    "The newly created and started pod *demo-pod* is just one pod among others constituting the base kubernetes cluster. Those containers are isolated in the *kube-system* namespace."
   ],
   "metadata": {}
  },
  {
   "cell_type": "code",
   "execution_count": 11,
   "source": [
    "!kubectl get namespaces"
   ],
   "outputs": [
    {
     "output_type": "stream",
     "name": "stdout",
     "text": [
      "NAME              STATUS   AGE\n",
      "default           Active   17s\n",
      "demo              Active   1s\n",
      "kube-node-lease   Active   20s\n",
      "kube-public       Active   20s\n",
      "kube-system       Active   20s\n"
     ]
    }
   ],
   "metadata": {}
  },
  {
   "cell_type": "code",
   "execution_count": 12,
   "source": [
    "!kubectl get pods --namespace kube-system"
   ],
   "outputs": [
    {
     "output_type": "stream",
     "name": "stdout",
     "text": [
      "NAME                               READY   STATUS              RESTARTS   AGE\n",
      "coredns-78fcd69978-wjgrf           0/1     ContainerCreating   0          2s\n",
      "etcd-minikube                      1/1     Running             0          13s\n",
      "kube-apiserver-minikube            1/1     Running             0          18s\n",
      "kube-controller-manager-minikube   1/1     Running             0          18s\n",
      "kube-proxy-kcbwc                   1/1     Running             0          2s\n",
      "kube-scheduler-minikube            1/1     Running             0          17s\n",
      "storage-provisioner                1/1     Running             0          12s\n"
     ]
    }
   ],
   "metadata": {}
  },
  {
   "cell_type": "code",
   "execution_count": 13,
   "source": [
    "%%bash\n",
    "\n",
    "echo \"systemd-cgls --no-pager ; exit\" | minikube ssh"
   ],
   "outputs": [
    {
     "output_type": "stream",
     "name": "stdout",
     "text": [
      "systemd-cgls --no-pager ; exit\n",
      "\u001b]0;docker@minikube: ~\u0007docker@minikube:~$ systemd-cgls --no-pager ; exit\n",
      "Control group /docker/b656577b3185794fb56b6d931c9bec7b99afad6399467b2f88b0af1fbf2b158a:\n",
      "-.slice\n",
      "├─init.scope \n",
      "│ └─\u001b[0;38;5;245m1 /sbin/init\u001b[0m\n",
      "└─system.slice \n",
      "  ├─containerd.service \n",
      "  │ ├─\u001b[0;38;5;245m 200 /usr/bin/containerd\u001b[0m\n",
      "  │ ├─\u001b[0;38;5;245m1602 /usr/bin/containerd-shim-runc-v2 -namespace moby -id 9d95898cb83042c…\u001b[0m\n",
      "  │ ├─\u001b[0;38;5;245m1603 /usr/bin/containerd-shim-runc-v2 -namespace moby -id 69f972944518e3b…\u001b[0m\n",
      "  │ ├─\u001b[0;38;5;245m1625 /usr/bin/containerd-shim-runc-v2 -namespace moby -id b2e90906de38417…\u001b[0m\n",
      "  │ ├─\u001b[0;38;5;245m1663 /pause\u001b[0m\n",
      "  │ ├─\u001b[0;38;5;245m1671 /pause\u001b[0m\n",
      "  │ ├─\u001b[0;38;5;245m1681 /pause\u001b[0m\n",
      "  │ ├─\u001b[0;38;5;245m1701 /usr/bin/containerd-shim-runc-v2 -namespace moby -id a5dd1bdf5a503a5…\u001b[0m\n",
      "  │ ├─\u001b[0;38;5;245m1741 /pause\u001b[0m\n",
      "  │ ├─\u001b[0;38;5;245m1786 /usr/bin/containerd-shim-runc-v2 -namespace moby -id b932b548a4ca4c4…\u001b[0m\n",
      "  │ ├─\u001b[0;38;5;245m1812 /usr/bin/containerd-shim-runc-v2 -namespace moby -id aabddff2aca4184…\u001b[0m\n",
      "  │ ├─\u001b[0;38;5;245m1831 /usr/bin/containerd-shim-runc-v2 -namespace moby -id e901992a1a8e5b6…\u001b[0m\n",
      "  │ ├─\u001b[0;38;5;245m1874 /usr/bin/containerd-shim-runc-v2 -namespace moby -id af73ecaf6a156e8…\u001b[0m\n",
      "  │ ├─\u001b[0;38;5;245m1885 etcd --advertise-client-urls=https://192.168.49.2:2379 --cert-file=/…\u001b[0m\n",
      "  │ ├─\u001b[0;38;5;245m1888 kube-apiserver --advertise-address=192.168.49.2 --allow-privileged=t…\u001b[0m\n",
      "  │ ├─\u001b[0;38;5;245m1930 kube-controller-manager --allocate-node-cidrs=true --authentication-…\u001b[0m\n",
      "  │ ├─\u001b[0;38;5;245m1957 kube-scheduler --authentication-kubeconfig=/etc/kubernetes/scheduler…\u001b[0m\n",
      "  │ ├─\u001b[0;38;5;245m2778 /usr/bin/containerd-shim-runc-v2 -namespace moby -id fe9e4ba52b62d5e…\u001b[0m\n",
      "  │ ├─\u001b[0;38;5;245m2798 /usr/bin/containerd-shim-runc-v2 -namespace moby -id 9bea84f546369a1…\u001b[0m\n",
      "  │ ├─\u001b[0;38;5;245m2829 /pause\u001b[0m\n",
      "  │ ├─\u001b[0;38;5;245m2830 /pause\u001b[0m\n",
      "  │ ├─\u001b[0;38;5;245m2876 /usr/bin/containerd-shim-runc-v2 -namespace moby -id cccfdcac443a418…\u001b[0m\n",
      "  │ ├─\u001b[0;38;5;245m2897 /pause\u001b[0m\n",
      "  │ ├─\u001b[0;38;5;245m2912 /usr/bin/containerd-shim-runc-v2 -namespace moby -id 3721ab803335713…\u001b[0m\n",
      "  │ ├─\u001b[0;38;5;245m2931 /usr/bin/containerd-shim-runc-v2 -namespace moby -id 381b126a8149820…\u001b[0m\n",
      "  │ ├─\u001b[0;38;5;245m2964 /usr/local/bin/kube-proxy --config=/var/lib/kube-proxy/config.conf -…\u001b[0m\n",
      "  │ ├─\u001b[0;38;5;245m2965 /storage-provisioner\u001b[0m\n",
      "  │ ├─\u001b[0;38;5;245m3047 /usr/bin/containerd-shim-runc-v2 -namespace moby -id 399d06382bf9f06…\u001b[0m\n",
      "  │ ├─\u001b[0;38;5;245m3066 /usr/bin/containerd-shim-runc-v2 -namespace moby -id 92dbb4e62babfb1…\u001b[0m\n",
      "  │ ├─\u001b[0;38;5;245m3095 /pause\u001b[0m\n",
      "  │ ├─\u001b[0;38;5;245m3097 /coredns -conf /etc/coredns/Corefile\u001b[0m\n",
      "  │ ├─\u001b[0;38;5;245m3223 iptables-restore -w 5 -W 100000 --noflush --counters\u001b[0m\n",
      "  │ └─\u001b[0;38;5;245m3246 n/a\u001b[0m\n",
      "  ├─docker.service \n",
      "  │ └─\u001b[0;38;5;245m472 /usr/bin/dockerd -H tcp://0.0.0.0:2376 -H unix:///var/run/docker.sock…\u001b[0m\n",
      "  ├─kubelet.service \n",
      "  │ └─\u001b[0;38;5;245m2344 /var/lib/minikube/binaries/v1.22.1/kubelet --bootstrap-kubeconfig=/e…\u001b[0m\n",
      "  ├─systemd-journald.service \n",
      "  │ └─\u001b[0;38;5;245m185 /lib/systemd/systemd-journald\u001b[0m\n",
      "  ├─ssh.service \n",
      "  │ ├─\u001b[0;38;5;245m 210 sshd: /usr/sbin/sshd -D [listener] 0 of 10-100 startups\u001b[0m\n",
      "  │ ├─\u001b[0;38;5;245m3229 sshd: docker [priv]\u001b[0m\n",
      "  │ ├─\u001b[0;38;5;245m3234 sshd: docker@pts/1\u001b[0m\n",
      "  │ ├─\u001b[0;38;5;245m3242 -bash\u001b[0m\n",
      "  │ └─\u001b[0;38;5;245m3247 systemd-cgls --no-pager\u001b[0m\n",
      "  └─dbus.service \n",
      "    └─\u001b[0;38;5;245m197 /usr/bin/dbus-daemon --system --address=systemd: --nofork --nopidfile…\u001b[0m\n",
      "logout\n",
      "\u001b[3J\u001b[H\u001b[2J"
     ]
    }
   ],
   "metadata": {}
  },
  {
   "cell_type": "code",
   "execution_count": 14,
   "source": [
    "!rm -rf alpine"
   ],
   "outputs": [],
   "metadata": {}
  },
  {
   "cell_type": "code",
   "execution_count": 15,
   "source": [
    "!skopeo --override-os linux copy docker://alpine:3.14.2 oci:alpine:3.14.2"
   ],
   "outputs": [
    {
     "output_type": "stream",
     "name": "stdout",
     "text": [
      "Getting image source signatures\n",
      "Copying blob a0d0a0d46f8b [======>---------------------------] 574.4KiB / 2.7MiB\n",
      "\u001b[1A\u001b[JCopying blob a0d0a0d46f8b [=============>----------------------] 1.1MiB / 2.7MiB\n",
      "\u001b[1A\u001b[JCopying blob a0d0a0d46f8b [=====================>--------------] 1.7MiB / 2.7MiB\n",
      "\u001b[1A\u001b[JCopying blob a0d0a0d46f8b [=============================>------] 2.2MiB / 2.7MiB\n",
      "\u001b[1A\u001b[JCopying blob a0d0a0d46f8b [==================================>-] 2.6MiB / 2.7MiB\n",
      "\u001b[1A\u001b[JCopying blob a0d0a0d46f8b [====================================] 2.7MiB / 2.7MiB\n",
      "\u001b[1A\u001b[JCopying blob a0d0a0d46f8b done  \n",
      "\u001b[1A\u001b[JCopying blob a0d0a0d46f8b done  \n",
      "Copying config 696d33ca15 [====================================] 585.0b / 585.0b\n",
      "\u001b[1A\u001b[JCopying config 696d33ca15 done  \n",
      "\u001b[1A\u001b[JCopying config 696d33ca15 done  \n",
      "\u001b[1A\u001b[JCopying config 696d33ca15 done  \n",
      "Writing manifest to image destination\n",
      "Storing signatures\n"
     ]
    }
   ],
   "metadata": {}
  },
  {
   "cell_type": "code",
   "execution_count": 16,
   "source": [
    "!tree alpine"
   ],
   "outputs": [
    {
     "output_type": "stream",
     "name": "stdout",
     "text": [
      "\u001b[01;34malpine\u001b[00m\n",
      "├── \u001b[01;34mblobs\u001b[00m\n",
      "│   └── \u001b[01;34msha256\u001b[00m\n",
      "│       ├── 03014f0323753134bf6399ffbe26dcd75e89c6a7429adfab392d64706649f07b\n",
      "│       ├── 696d33ca1510966c426bdcc0daf05f75990d68c4eb820f615edccf7b971935e7\n",
      "│       └── a0d0a0d46f8b52473982a3c466318f479767577551a53ffc9074c9fa7035982e\n",
      "├── index.json\n",
      "└── oci-layout\n",
      "\n",
      "2 directories, 5 files\n"
     ]
    }
   ],
   "metadata": {}
  },
  {
   "cell_type": "code",
   "execution_count": 17,
   "source": [
    "!file alpine/blobs/sha256/*"
   ],
   "outputs": [
    {
     "output_type": "stream",
     "name": "stdout",
     "text": [
      "alpine/blobs/sha256/03014f0323753134bf6399ffbe26dcd75e89c6a7429adfab392d64706649f07b: JSON data\n",
      "alpine/blobs/sha256/696d33ca1510966c426bdcc0daf05f75990d68c4eb820f615edccf7b971935e7: JSON data\n",
      "alpine/blobs/sha256/a0d0a0d46f8b52473982a3c466318f479767577551a53ffc9074c9fa7035982e: gzip compressed data, original size modulo 2^32 5865472\n"
     ]
    }
   ],
   "metadata": {}
  },
  {
   "cell_type": "code",
   "execution_count": 18,
   "source": [
    "!cat alpine/blobs/sha256/03014f0323753134bf6399ffbe26dcd75e89c6a7429adfab392d64706649f07b | jq"
   ],
   "outputs": [
    {
     "output_type": "stream",
     "name": "stdout",
     "text": [
      "\u001b[1;39m{\n",
      "  \u001b[0m\u001b[34;1m\"schemaVersion\"\u001b[0m\u001b[1;39m: \u001b[0m\u001b[0;39m2\u001b[0m\u001b[1;39m,\n",
      "  \u001b[0m\u001b[34;1m\"config\"\u001b[0m\u001b[1;39m: \u001b[0m\u001b[1;39m{\n",
      "    \u001b[0m\u001b[34;1m\"mediaType\"\u001b[0m\u001b[1;39m: \u001b[0m\u001b[0;32m\"application/vnd.oci.image.config.v1+json\"\u001b[0m\u001b[1;39m,\n",
      "    \u001b[0m\u001b[34;1m\"digest\"\u001b[0m\u001b[1;39m: \u001b[0m\u001b[0;32m\"sha256:696d33ca1510966c426bdcc0daf05f75990d68c4eb820f615edccf7b971935e7\"\u001b[0m\u001b[1;39m,\n",
      "    \u001b[0m\u001b[34;1m\"size\"\u001b[0m\u001b[1;39m: \u001b[0m\u001b[0;39m585\u001b[0m\u001b[1;39m\n",
      "  \u001b[1;39m}\u001b[0m\u001b[1;39m,\n",
      "  \u001b[0m\u001b[34;1m\"layers\"\u001b[0m\u001b[1;39m: \u001b[0m\u001b[1;39m[\n",
      "    \u001b[1;39m{\n",
      "      \u001b[0m\u001b[34;1m\"mediaType\"\u001b[0m\u001b[1;39m: \u001b[0m\u001b[0;32m\"application/vnd.oci.image.layer.v1.tar+gzip\"\u001b[0m\u001b[1;39m,\n",
      "      \u001b[0m\u001b[34;1m\"digest\"\u001b[0m\u001b[1;39m: \u001b[0m\u001b[0;32m\"sha256:a0d0a0d46f8b52473982a3c466318f479767577551a53ffc9074c9fa7035982e\"\u001b[0m\u001b[1;39m,\n",
      "      \u001b[0m\u001b[34;1m\"size\"\u001b[0m\u001b[1;39m: \u001b[0m\u001b[0;39m2814446\u001b[0m\u001b[1;39m\n",
      "    \u001b[1;39m}\u001b[0m\u001b[1;39m\n",
      "  \u001b[1;39m]\u001b[0m\u001b[1;39m\n",
      "\u001b[1;39m}\u001b[0m\n"
     ]
    }
   ],
   "metadata": {}
  },
  {
   "cell_type": "code",
   "execution_count": 19,
   "source": [
    "!cat alpine/blobs/sha256/696d33ca1510966c426bdcc0daf05f75990d68c4eb820f615edccf7b971935e7 | jq"
   ],
   "outputs": [
    {
     "output_type": "stream",
     "name": "stdout",
     "text": [
      "\u001b[1;39m{\n",
      "  \u001b[0m\u001b[34;1m\"created\"\u001b[0m\u001b[1;39m: \u001b[0m\u001b[0;32m\"2021-08-27T17:19:45.758611523Z\"\u001b[0m\u001b[1;39m,\n",
      "  \u001b[0m\u001b[34;1m\"architecture\"\u001b[0m\u001b[1;39m: \u001b[0m\u001b[0;32m\"amd64\"\u001b[0m\u001b[1;39m,\n",
      "  \u001b[0m\u001b[34;1m\"os\"\u001b[0m\u001b[1;39m: \u001b[0m\u001b[0;32m\"linux\"\u001b[0m\u001b[1;39m,\n",
      "  \u001b[0m\u001b[34;1m\"config\"\u001b[0m\u001b[1;39m: \u001b[0m\u001b[1;39m{\n",
      "    \u001b[0m\u001b[34;1m\"Env\"\u001b[0m\u001b[1;39m: \u001b[0m\u001b[1;39m[\n",
      "      \u001b[0;32m\"PATH=/usr/local/sbin:/usr/local/bin:/usr/sbin:/usr/bin:/sbin:/bin\"\u001b[0m\u001b[1;39m\n",
      "    \u001b[1;39m]\u001b[0m\u001b[1;39m,\n",
      "    \u001b[0m\u001b[34;1m\"Cmd\"\u001b[0m\u001b[1;39m: \u001b[0m\u001b[1;39m[\n",
      "      \u001b[0;32m\"/bin/sh\"\u001b[0m\u001b[1;39m\n",
      "    \u001b[1;39m]\u001b[0m\u001b[1;39m\n",
      "  \u001b[1;39m}\u001b[0m\u001b[1;39m,\n",
      "  \u001b[0m\u001b[34;1m\"rootfs\"\u001b[0m\u001b[1;39m: \u001b[0m\u001b[1;39m{\n",
      "    \u001b[0m\u001b[34;1m\"type\"\u001b[0m\u001b[1;39m: \u001b[0m\u001b[0;32m\"layers\"\u001b[0m\u001b[1;39m,\n",
      "    \u001b[0m\u001b[34;1m\"diff_ids\"\u001b[0m\u001b[1;39m: \u001b[0m\u001b[1;39m[\n",
      "      \u001b[0;32m\"sha256:e2eb06d8af8218cfec8210147357a68b7e13f7c485b991c288c2d01dc228bb68\"\u001b[0m\u001b[1;39m\n",
      "    \u001b[1;39m]\u001b[0m\u001b[1;39m\n",
      "  \u001b[1;39m}\u001b[0m\u001b[1;39m,\n",
      "  \u001b[0m\u001b[34;1m\"history\"\u001b[0m\u001b[1;39m: \u001b[0m\u001b[1;39m[\n",
      "    \u001b[1;39m{\n",
      "      \u001b[0m\u001b[34;1m\"created\"\u001b[0m\u001b[1;39m: \u001b[0m\u001b[0;32m\"2021-08-27T17:19:45.553092363Z\"\u001b[0m\u001b[1;39m,\n",
      "      \u001b[0m\u001b[34;1m\"created_by\"\u001b[0m\u001b[1;39m: \u001b[0m\u001b[0;32m\"/bin/sh -c #(nop) ADD file:aad4290d27580cc1a094ffaf98c3ca2fc5d699fe695dfb8e6e9fac20f1129450 in / \"\u001b[0m\u001b[1;39m\n",
      "    \u001b[1;39m}\u001b[0m\u001b[1;39m,\n",
      "    \u001b[1;39m{\n",
      "      \u001b[0m\u001b[34;1m\"created\"\u001b[0m\u001b[1;39m: \u001b[0m\u001b[0;32m\"2021-08-27T17:19:45.758611523Z\"\u001b[0m\u001b[1;39m,\n",
      "      \u001b[0m\u001b[34;1m\"created_by\"\u001b[0m\u001b[1;39m: \u001b[0m\u001b[0;32m\"/bin/sh -c #(nop)  CMD [\\\"/bin/sh\\\"]\"\u001b[0m\u001b[1;39m,\n",
      "      \u001b[0m\u001b[34;1m\"empty_layer\"\u001b[0m\u001b[1;39m: \u001b[0m\u001b[0;39mtrue\u001b[0m\u001b[1;39m\n",
      "    \u001b[1;39m}\u001b[0m\u001b[1;39m\n",
      "  \u001b[1;39m]\u001b[0m\u001b[1;39m\n",
      "\u001b[1;39m}\u001b[0m\n"
     ]
    }
   ],
   "metadata": {}
  },
  {
   "cell_type": "code",
   "execution_count": 20,
   "source": [
    "!rustup self uninstall -y"
   ],
   "outputs": [
    {
     "output_type": "stream",
     "name": "stdout",
     "text": [
      "\u001b[1minfo: \u001b[mremoving rustup home\n",
      "\u001b[1minfo: \u001b[mremoving cargo home\n",
      "\u001b[1minfo: \u001b[mremoving rustup binaries\n",
      "\u001b[1minfo: \u001b[mrustup is uninstalled\n"
     ]
    }
   ],
   "metadata": {}
  },
  {
   "cell_type": "code",
   "execution_count": 21,
   "source": [
    "!rm -rf helloworld"
   ],
   "outputs": [],
   "metadata": {}
  },
  {
   "cell_type": "code",
   "execution_count": 22,
   "source": [
    "!curl --proto '=https' --tlsv1.2 -sSf https://sh.rustup.rs | sh -s -- -y"
   ],
   "outputs": [
    {
     "output_type": "stream",
     "name": "stdout",
     "text": [
      "\u001b[1minfo:\u001b[0m downloading installer\n",
      "\u001b[1minfo: \u001b[mprofile set to 'default'\n",
      "\u001b[1minfo: \u001b[mdefault host triple is x86_64-apple-darwin\n",
      "\u001b[1minfo: \u001b[msyncing channel updates for 'stable-x86_64-apple-darwin'\n",
      "\u001b[1minfo: \u001b[mlatest update on 2021-09-09, rust version 1.55.0 (c8dfcfe04 2021-09-06)\n",
      "\u001b[1minfo: \u001b[mdownloading component 'cargo'\n",
      "\u001b[1minfo: \u001b[mdownloading component 'clippy'\n",
      "\u001b[1minfo: \u001b[mdownloading component 'rust-docs'\n",
      " 17.1 MiB /  17.1 MiB (100 %)   6.4 MiB/s in  2s ETA:  0s\n",
      "\u001b[1minfo: \u001b[mdownloading component 'rust-std'\n",
      " 21.0 MiB /  21.0 MiB (100 %)   6.2 MiB/s in  3s ETA:  0s\n",
      "\u001b[1minfo: \u001b[mdownloading component 'rustc'\n",
      " 75.9 MiB /  75.9 MiB (100 %)   6.2 MiB/s in 12s ETA:  0s\n",
      "\u001b[1minfo: \u001b[mdownloading component 'rustfmt'\n",
      "\u001b[1minfo: \u001b[minstalling component 'cargo'\n",
      "\u001b[1minfo: \u001b[minstalling component 'clippy'\n",
      "\u001b[1minfo: \u001b[minstalling component 'rust-docs'\n",
      " 17.1 MiB /  17.1 MiB (100 %)   4.6 MiB/s in  2s ETA:  0s\n",
      "\u001b[1minfo: \u001b[minstalling component 'rust-std'\n",
      " 21.0 MiB /  21.0 MiB (100 %)   9.7 MiB/s in  2s ETA:  0s\n",
      "\u001b[1minfo: \u001b[minstalling component 'rustc'\n",
      " 75.9 MiB /  75.9 MiB (100 %)   9.6 MiB/s in  7s ETA:  0s\n",
      "\u001b[1minfo: \u001b[minstalling component 'rustfmt'\n",
      "\u001b[1minfo: \u001b[mdefault toolchain set to 'stable-x86_64-apple-darwin'\n",
      "\n",
      "  \u001b[1m\u001b[32mstable-x86_64-apple-darwin installed\u001b[m - rustc 1.55.0 (c8dfcfe04 2021-09-06)\n",
      "\n",
      "\u001b[1m\n",
      "Rust is installed now. Great!\n",
      "\u001b[m\n",
      "To get started you may need to restart your current shell.\n",
      "This would reload your \u001b[1mPATH\u001b[m environment variable to include\n",
      "Cargo's bin directory ($HOME/.cargo/bin).\n",
      "\n",
      "To configure your current shell, run:\n",
      "source $HOME/.cargo/env\n"
     ]
    }
   ],
   "metadata": {}
  },
  {
   "cell_type": "code",
   "execution_count": 23,
   "source": [
    "!rustup default stable"
   ],
   "outputs": [
    {
     "output_type": "stream",
     "name": "stdout",
     "text": [
      "\u001b[1minfo: \u001b[musing existing install for 'stable-x86_64-apple-darwin'\n",
      "\u001b[1minfo: \u001b[mdefault toolchain set to 'stable-x86_64-apple-darwin'\n",
      "\n",
      "  \u001b[1mstable-x86_64-apple-darwin unchanged\u001b[m - rustc 1.55.0 (c8dfcfe04 2021-09-06)\n",
      "\n"
     ]
    }
   ],
   "metadata": {}
  },
  {
   "cell_type": "code",
   "execution_count": 24,
   "source": [
    "!rustup update"
   ],
   "outputs": [
    {
     "output_type": "stream",
     "name": "stdout",
     "text": [
      "\u001b[1minfo: \u001b[msyncing channel updates for 'stable-x86_64-apple-darwin'\n",
      "\u001b[1minfo: \u001b[mchecking for self-updates\n",
      "\n",
      "  \u001b[1mstable-x86_64-apple-darwin unchanged\u001b[m - rustc 1.55.0 (c8dfcfe04 2021-09-06)\n",
      "\n",
      "\u001b[1minfo: \u001b[mcleaning up downloads & tmp directories\n"
     ]
    }
   ],
   "metadata": {}
  },
  {
   "cell_type": "code",
   "execution_count": 25,
   "source": [
    "!cargo new helloworld"
   ],
   "outputs": [
    {
     "output_type": "stream",
     "name": "stdout",
     "text": [
      "\u001b[0m\u001b[0m\u001b[1m\u001b[32m     Created\u001b[0m binary (application) `helloworld` package\n"
     ]
    }
   ],
   "metadata": {}
  },
  {
   "cell_type": "code",
   "execution_count": 26,
   "source": [
    "%%bash\n",
    "\n",
    "cd helloworld\n",
    "\n",
    "cat >Dockerfile <<EOF\n",
    "FROM docker.io/library/rust:1.55.0\n",
    "\n",
    "WORKDIR /usr/src/helloworld\n",
    "\n",
    "COPY . .\n",
    "\n",
    "RUN cargo build --release\n",
    "\n",
    "RUN cargo install --path .\n",
    "\n",
    "CMD [\"/usr/local/cargo/bin/helloworld\"]\n",
    "EOF"
   ],
   "outputs": [],
   "metadata": {}
  },
  {
   "cell_type": "code",
   "execution_count": 27,
   "source": [
    "%%bash\n",
    "\n",
    "cd helloworld\n",
    "\n",
    "cat >Dockerfile.slim <<EOF\n",
    "FROM docker.io/library/rust:1.55.0-alpine3.14\n",
    "\n",
    "WORKDIR /usr/src/helloworld\n",
    "\n",
    "COPY . .\n",
    "\n",
    "RUN cargo build --release\n",
    "\n",
    "RUN cargo install --path .\n",
    "\n",
    "CMD [\"/usr/local/cargo/bin/helloworld\"]\n",
    "EOF"
   ],
   "outputs": [],
   "metadata": {}
  },
  {
   "cell_type": "code",
   "execution_count": 28,
   "source": [
    "%%bash\n",
    "\n",
    "cd helloworld\n",
    "\n",
    "cat >Dockerfile.slim-staged <<EOF\n",
    "FROM docker.io/library/rust:1.55.0-alpine3.14\n",
    "\n",
    "WORKDIR /usr/src/helloworld\n",
    "\n",
    "COPY . .\n",
    "\n",
    "RUN cargo build --release\n",
    "\n",
    "RUN cargo install --path .\n",
    "\n",
    "CMD [\"/usr/local/cargo/bin/helloworld\"]\n",
    "EOF"
   ],
   "outputs": [],
   "metadata": {}
  },
  {
   "cell_type": "code",
   "execution_count": 29,
   "source": [
    "!podman info"
   ],
   "outputs": [
    {
     "output_type": "stream",
     "name": "stdout",
     "text": [
      "host:\n",
      "  arch: amd64\n",
      "  buildahVersion: 1.22.3\n",
      "  cgroupControllers: []\n",
      "  cgroupManager: systemd\n",
      "  cgroupVersion: v2\n",
      "  conmon:\n",
      "    package: conmon-2.0.29-2.fc34.x86_64\n",
      "    path: /usr/bin/conmon\n",
      "    version: 'conmon version 2.0.29, commit: '\n",
      "  cpus: 1\n",
      "  distribution:\n",
      "    distribution: fedora\n",
      "    version: \"34\"\n",
      "  eventLogger: journald\n",
      "  hostname: localhost\n",
      "  idMappings:\n",
      "    gidmap:\n",
      "    - container_id: 0\n",
      "      host_id: 1000\n",
      "      size: 1\n",
      "    - container_id: 1\n",
      "      host_id: 100000\n",
      "      size: 65536\n",
      "    uidmap:\n",
      "    - container_id: 0\n",
      "      host_id: 1000\n",
      "      size: 1\n",
      "    - container_id: 1\n",
      "      host_id: 100000\n",
      "      size: 65536\n",
      "  kernel: 5.13.13-200.fc34.x86_64\n",
      "  linkmode: dynamic\n",
      "  memFree: 1698824192\n",
      "  memTotal: 2061852672\n",
      "  ociRuntime:\n",
      "    name: crun\n",
      "    package: crun-1.0-1.fc34.x86_64\n",
      "    path: /usr/bin/crun\n",
      "    version: |-\n",
      "      crun version 1.0\n",
      "      commit: 139dc6971e2f1d931af520188763e984d6cdfbf8\n",
      "      spec: 1.0.0\n",
      "      +SYSTEMD +SELINUX +APPARMOR +CAP +SECCOMP +EBPF +CRIU +YAJL\n",
      "  os: linux\n",
      "  remoteSocket:\n",
      "    exists: true\n",
      "    path: /run/user/1000/podman/podman.sock\n",
      "  security:\n",
      "    apparmorEnabled: false\n",
      "    capabilities: CAP_CHOWN,CAP_DAC_OVERRIDE,CAP_FOWNER,CAP_FSETID,CAP_KILL,CAP_NET_BIND_SERVICE,CAP_SETFCAP,CAP_SETGID,CAP_SETPCAP,CAP_SETUID,CAP_SYS_CHROOT\n",
      "    rootless: true\n",
      "    seccompEnabled: true\n",
      "    seccompProfilePath: /usr/share/containers/seccomp.json\n",
      "    selinuxEnabled: true\n",
      "  serviceIsRemote: true\n",
      "  slirp4netns:\n",
      "    executable: /usr/bin/slirp4netns\n",
      "    package: slirp4netns-1.1.12-2.fc34.x86_64\n",
      "    version: |-\n",
      "      slirp4netns version 1.1.12\n",
      "      commit: 7a104a101aa3278a2152351a082a6df71f57c9a3\n",
      "      libslirp: 4.4.0\n",
      "      SLIRP_CONFIG_VERSION_MAX: 3\n",
      "      libseccomp: 2.5.0\n",
      "  swapFree: 0\n",
      "  swapTotal: 0\n",
      "  uptime: 17h 6m 53.41s (Approximately 0.71 days)\n",
      "registries:\n",
      "  search:\n",
      "  - registry.fedoraproject.org\n",
      "  - registry.access.redhat.com\n",
      "  - docker.io\n",
      "  - quay.io\n",
      "store:\n",
      "  configFile: /var/home/core/.config/containers/storage.conf\n",
      "  containerStore:\n",
      "    number: 0\n",
      "    paused: 0\n",
      "    running: 0\n",
      "    stopped: 0\n",
      "  graphDriverName: overlay\n",
      "  graphOptions: {}\n",
      "  graphRoot: /var/home/core/.local/share/containers/storage\n",
      "  graphStatus:\n",
      "    Backing Filesystem: xfs\n",
      "    Native Overlay Diff: \"true\"\n",
      "    Supports d_type: \"true\"\n",
      "    Using metacopy: \"false\"\n",
      "  imageStore:\n",
      "    number: 0\n",
      "  runRoot: /run/user/1000/containers\n",
      "  volumePath: /var/home/core/.local/share/containers/storage/volumes\n",
      "version:\n",
      "  APIVersion: 3.3.1\n",
      "  Built: 1630356396\n",
      "  BuiltTime: Mon Aug 30 20:46:36 2021\n",
      "  GitCommit: \"\"\n",
      "  GoVersion: go1.16.6\n",
      "  OsArch: linux/amd64\n",
      "  Version: 3.3.1\n",
      "\n"
     ]
    }
   ],
   "metadata": {}
  },
  {
   "cell_type": "code",
   "execution_count": 30,
   "source": [
    "!cd helloworld ; podman build --tag helloworld:v0.1.0 --file Dockerfile ."
   ],
   "outputs": [
    {
     "output_type": "stream",
     "name": "stdout",
     "text": [
      "STEP 1/6: FROM docker.io/library/rust:1.55.0\n",
      "Trying to pull docker.io/library/rust:1.55.0...\n",
      "Getting image source signatures\n",
      "Copying blob sha256:74ca45178655a5c9b4a372bb131e0e6a563074c81321f9178fd06bc9847f6559\n",
      "Copying blob sha256:955615a668ce169f8a1443fc6b6e6215f43fe0babfb4790712a2d3171f34d366\n",
      "Copying blob sha256:2756ef5f69a5190f4308619e0f446d95f5515eef4a814dbad0bcebbbbc7b25a8\n",
      "Copying blob sha256:911ea9f2bd51e53a455297e0631e18a72a86d7e2c8e1807176e80f991bde5d64\n",
      "Copying blob sha256:27b0a22ee906271a6ce9ddd1754fdd7d3b59078e0b57b6cc054c7ed7ac301587\n",
      "Copying blob sha256:8584d51a9262f9a3a436dea09ba40fa50f85802018f9bd299eee1bf538481077\n",
      "Copying blob sha256:2756ef5f69a5190f4308619e0f446d95f5515eef4a814dbad0bcebbbbc7b25a8\n",
      "Copying blob sha256:74ca45178655a5c9b4a372bb131e0e6a563074c81321f9178fd06bc9847f6559\n",
      "Copying blob sha256:955615a668ce169f8a1443fc6b6e6215f43fe0babfb4790712a2d3171f34d366\n",
      "Copying blob sha256:911ea9f2bd51e53a455297e0631e18a72a86d7e2c8e1807176e80f991bde5d64\n",
      "Copying blob sha256:27b0a22ee906271a6ce9ddd1754fdd7d3b59078e0b57b6cc054c7ed7ac301587\n",
      "Copying blob sha256:8584d51a9262f9a3a436dea09ba40fa50f85802018f9bd299eee1bf538481077\n",
      "Copying config sha256:378164a392dd65d97fda64be77d39c767f3e6579f7347d311467b40a3e246a10\n",
      "Writing manifest to image destination\n",
      "Storing signatures\n",
      "STEP 2/6: WORKDIR /usr/src/helloworld\n",
      "--> 4ad35b40853\n",
      "STEP 3/6: COPY . .\n",
      "--> 83e80b75e92\n",
      "STEP 4/6: RUN cargo build --release\n",
      "   Compiling helloworld v0.1.0 (/usr/src/helloworld)\n",
      "    Finished release [optimized] target(s) in 1.00s\n",
      "--> f5d122d3a3c\n",
      "STEP 5/6: RUN cargo install --path .\n",
      "  Installing helloworld v0.1.0 (/usr/src/helloworld)\n",
      "   Compiling helloworld v0.1.0 (/usr/src/helloworld)\n",
      "    Finished release [optimized] target(s) in 0.78s\n",
      "  Installing /usr/local/cargo/bin/helloworld\n",
      "   Installed package `helloworld v0.1.0 (/usr/src/helloworld)` (executable `helloworld`)\n",
      "--> 3ecdbe7032b\n",
      "STEP 6/6: CMD [\"/usr/local/cargo/bin/helloworld\"]\n",
      "COMMIT helloworld:v0.1.0\n",
      "--> 1207419edd4\n",
      "Successfully tagged localhost/helloworld:v0.1.0\n",
      "1207419edd4b05d410812632c587f6351b141ebff118c029065f21af6f134b7e\n"
     ]
    }
   ],
   "metadata": {}
  },
  {
   "cell_type": "code",
   "execution_count": 31,
   "source": [
    "!podman images"
   ],
   "outputs": [
    {
     "output_type": "stream",
     "name": "stdout",
     "text": [
      "REPOSITORY              TAG         IMAGE ID      CREATED       SIZE\n",
      "localhost/helloworld    v0.1.0      1207419edd4b  12 hours ago  1.28 GB\n",
      "docker.io/library/rust  1.55.0      378164a392dd  2 days ago    1.27 GB\n"
     ]
    }
   ],
   "metadata": {}
  },
  {
   "cell_type": "code",
   "execution_count": 32,
   "source": [
    "!podman run --name helloworld --rm helloworld:v0.1.0"
   ],
   "outputs": [
    {
     "output_type": "stream",
     "name": "stdout",
     "text": [
      "Hello, world!\n"
     ]
    }
   ],
   "metadata": {}
  },
  {
   "cell_type": "code",
   "execution_count": 33,
   "source": [
    "!cd helloworld ; podman build --tag helloworld:v0.2.0 --file Dockerfile.slim ."
   ],
   "outputs": [
    {
     "output_type": "stream",
     "name": "stdout",
     "text": [
      "STEP 1/6: FROM docker.io/library/rust:1.55.0-alpine3.14\n",
      "Trying to pull docker.io/library/rust:1.55.0-alpine3.14...\n",
      "Getting image source signatures\n",
      "Copying blob sha256:922454686f1ed186a1f1ecf76b947b3b16125d09227ba5d5736ce77c72941ce0\n",
      "Copying blob sha256:a0d0a0d46f8b52473982a3c466318f479767577551a53ffc9074c9fa7035982e\n",
      "Copying blob sha256:d4ea2bb3df1724da0bb9bbf8d43f7a5b7192610627c590c2fd4b8e0770230cbf\n",
      "Copying blob sha256:d4ea2bb3df1724da0bb9bbf8d43f7a5b7192610627c590c2fd4b8e0770230cbf\n",
      "Copying blob sha256:a0d0a0d46f8b52473982a3c466318f479767577551a53ffc9074c9fa7035982e\n",
      "Copying blob sha256:922454686f1ed186a1f1ecf76b947b3b16125d09227ba5d5736ce77c72941ce0\n",
      "Copying config sha256:ac41586fb44e3aa14cee23647a0d7257d86f4a549634453ab95497bd24eff193\n",
      "Writing manifest to image destination\n",
      "Storing signatures\n",
      "STEP 2/6: WORKDIR /usr/src/helloworld\n",
      "--> 480f2a6ea05\n",
      "STEP 3/6: COPY . .\n",
      "--> 1860244e360\n",
      "STEP 4/6: RUN cargo build --release\n",
      "   Compiling helloworld v0.1.0 (/usr/src/helloworld)\n",
      "    Finished release [optimized] target(s) in 1.11s\n",
      "--> 0ee3a153b7b\n",
      "STEP 5/6: RUN cargo install --path .\n",
      "  Installing helloworld v0.1.0 (/usr/src/helloworld)\n",
      "   Compiling helloworld v0.1.0 (/usr/src/helloworld)\n",
      "    Finished release [optimized] target(s) in 0.53s\n",
      "  Installing /usr/local/cargo/bin/helloworld\n",
      "   Installed package `helloworld v0.1.0 (/usr/src/helloworld)` (executable `helloworld`)\n",
      "--> 941a12397d6\n",
      "STEP 6/6: CMD [\"/usr/local/cargo/bin/helloworld\"]\n",
      "COMMIT helloworld:v0.2.0\n",
      "--> 62355461603\n",
      "Successfully tagged localhost/helloworld:v0.2.0\n",
      "62355461603acf01ed62df7828f3b59076290f5703795d74f49bef57a1744f52\n"
     ]
    }
   ],
   "metadata": {}
  },
  {
   "cell_type": "code",
   "execution_count": 34,
   "source": [
    "!cd helloworld ; podman build --tag helloworld:v0.3.0 --file Dockerfile.slim-staged ."
   ],
   "outputs": [
    {
     "output_type": "stream",
     "name": "stdout",
     "text": [
      "STEP 1/6: FROM docker.io/library/rust:1.55.0-alpine3.14\n",
      "STEP 2/6: WORKDIR /usr/src/helloworld\n",
      "--> Using cache 480f2a6ea0555ca38f34d6a2949447caf1dd0adf62e6d681dce715ed793ea85f\n",
      "--> 480f2a6ea05\n",
      "STEP 3/6: COPY . .\n",
      "--> Using cache 1860244e3609276ed56e2775f4717c23581b6b075774fb96d5c4494302ec2c8d\n",
      "--> 1860244e360\n",
      "STEP 4/6: RUN cargo build --release\n",
      "--> Using cache 0ee3a153b7bfd68cde9043ed801a7fb16503c1866bb7a62407d0adba99ee7545\n",
      "--> 0ee3a153b7b\n",
      "STEP 5/6: RUN cargo install --path .\n",
      "--> Using cache 941a12397d6c41507025230baf7aaaa233c99c84e6aaece58f88def0040be06b\n",
      "--> 941a12397d6\n",
      "STEP 6/6: CMD [\"/usr/local/cargo/bin/helloworld\"]\n",
      "--> Using cache 62355461603acf01ed62df7828f3b59076290f5703795d74f49bef57a1744f52\n",
      "COMMIT helloworld:v0.3.0\n",
      "--> 62355461603\n",
      "Successfully tagged localhost/helloworld:v0.3.0\n",
      "Successfully tagged localhost/helloworld:v0.2.0\n",
      "62355461603acf01ed62df7828f3b59076290f5703795d74f49bef57a1744f52\n"
     ]
    }
   ],
   "metadata": {}
  },
  {
   "cell_type": "code",
   "execution_count": 35,
   "source": [
    "!podman images"
   ],
   "outputs": [
    {
     "output_type": "stream",
     "name": "stdout",
     "text": [
      "REPOSITORY              TAG                IMAGE ID      CREATED       SIZE\n",
      "localhost/helloworld    v0.3.0             62355461603a  12 hours ago  880 MB\n",
      "localhost/helloworld    v0.2.0             62355461603a  12 hours ago  880 MB\n",
      "localhost/helloworld    v0.1.0             1207419edd4b  12 hours ago  1.28 GB\n",
      "docker.io/library/rust  1.55.0-alpine3.14  ac41586fb44e  2 days ago    868 MB\n",
      "docker.io/library/rust  1.55.0             378164a392dd  2 days ago    1.27 GB\n"
     ]
    }
   ],
   "metadata": {}
  },
  {
   "cell_type": "code",
   "execution_count": 36,
   "source": [
    "!podman run --name helloworld --rm helloworld:v0.3.0"
   ],
   "outputs": [
    {
     "output_type": "stream",
     "name": "stdout",
     "text": [
      "Hello, world!\n"
     ]
    }
   ],
   "metadata": {}
  }
 ],
 "metadata": {
  "interpreter": {
   "hash": "aee8b7b246df8f9039afb4144a1f6fd8d2ca17a180786b69acc140d282b71a49"
  },
  "kernelspec": {
   "name": "python3",
   "display_name": "Python 3.9.7 64-bit"
  },
  "language_info": {
   "codemirror_mode": {
    "name": "ipython",
    "version": 3
   },
   "file_extension": ".py",
   "mimetype": "text/x-python",
   "name": "python",
   "nbconvert_exporter": "python",
   "pygments_lexer": "ipython3",
   "version": "3.9.7"
  }
 },
 "nbformat": 4,
 "nbformat_minor": 5
}